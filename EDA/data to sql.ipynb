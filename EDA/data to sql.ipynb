{
 "cells": [
  {
   "cell_type": "code",
   "execution_count": 151,
   "id": "c7cbb88b",
   "metadata": {},
   "outputs": [],
   "source": [
    "import requests"
   ]
  },
  {
   "cell_type": "code",
   "execution_count": 152,
   "id": "e474135a",
   "metadata": {},
   "outputs": [],
   "source": [
    "import pandas as pd"
   ]
  },
  {
   "cell_type": "code",
   "execution_count": 153,
   "id": "d3b4c851",
   "metadata": {},
   "outputs": [],
   "source": [
    "import datetime"
   ]
  },
  {
   "cell_type": "code",
   "execution_count": 154,
   "id": "82b913c5",
   "metadata": {},
   "outputs": [],
   "source": [
    "from bs4 import BeautifulSoup"
   ]
  },
  {
   "cell_type": "code",
   "execution_count": null,
   "id": "5da6fd83",
   "metadata": {},
   "outputs": [],
   "source": []
  },
  {
   "cell_type": "code",
   "execution_count": null,
   "id": "713295b7",
   "metadata": {},
   "outputs": [],
   "source": []
  },
  {
   "cell_type": "markdown",
   "id": "11210643",
   "metadata": {},
   "source": [
    "# Get page url"
   ]
  },
  {
   "cell_type": "code",
   "execution_count": 155,
   "id": "7303454f",
   "metadata": {},
   "outputs": [],
   "source": [
    "url = 'https://www.bookdepository.com/top-new-releases'"
   ]
  },
  {
   "cell_type": "markdown",
   "id": "df6620be",
   "metadata": {},
   "source": [
    "# Send requests to html, get page info\n"
   ]
  },
  {
   "cell_type": "code",
   "execution_count": 156,
   "id": "7875cfc8",
   "metadata": {},
   "outputs": [],
   "source": [
    "page =requests.get(url)"
   ]
  },
  {
   "cell_type": "markdown",
   "id": "4638dc8e",
   "metadata": {},
   "source": [
    "# Pulling data out of HTML and XML files"
   ]
  },
  {
   "cell_type": "code",
   "execution_count": 157,
   "id": "3439ba65",
   "metadata": {},
   "outputs": [],
   "source": [
    "soup=BeautifulSoup(page.content,\"html.parser\")"
   ]
  },
  {
   "cell_type": "markdown",
   "id": "e4fdd990",
   "metadata": {},
   "source": [
    "# Give tage \"div\" where class =book-item"
   ]
  },
  {
   "cell_type": "code",
   "execution_count": 158,
   "id": "86a9bdca",
   "metadata": {},
   "outputs": [],
   "source": [
    "#books =soup.find_all('div',class_=\"block\")\n",
    "books = soup.find_all(\"div\", class_ = \"book-item\")"
   ]
  },
  {
   "cell_type": "code",
   "execution_count": null,
   "id": "55a0ff1d",
   "metadata": {},
   "outputs": [],
   "source": []
  },
  {
   "cell_type": "code",
   "execution_count": 159,
   "id": "055168fb",
   "metadata": {},
   "outputs": [
    {
     "name": "stdout",
     "output_type": "stream",
     "text": [
      "<div class=\"book-item\" itemscope=\"\" itemtype=\"http://schema.org/Book\">\n",
      "<div class=\"item-img\">\n",
      "<a href=\"/Ballad-Never-After-Stephanie-Garber/9781529380965\" itemprop=\"url\">\n",
      "<img alt=\"The Ballad of Never After\" src=\"https://d1w7fb2mkkr3kw.cloudfront.net/assets/images/book/mid/9781/5293/9781529380965.jpg\"/>\n",
      "</a>\n",
      "</div>\n",
      "<meta content=\"9781529380965\" itemprop=\"isbn\"/>\n",
      "<meta content=\"The Ballad of Never After\" itemprop=\"name\"/>\n",
      "<meta content=\"Stephanie Garber\" itemprop=\"contributor\"/>\n",
      "<div class=\"item-info\">\n",
      "<h3 class=\"title\">\n",
      "<a href=\"/Ballad-Never-After-Stephanie-Garber/9781529380965\">\n",
      "                    The Ballad of Never After<br/>\n",
      "</a>\n",
      "</h3>\n",
      "<p class=\"author\">\n",
      "<a href=\"/author/Stephanie-Garber\" itemprop=\"author\">Stephanie Garber</a>\n",
      "</p>\n",
      "<div class=\"rating-wrap\">\n",
      "<a aria-label=\"Ratings for The Ballad of Never After\" href=\"/Ballad-Never-After-Stephanie-Garber/9781529380965\">\n",
      "<div class=\"stars\">\n",
      "<span class=\"star full-star\"></span>\n",
      "<span class=\"star full-star\"></span>\n",
      "<span class=\"star full-star\"></span>\n",
      "<span class=\"star full-star\"></span>\n",
      "<span class=\"star half-star\"></span>\n",
      "</div>\n",
      "</a>\n",
      "</div>\n",
      "<p class=\"published\" itemprop=\"datePublished\">13 Sep 2022</p>\n",
      "<p class=\"format\">Hardback</p>\n",
      "<div class=\"price-wrap\">\n",
      "<p class=\"price\">\n",
      "<span class=\"sale-price\">₹1,479.93</span>\n",
      "                        \n",
      "                             <span class=\"rrp\">₹1,557.45</span>\n",
      "</p>\n",
      "<p class=\"price-save\">\n",
      "<span>\n",
      "                                        Save ₹77.52</span>\n",
      "</p>\n",
      "</div>\n",
      "</div>\n",
      "<div class=\"item-actions\">\n",
      "<div class=\"btn-wrap\">\n",
      "<a class=\"btn btn-sm btn-primary add-to-basket\" data-currency=\"INR\" data-isbn=\"9781529380965\" data-price=\"1479.93\" data-ref=\"carousel\" data-show-related=\"false\" href=\"/basket/addisbn/isbn13/9781529380965\" rel=\"nofollow\">\n",
      "                        Add to basket</a>\n",
      "</div>\n",
      "</div>\n",
      "</div>\n"
     ]
    }
   ],
   "source": [
    "print(books[0])"
   ]
  },
  {
   "cell_type": "markdown",
   "id": "f58ae6cb",
   "metadata": {},
   "source": [
    "# Extract data"
   ]
  },
  {
   "cell_type": "code",
   "execution_count": 160,
   "id": "5c252378",
   "metadata": {},
   "outputs": [],
   "source": [
    "book_title = books[0].find(\"meta\", {\"itemprop\":\"name\"}).get(\"content\")"
   ]
  },
  {
   "cell_type": "code",
   "execution_count": 161,
   "id": "063d87fb",
   "metadata": {},
   "outputs": [
    {
     "name": "stdout",
     "output_type": "stream",
     "text": [
      "The Ballad of Never After\n"
     ]
    }
   ],
   "source": [
    "print(book_title)"
   ]
  },
  {
   "cell_type": "code",
   "execution_count": 162,
   "id": "c181f310",
   "metadata": {},
   "outputs": [],
   "source": [
    "book_author = books[0].find(\"meta\", {\"itemprop\":\"contributor\"}).get(\"content\")"
   ]
  },
  {
   "cell_type": "code",
   "execution_count": 163,
   "id": "a3c8f5a3",
   "metadata": {},
   "outputs": [
    {
     "name": "stdout",
     "output_type": "stream",
     "text": [
      "Stephanie Garber\n"
     ]
    }
   ],
   "source": [
    "print(book_author)\n"
   ]
  },
  {
   "cell_type": "code",
   "execution_count": 164,
   "id": "78d293ce",
   "metadata": {},
   "outputs": [
    {
     "name": "stdout",
     "output_type": "stream",
     "text": [
      "The Ballad of Never After\n"
     ]
    }
   ],
   "source": [
    "name=books[0].find(\"meta\", {\"itemprop\":\"name\"}).get(\"content\")\n",
    "print(name)"
   ]
  },
  {
   "cell_type": "code",
   "execution_count": 165,
   "id": "a4664e9a",
   "metadata": {},
   "outputs": [],
   "source": [
    "book_format = books[0].find(\"p\", class_ = \"format\").text"
   ]
  },
  {
   "cell_type": "code",
   "execution_count": 166,
   "id": "f2a42850",
   "metadata": {},
   "outputs": [
    {
     "name": "stdout",
     "output_type": "stream",
     "text": [
      "Hardback\n"
     ]
    }
   ],
   "source": [
    "print(book_format)"
   ]
  },
  {
   "cell_type": "code",
   "execution_count": 167,
   "id": "b43142be",
   "metadata": {},
   "outputs": [],
   "source": [
    "book_published = books[0].find(\"p\", class_ = \"published\").text"
   ]
  },
  {
   "cell_type": "code",
   "execution_count": 168,
   "id": "ddfcbf68",
   "metadata": {},
   "outputs": [
    {
     "name": "stdout",
     "output_type": "stream",
     "text": [
      "13 Sep 2022\n"
     ]
    }
   ],
   "source": [
    "print(book_published)"
   ]
  },
  {
   "cell_type": "code",
   "execution_count": 169,
   "id": "b9f8a1c1",
   "metadata": {},
   "outputs": [],
   "source": [
    "book_isbn = books[0].find(\"meta\", {\"itemprop\":\"isbn\"}).get(\"content\")"
   ]
  },
  {
   "cell_type": "code",
   "execution_count": 170,
   "id": "1ff88284",
   "metadata": {},
   "outputs": [
    {
     "name": "stdout",
     "output_type": "stream",
     "text": [
      "9781529380965\n"
     ]
    }
   ],
   "source": [
    "print(book_isbn)"
   ]
  },
  {
   "cell_type": "code",
   "execution_count": 171,
   "id": "a274be13",
   "metadata": {},
   "outputs": [],
   "source": [
    "book_currency = books[0].find(\"a\", class_ = \"btn btn-sm btn-primary add-to-basket\").get(\"data-currency\")\n"
   ]
  },
  {
   "cell_type": "code",
   "execution_count": 172,
   "id": "0534d4b5",
   "metadata": {},
   "outputs": [
    {
     "name": "stdout",
     "output_type": "stream",
     "text": [
      "INR\n"
     ]
    }
   ],
   "source": [
    "print(book_currency)"
   ]
  },
  {
   "cell_type": "code",
   "execution_count": 173,
   "id": "1d33d8fc",
   "metadata": {},
   "outputs": [],
   "source": [
    "book_price = books[0].find(\"a\", class_ = \"btn btn-sm btn-primary add-to-basket\").get(\"data-price\")"
   ]
  },
  {
   "cell_type": "code",
   "execution_count": 174,
   "id": "0ee0d7e5",
   "metadata": {},
   "outputs": [
    {
     "name": "stdout",
     "output_type": "stream",
     "text": [
      "1479.93\n"
     ]
    }
   ],
   "source": [
    "print(book_price)"
   ]
  },
  {
   "cell_type": "markdown",
   "id": "577b4422",
   "metadata": {},
   "source": [
    "# Etract data all data"
   ]
  },
  {
   "cell_type": "code",
   "execution_count": 175,
   "id": "b82e5bc2",
   "metadata": {},
   "outputs": [
    {
     "name": "stdout",
     "output_type": "stream",
     "text": [
      "The Ballad of Never After Stephanie Garber Hardback 13 Sep 2022 9781529380965 INR 1479.93\n",
      "Love on the Brain Ali Hazelwood Paperback 23 Aug 2022 9781408725771 INR 744.11\n",
      "Good Inside Dr Becky Kennedy Paperback 15 Sep 2022 9780008505547 INR 1176.19\n",
      "The American Roommate Experiment Elena Armas Paperback 06 Sep 2022 9781398515642 INR 732.53\n",
      "The Ink Black Heart Robert Galbraith Hardback 30 Aug 2022 9780751584202 INR 2417.13\n",
      "Fairy Tale Stephen King Hardback 06 Sep 2022 9781399705417 INR 2164.27\n",
      "The Dragon's Promise Elizabeth Lim Hardback 30 Aug 2022 9781529356786 INR 1489.63\n",
      "The Sun, the Sea and the Stars Iulia Bochis Hardback 01 Sep 2022 9781529149678 INR 1316.44\n",
      "What If?2 Randall Munroe Hardback 13 Sep 2022 9781473680623 INR 1661.03\n",
      "The Final Gambit Jennifer Lynn Barnes Paperback 01 Sep 2022 9780241573631 INR 786.54\n",
      "From Lukov with Love Mariana Zapata Paperback 30 Aug 2022 9781035402823 INR 871.79\n",
      "Jujutsu Kaisen, Vol. 17 Gege Akutami Paperback 15 Sep 2022 9781974732333 INR 565.8\n",
      "The Day I Got Trapped In My Brain Amy Huberman Paperback 01 Sep 2022 9780702314643 INR 669.38\n",
      "Lessons Ian McEwan Hardback 13 Sep 2022 9781787333970 INR 1945.86\n",
      "Fairy Tale Stephen King Hardback 06 Sep 2022 9781668002179 INR 2679.6\n",
      "The Vegan Chinese Kitchen Hannah Che Hardback 13 Sep 2022 9780593139707 INR 2673.75\n",
      "One Piece, Vol. 100 Eiichiro Oda Paperback 01 Sep 2022 9781974732173 INR 588.4\n",
      "Expected Goals Rory Smith Hardback 01 Sep 2022 9780008484033 INR 1548.62\n",
      "This Savage Song collectors hardback V.E. Schwab Hardback 08 Sep 2022 9781803362144 INR 1534.31\n",
      "One Jamie Oliver Hardback 01 Sep 2022 9780241431108 INR 2788.05\n",
      "The Last Colony Philippe Sands Hardback 25 Aug 2022 9781474618120 INR 1186.28\n",
      "Girls That Invest: Your Guide to Financial Independence through Shares and Stocks Simran Kaur Paperback 29 Aug 2022 9781119893783 INR 1100.91\n",
      "Agatha Christie Lucy Worsley Hardback 08 Sep 2022 9781529303872 INR 1944.56\n",
      "Spray Nation Martha Cooper Hardback 14 Sep 2022 9783791388748 INR 3445.71\n",
      "The Story of Art without Men Katy Hessel Hardback 08 Sep 2022 9781529151145 INR 3280.9\n",
      "Ruination Anthony Reynolds Hardback 06 Sep 2022 9780316469050 INR 2583.29\n",
      "The Trap David Icke Paperback 01 Sep 2022 9781838415327 INR 1251.93\n",
      "Stone Blind Natalie Haynes Hardback 15 Sep 2022 9781529061475 INR 1811.32\n",
      "Holding the Line Geoffrey Berman Hardback 15 Sep 2022 9780593300299 INR 2290.76\n",
      "What We Owe The Future WILLIAM MACASKILL Hardback 01 Sep 2022 9780861542505 INR 1581.36\n",
      "Therapy Game Restart, Vol. 2 Meguru Hinohara Paperback 15 Sep 2022 9781974732241 INR 642.44\n",
      "Fantastic Four: Full Circle Alex Ross Hardback 15 Sep 2022 9781419761676 INR 2144.61\n",
      "The Baddies Julia Donaldson Hardback 01 Sep 2022 9780702303517 INR 1219.04\n",
      "Star Wars: The High Republic Adventures Vol. 3 Daniel Jose Older Paperback 15 Sep 2022 9781804910535 INR 1114.78\n",
      "Magnificent Rebels Andrea Wulf Hardback 01 Sep 2022 9781529392746 INR 1957.91\n",
      "The Ballad of Never After Stephanie Garber Hardback 13 Sep 2022 9781529380965 INR 1479.93\n",
      "The American Roommate Experiment Elena Armas Paperback 06 Sep 2022 9781398515642 INR 732.53\n",
      "The Ink Black Heart Robert Galbraith Hardback 30 Aug 2022 9780751584202 INR 2417.13\n",
      "Fairy Tale Stephen King Hardback 06 Sep 2022 9781399705417 INR 2164.27\n",
      "From Lukov with Love Mariana Zapata Paperback 30 Aug 2022 9781035402823 INR 871.79\n",
      "The Day I Got Trapped In My Brain Amy Huberman Paperback 01 Sep 2022 9780702314643 INR 669.38\n",
      "Lessons Ian McEwan Hardback 13 Sep 2022 9781787333970 INR 1945.86\n",
      "Stone Blind Natalie Haynes Hardback 15 Sep 2022 9781529061475 INR 1811.32\n",
      "Lonely Castle in the Mirror Mizuki Tsujimura Paperback 08 Sep 2022 9781529176667 INR 814.64\n",
      "The Backstreets Perhat Tursun Paperback 13 Sep 2022 9780231202916 INR 1169.9\n",
      "The Marriage Portrait Maggie O'Farrell Hardback 30 Aug 2022 9781472223845 INR 2006.2\n",
      "The Bullet That Missed Richard Osman Hardback 15 Sep 2022 9780241512425 INR 1868.81\n",
      "Addicted To You Krista Ritchie Paperback 25 Aug 2022 9780593549476 INR 1224.34\n",
      "Carrie Soto Is Back Taylor Jenkins Reid Hardback 30 Aug 2022 9781529152128 INR 1649.89\n",
      "The Atlas Six Olivie Blake Paperback 15 Sep 2022 9781529095258 INR 1003.77\n",
      "Before Your Memory Fades Toshikazu Kawaguchi Hardback 01 Sep 2022 9781035004614 INR 1139.28\n",
      "The Queen Of Spades Alexander Pushkin Hardback 25 Aug 2022 9780241573761 INR 887.2\n",
      "The Partner Track Helen Wan Paperback 01 Sep 2022 9781800751293 INR 828.85\n",
      "Wolfsong TJ Klune Hardback 01 Sep 2022 9781035002139 INR 2059.93\n",
      "The Last Unicorn Peter S. Beagle Hardback 25 Aug 2022 9781399606967 INR 1691.83\n",
      "Stargazer Laurie Petrou Paperback 01 Sep 2022 9780857308221 INR 707.95\n",
      "Metamorphosis Franz Kafka Hardback 25 Aug 2022 9780241573730 INR 793.7\n",
      "Once Upon a Time in . . . Donnybrook Ross O'Carroll-Kelly Paperback 01 Sep 2022 9781844885527 INR 1340.18\n",
      "Luckiest Girl Alive Jessica Knoll Paperback 08 Sep 2022 9781529090444 INR 820.44\n",
      "A Song of Comfortable Chairs Alexander McCall Smith Hardback 01 Sep 2022 9781408714454 INR 1310.15\n",
      "A Not So Meet Cute Meghan Quinn Paperback 15 Sep 2022 9781405955799 INR 808.11\n",
      "The Lottery Shirley Jackson Hardback 25 Aug 2022 9780241590539 INR 863.56\n",
      "The Masque of the Red Death Edgar Allan Poe Hardback 25 Aug 2022 9780241573754 INR 781.37\n",
      "To Love Jason Thorn Ella Maise Paperback 01 Sep 2022 9781398521582 INR 736.65\n",
      "Thistlefoot Gennarose Nethercott Paperback 13 Sep 2022 9780593470220 INR 1232.7\n",
      "Lady Susan Jane Austen Hardback 25 Aug 2022 9780241582527 INR 781.37\n",
      "Hell Screen Ryunosuke Akutagawa Hardback 25 Aug 2022 9780241573693 INR 852.26\n",
      "To Hate Adam Connor Ella Maise Paperback 01 Sep 2022 9781398521568 INR 744.86\n",
      "Of Ghosts and Goblins Lafcadio Hearn Hardback 25 Aug 2022 9780241573723 INR 852.26\n",
      "Investments Unlimited Helen Beal Paperback 13 Sep 2022 9781950508532 INR 1346.47\n",
      "The Ballad of Never After Stephanie Garber Hardback 13 Sep 2022 9781529380965 INR 1479.93\n",
      "The Dragon's Promise Elizabeth Lim Hardback 30 Aug 2022 9781529356786 INR 1489.63\n",
      "The Final Gambit Jennifer Lynn Barnes Paperback 01 Sep 2022 9780241573631 INR 786.54\n",
      "The Day I Got Trapped In My Brain Amy Huberman Paperback 01 Sep 2022 9780702314643 INR 669.38\n",
      "Fantastic Four: Full Circle Alex Ross Hardback 15 Sep 2022 9781419761676 INR 2144.61\n",
      "The Baddies Julia Donaldson Hardback 01 Sep 2022 9780702303517 INR 1219.04\n",
      "Fighting Fantasy: The Secrets of Salamonis Steve Jackson Paperback 01 Sep 2022 9781407188492 INR 645.13\n",
      "The Final Gambit Jennifer Lynn Barnes Hardback 01 Sep 2022 9780316370950 INR 1649.77\n",
      "Fighting Fantasy: Shadow of the Giants Ian Livingstone Paperback 01 Sep 2022 9780702323096 INR 659.98\n",
      "The Animal Orchestra Plays Bach Sam Taplin Board book 01 Sep 2022 9781474997867 INR 1008.02\n",
      "Belladonna Adalyn Grace Hardback 30 Aug 2022 9780316158237 INR 1711.51\n",
      "Guarding the Invisible Dragons: A Branches Book (Dragon Masters #22) Tracey West Paperback 06 Sep 2022 9781338776904 INR 492.63\n",
      "A Venom Dark and Sweet Judy I Lin Hardback 23 Aug 2022 9781250767103 INR 1484.05\n",
      "The Ballad of Never After Stephanie Garber Hardback 13 Sep 2022 9781250268426 INR 1827.05\n",
      "Before Your Memory Fades Toshikazu Kawaguchi Hardback 01 Sep 2022 9781035004614 INR 1139.28\n",
      "Disney Princess: Storybook Collection Advent Calendar Autumn Publishing Paperback 31 Aug 2022 9781803684543 INR 2496.15\n",
      "The Sunbearer Trials Aiden Thomas Hardback 06 Sep 2022 9781250822130 INR 1583.62\n",
      "Mina and the Slayers Amy McCaw Paperback 01 Sep 2022 9781912979912 INR 908.81\n",
      "As Long As the Lemon Trees Grow Zoulfa Katouh Hardback 15 Sep 2022 9781526648525 INR 1225.13\n",
      "Star Wars: Crimson Reign Charles Soule Paperback 01 Sep 2022 9780785194682 INR 1038.71\n",
      "The Collectors Philip Pullman Hardback 15 Sep 2022 9780241475256 INR 650.16\n",
      "Minecraft Annual 2023 Mojang AB Hardback 01 Sep 2022 9780008495985 INR 1067.13\n",
      "The Writing Rope Joan Sedita Paperback 30 Aug 2022 9781681255897 INR 3449.66\n",
      "Spy School Project X Stuart Gibbs Hardback 06 Sep 2022 9781534479494 INR 1517.73\n",
      "What Lies Beyond the Veil Harper L. Woods Paperback 30 Aug 2022 9781399711685 INR 717.95\n",
      "The Hocus Pocus Spell Book Eric Geron Hardback 30 Aug 2022 9781368076692 INR 2193.32\n",
      "Nothing More to Tell Karen M. McManus Paperback 01 Sep 2022 9780241473689 INR 775.23\n",
      "A Silent Voice Complete Collector's Edition 2 Yoshitoki Oima Hardback 13 Sep 2022 9781646514069 INR 3785.59\n",
      "Mythogoria: Night Terrors Fabiana Attanasio Paperback 08 Sep 2022 9781250282194 INR 1054.96\n",
      "Iron Widow Xiran Jay Zhao Paperback 08 Sep 2022 9780861542116 INR 810.74\n",
      "Pages & Co.: The Treehouse Library Anna James Hardback 15 Sep 2022 9780008410858 INR 1180.4\n",
      "The Summer of Broken Rules K. L. Walther Paperback 01 Sep 2022 9781728210292 INR 1070.13\n",
      "Hocus Pocus: The Illustrated Novelization A W Jantha Hardback 30 Aug 2022 9781368076685 INR 2628.66\n",
      "Out of Your Mind Dani DiPirro Paperback 13 Sep 2022 9780593538388 INR 1069.72\n",
      "Key Player Kelly Yang Paperback 01 Sep 2022 9781913311346 INR 661.45\n",
      "The Ink Black Heart Robert Galbraith Hardback 30 Aug 2022 9780751584202 INR 2417.13\n",
      "Lessons Ian McEwan Hardback 13 Sep 2022 9781787333970 INR 1945.86\n",
      "Fairy Tale Stephen King Hardback 06 Sep 2022 9781668002179 INR 2679.6\n",
      "Holding the Line Geoffrey Berman Hardback 15 Sep 2022 9780593300299 INR 2290.76\n",
      "Lonely Castle in the Mirror Mizuki Tsujimura Paperback 08 Sep 2022 9781529176667 INR 814.64\n",
      "Fighting Fantasy: The Secrets of Salamonis Steve Jackson Paperback 01 Sep 2022 9781407188492 INR 645.13\n",
      "Fighting Fantasy: Shadow of the Giants Ian Livingstone Paperback 01 Sep 2022 9780702323096 INR 659.98\n",
      "The Bullet That Missed Richard Osman Hardback 15 Sep 2022 9780241512425 INR 1868.81\n",
      "Marple: Twelve New Stories Agatha Christie Hardback 15 Sep 2022 9780008467319 INR 1802.05\n",
      "Act of Oblivion Robert Harris Hardback 01 Sep 2022 9781529151756 INR 2033.94\n",
      "Blacksad: They All Fall Down - Part One Juan Diaz Canales Hardback 25 Aug 2022 9781506730578 INR 1528.88\n",
      "Marple: Twelve New Mysteries Agatha Christie Hardback 13 Sep 2022 9780063136052 INR 2169.89\n",
      "Stargazer Laurie Petrou Paperback 01 Sep 2022 9780857308221 INR 707.95\n"
     ]
    },
    {
     "name": "stdout",
     "output_type": "stream",
     "text": [
      "The Collectors Philip Pullman Hardback 15 Sep 2022 9780241475256 INR 650.16\n",
      "Triage X, Vol. 23 Shouji Sato Paperback 13 Sep 2022 9781975345471 INR 836.97\n",
      "Luckiest Girl Alive Jessica Knoll Paperback 08 Sep 2022 9781529090444 INR 820.44\n",
      "A Song of Comfortable Chairs Alexander McCall Smith Hardback 01 Sep 2022 9781408714454 INR 1310.15\n",
      "Killers of a Certain Age Deanna Raybourn Hardback 08 Sep 2022 9781399713108 INR 1594.39\n",
      "Hands Down Felix Francis Hardback 15 Sep 2022 9781471196652 INR 1558.46\n",
      "A Flicker in the Dark Stacy Willingham Paperback 01 Sep 2022 9780008454487 INR 756.36\n",
      "Ghost Town Kevin Chen Paperback 25 Aug 2022 9781787703919 INR 1133.65\n",
      "Sweet Dreams Anders Roslund Hardback 15 Sep 2022 9781787302471 INR 1541.27\n",
      "Pulp: The Process Edition Ed Brubaker Hardback 23 Aug 2022 9781534323025 INR 3013.3\n",
      "Fazbear Frights Graphic Novel Collection #1 Scott Cawthon Paperback 06 Sep 2022 9781338792676 INR 927.82\n",
      "The Butcher and the Wren Alaina Urquhart Hardback 13 Sep 2022 9780241610596 INR 1566.56\n",
      "The Life of Crime Martin Edwards Hardback 30 Aug 2022 9780008192426 INR 2626.38\n",
      "The Old Man Thomas Perry Paperback 01 Sep 2022 9781804710203 INR 747.37\n",
      "A Magic Steeped In Poison Judy I. Lin Paperback 06 Sep 2022 9781803362182 INR 809.97\n",
      "Fellstones Ramsey Campbell Paperback 13 Sep 2022 9781787587564 INR 802.3\n",
      "MoMo -the blood taker- Vol. 1 Akira Sugito Paperback 23 Aug 2022 9781638585312 INR 798.41\n",
      "Newburn, Volume 1 Chip Zdarsky Paperback 06 Sep 2022 9781534322394 INR 1112.39\n",
      "The Lost Girls of Willowbrook Ellen Marie Wiseman Paperback 30 Aug 2022 9781496715883 INR 1238.31\n",
      "In the Shadow of Queens Alison Weir Paperback 15 Sep 2022 9781472286291 INR 974.5\n",
      "Things We Do in the Dark Jennifer Hillier Hardback 19 Aug 2022 9781250763167 INR 1495.23\n",
      "This is the Night They Come For You Robert Goddard Paperback 01 Sep 2022 9780552178471 INR 867.04\n",
      "The Ballad of Never After Stephanie Garber Hardback 13 Sep 2022 9781529380965 INR 1479.93\n",
      "Fairy Tale Stephen King Hardback 06 Sep 2022 9781399705417 INR 2164.27\n",
      "The Dragon's Promise Elizabeth Lim Hardback 30 Aug 2022 9781529356786 INR 1489.63\n",
      "Fairy Tale Stephen King Hardback 06 Sep 2022 9781668002179 INR 2679.6\n",
      "This Savage Song collectors hardback V.E. Schwab Hardback 08 Sep 2022 9781803362144 INR 1534.31\n",
      "Ruination Anthony Reynolds Hardback 06 Sep 2022 9780316469050 INR 2583.29\n",
      "Stone Blind Natalie Haynes Hardback 15 Sep 2022 9781529061475 INR 1811.32\n",
      "Lonely Castle in the Mirror Mizuki Tsujimura Paperback 08 Sep 2022 9781529176667 INR 814.64\n",
      "Belladonna Adalyn Grace Hardback 30 Aug 2022 9781529367119 INR 1732.44\n",
      "Monstress, Volume 7: Devourer Marjorie Liu Paperback 13 Sep 2022 9781534323193 INR 1088.77\n",
      "The Very Secret Society of Irregular Witches Sangu Mandanna Hardback 23 Aug 2022 9781399709859 INR 1613.44\n",
      "The Undertaking of Hart and Mercy Megan Bannen Paperback 25 Aug 2022 9780356518664 INR 789.31\n",
      "Things Have Gotten Worse Since We Last Spoke And Other Misfortunes Eric LaRocca Hardback 06 Sep 2022 9781803361499 INR 1187.95\n",
      "The Atlas Six Olivie Blake Paperback 15 Sep 2022 9781529095258 INR 1003.77\n",
      "Before Your Memory Fades Toshikazu Kawaguchi Hardback 01 Sep 2022 9781035004614 INR 1139.28\n",
      "Ruby Fever Ilona Andrews Paperback 15 Sep 2022 9780062878397 INR 545.04\n",
      "Is It Wrong to Try to Pick Up Girls in a Dungeon?, Vol. 17 LN Fujino Omori Paperback 06 Sep 2022 9781975345655 INR 1297.3\n",
      "Wolfsong TJ Klune Hardback 01 Sep 2022 9781035002139 INR 2059.93\n",
      "The Last Unicorn Peter S. Beagle Hardback 25 Aug 2022 9781399606967 INR 1691.83\n",
      "The Collectors Philip Pullman Hardback 15 Sep 2022 9780241475256 INR 650.16\n",
      "The Complete Guide to Middle-earth Robert Foster Hardback 01 Sep 2022 9780008537814 INR 2967.07\n",
      "What Hunts Inside the Shadows Harper L Woods Paperback 30 Aug 2022 9798218055691 INR 1765.33\n",
      "Summertime Rendering Volume 6 (Paperback) Yasuki Tanaka Paperback 06 Sep 2022 9781772942378 INR 1856.58\n",
      "Summertime Rendering Volume 5 (Paperback) Yasuki Tanaka Paperback 06 Sep 2022 9781772942361 INR 1810.35\n",
      "What Lies Beyond the Veil Harper L. Woods Paperback 30 Aug 2022 9781399711685 INR 717.95\n",
      "The Lottery Shirley Jackson Hardback 25 Aug 2022 9780241590539 INR 863.56\n",
      "The Masque of the Red Death Edgar Allan Poe Hardback 25 Aug 2022 9780241573754 INR 781.37\n",
      "Thistlefoot Gennarose Nethercott Paperback 13 Sep 2022 9780593470220 INR 1232.7\n",
      "Delicious in Dungeon World Guide: The Adventurer's Bible Ryoko Kui Paperback 23 Aug 2022 9781975338664 INR 1074.7\n",
      "The Soul Drinkers Omnibus Ben Counter Paperback 15 Sep 2022 9781800261969 INR 1145.19\n",
      "Of Ghosts and Goblins Lafcadio Hearn Hardback 25 Aug 2022 9780241573723 INR 852.26\n",
      "Delicious in Dungeon, Vol. 11 Ryoko Kui Paperback 23 Aug 2022 9781975346720 INR 980.52\n",
      "Ledge Stacey McEwan Hardback 13 Sep 2022 9781915202161 INR 1600.58\n",
      "Malarkoi Alex Pheby Hardback 08 Sep 2022 9781913111304 INR 1758.59\n",
      "Titans of War Wilbur Smith Hardback 01 Sep 2022 9781838776329 INR 1591.55\n",
      "The Vegan Chinese Kitchen Hannah Che Hardback 13 Sep 2022 9780593139707 INR 2673.75\n",
      "One Jamie Oliver Hardback 01 Sep 2022 9780241431108 INR 2788.05\n",
      "Sweet Therapy Una Leonard Hardback 15 Sep 2022 9781399710480 INR 1969.22\n",
      "Bake Graham Herterich Hardback 08 Sep 2022 9781999379940 INR 1863.82\n",
      "Feeding Littles And Beyond Ali Maffucci Paperback 01 Sep 2022 9780593419243 INR 2530.68\n",
      "Cooking Jeremy Lee Hardback 01 Sep 2022 9780008156206 INR 3012.83\n",
      "The Almanac: A Seasonal Guide to 2023 Lia Leendertz Hardback 01 Sep 2022 9781856754637 INR 897.47\n",
      "Quick and Easy Gluten Free (The Sunday Times Bestseller) Becky Excell Hardback 25 Aug 2022 9781787139626 INR 2226.76\n",
      "Pasta Grannies: Comfort Cooking Vicky Bennison Hardback 15 Sep 2022 9781784885243 INR 2447.36\n",
      "What Every Woman Needs to Know About Her Gut Barbara Ryan Paperback 23 Aug 2022 9781529388268 INR 1195.63\n",
      "Moro Easy Samantha Clark Hardback 08 Sep 2022 9781529149593 INR 3002.05\n",
      "Simply Chinese Suzie Lee Hardback 13 Sep 2022 9781784885335 INR 2041.84\n",
      "The Anime Chef Cookbook Nadine Estero Hardback 06 Sep 2022 9781631068669 INR 2008.59\n",
      "Danielle Walker's Healthy in a Hurry: A Gluten-Free, Grain-Free & Dairy-Free Cookbook Danielle Walker Hardback 06 Sep 2022 9781984857668 INR 3407.36\n",
      "Food & Drink Logos  Paperback 01 Sep 2022 9781915392022 INR 671.21\n",
      "Eat Well for Less: Happy & Healthy Jo Scarratt-Jones Paperback 01 Sep 2022 9781785947841 INR 1635.44\n",
      "Mint Chocolate Murder Meri Allen Paperback 08 Sep 2022 9781250267085 INR 582.77\n",
      "I'm Not Scary PB Raahat Kaduji Paperback 01 Sep 2022 9780702312861 INR 693.66\n",
      "I'm Not Scary HB Raahat Kaduji Hardback 01 Sep 2022 9780702312854 INR 1177.95\n",
      "Deliciously Healthy Pregnancy Rhiannon Lambert Hardback 08 Sep 2022 9780241530566 INR 2072.66\n",
      "Soup Broth Bread Rachel Allen Hardback 01 Sep 2022 9780241486290 INR 2253.79\n",
      "Zeinas bröd : Piroger, pajer, pizzor, börek, röror, soppor Zeina Mourtada Hardback 13 Sep 2022 9789178874347 INR 2810.56\n",
      "Preparados, listos, ¡ÑAM! Laura Alvarez Paperback 08 Sep 2022 9788467066098 INR 1832.94\n",
      "Cocina un pescado Josh Niland Paperback 31 Aug 2022 9788408250739 INR 3618.61\n",
      "Menu Design in Europe Steven Heller Hardback 13 Sep 2022 9783836578738 INR 6540.36\n",
      "Simple Pasta: A Cookbook Odette Williams Hardback 30 Aug 2022 9781984859921 INR 2138.08\n",
      "Modern Bistro America's Test Kitchen America's Test Kitchen Hardback 06 Sep 2022 9781948703468 INR 2590.37\n",
      "Good Food Made Simple Leah Itsines Paperback 30 Aug 2022 9781922616081 INR 3965.84\n",
      "Drinking with the Valkyries Andrew Jefford Hardback 06 Sep 2022 9781913141325 INR 2117.03\n",
      "The Hairy Dieters' Simple Healthy Food Hairy Bikers Paperback 23 Aug 2022 9781841884356 INR 1370.28\n",
      "How Many Ways Can You Cook An Egg? Lizzie Mabbott Hardback 25 Aug 2022 9781800781160 INR 1517.43\n",
      "Masa Jorge Gaviria Hardback 15 Sep 2022 9781797209920 INR 2403.0\n",
      "Oren Oded Oren Hardback 15 Sep 2022 9781784884437 INR 2640.97\n",
      "The Cocktail Cabinet Zoe Burgess Hardback 06 Sep 2022 9781784727994 INR 1799.28\n",
      "Plant-Based Himalaya Babita Shrestha Hardback 06 Sep 2022 9781684351923 INR 3743.89\n",
      "Agatha Christie Lucy Worsley Hardback 08 Sep 2022 9781529303872 INR 1944.56\n",
      "Holding the Line Geoffrey Berman Hardback 15 Sep 2022 9780593300299 INR 2290.76\n",
      "Magnificent Rebels Andrea Wulf Hardback 01 Sep 2022 9781529392746 INR 1957.91\n",
      "The Yank John Crawley Paperback 06 Sep 2022 9781785374234 INR 1280.85\n",
      "We Don't Know Ourselves Fintan O'Toole Paperback 01 Sep 2022 9781784978341 INR 1322.02\n",
      "Moonology (TM) Diary 2023 Yasmin Boland Paperback 30 Aug 2022 9781788176583 INR 908.93\n",
      "You Are Enough 16-Month 2022-2023 Weekly/Monthly Planner Calendar Kate Allan Calendar 06 Sep 2022 9781524875756 INR 1004.73\n",
      "My Body Emily Ratajkowski Paperback 13 Sep 2022 9781529415919 INR 632.97\n",
      "The Wonder of Little Things Vince Copley Paperback 07 Sep 2022 9780733342448 INR 3330.59\n",
      "Landlines Raynor Winn Hardback 15 Sep 2022 9780241484562 INR 1632.53\n",
      "Breaking History Jared Kushner Hardback 01 Sep 2022 9780063221482 INR 1995.81\n",
      "They Called Me a Lioness Ahed Tamimi Hardback 06 Sep 2022 9780593134580 INR 1556.84\n",
      "Out of Your Mind Dani DiPirro Paperback 13 Sep 2022 9780593538388 INR 1069.72\n",
      "Escape Into Meaning Evan Puschak Hardback 30 Aug 2022 9781982163952 INR 1841.04\n",
      "Animal House James Brown Hardback 15 Sep 2022 9781787477902 INR 1936.02\n",
      "Red Roulette Desmond Shum Paperback 02 Sep 2022 9781398510388 INR 737.99\n",
      "May We Be Spared to Meet on Earth  Hardback 05 Sep 2022 9780228011392 INR 2803.57\n",
      "Martin McHugh: An Autobiography Martin McHugh Paperback 31 Aug 2022 9781910827505 INR 1615.52\n",
      "The Daughter of Auschwitz Tova Friedman Hardback 01 Sep 2022 9781529423464 INR 1532.18\n",
      "Toffee Apples and Quail Feathers Jennifer Worth Hardback 01 Sep 2022 9781399601870 INR 1082.97\n",
      "You Owe You Eric Thomas, PhD Hardback 13 Sep 2022 9780593234983 INR 2015.32\n",
      "The Man from the Future Ananyo Bhattacharya Paperback 25 Aug 2022 9780241398869 INR 896.18\n",
      "One Hundred Saturdays Michael Frank Hardback 06 Sep 2022 9781982167226 INR 1983.26\n",
      "Fifty Forgotten Books R. B. Russell Paperback 13 Sep 2022 9781913505509 INR 821.74\n",
      "Small Fires Rebecca May Johnson Hardback 25 Aug 2022 9781911590484 INR 1196.3\n",
      "This Band Has No Past Brian .J. Kramp Paperback 06 Sep 2022 9781911036876 INR 1459.69\n",
      "Who I Am Melanie C Hardback 15 Sep 2022 9781802793352 INR 1806.91\n",
      "Be Not Afraid of Love Mimi Zhu Paperback 07 Sep 2022 9781743799123 INR 1080.39\n",
      "There's Just One Problem... Brian Gewirtz Hardback 15 Sep 2022 9781538710531 INR 1931.48\n",
      "An Irish Atlantic Rainforest Eoghan Daltun Hardback 15 Sep 2022 9781399705271 INR 1469.67\n",
      "Love and Let Die John Higgs Hardback 15 Sep 2022 9781399600163 INR 2160.78\n",
      "The Daughter of Auschwitz Tova Friedman Paperback 06 Sep 2022 9781335449306 INR 1098.23\n",
      "Like a Rolling Stone Jann S Wenner Hardback 13 Sep 2022 9780316415194 INR 3009.01\n",
      "Charlie's Good Tonight Paul Sexton Hardback 15 Sep 2022 9780008546335 INR 1926.13\n",
      "The Life of Crime Martin Edwards Hardback 30 Aug 2022 9780008192426 INR 2626.38\n",
      "The Last Colony Philippe Sands Hardback 25 Aug 2022 9781474618120 INR 1186.28\n",
      "Agatha Christie Lucy Worsley Hardback 08 Sep 2022 9781529303872 INR 1944.56\n",
      "Magnificent Rebels Andrea Wulf Hardback 01 Sep 2022 9781529392746 INR 1957.91\n",
      "We Don't Know Ourselves Fintan O'Toole Paperback 01 Sep 2022 9781784978341 INR 1322.02\n",
      "Slouching Toward Utopia J. Bradford DeLong Hardback 06 Sep 2022 9780465019595 INR 2810.1\n",
      "Command Sir Lawrence Freedman Hardback 08 Sep 2022 9780241456996 INR 2821.83\n",
      "Heaven on Earth Emma J. Wells Hardback 01 Sep 2022 9781788541947 INR 2904.9\n",
      "Status And Culture W. David Marx Hardback 06 Sep 2022 9780593296707 INR 2245.57\n",
      "They Called Me a Lioness Ahed Tamimi Hardback 06 Sep 2022 9780593134580 INR 1556.84\n",
      "Apollo Remastered Andy Saunders Hardback 01 Sep 2022 9780241508695 INR 8753.34\n",
      "Colditz Ben MacIntyre Hardback 15 Sep 2022 9780241408520 INR 2156.29\n",
      "Making Sense of a United Ireland Brendan O'Leary Hardback 01 Sep 2022 9781844886050 INR 1849.3\n",
      "Titans of War Wilbur Smith Hardback 01 Sep 2022 9781838776329 INR 1591.55\n",
      "Red Roulette Desmond Shum Paperback 02 Sep 2022 9781398510388 INR 737.99\n",
      "August in Kabul Andrew Quilty Paperback 02 Sep 2022 9780522878769 INR 3198.82\n",
      "May We Be Spared to Meet on Earth  Hardback 05 Sep 2022 9780228011392 INR 2803.57\n",
      "Beowulf and the North before the Vikings Tom Shippey Paperback 31 Aug 2022 9781802700138 INR 1401.99\n",
      "Russia Sir Rodric Braithwaite Hardback 25 Aug 2022 9781800811881 INR 1276.91\n",
      "The Daughter of Auschwitz Tova Friedman Hardback 01 Sep 2022 9781529423464 INR 1532.18\n",
      "The Story of Russia Orlando Figes Hardback 01 Sep 2022 9781526631749 INR 2261.62\n",
      "Dunkirchen 1940 Robert Kershaw Hardback 06 Sep 2022 9781472854377 INR 1981.92\n",
      "Arctic Convoys 1942 Mark Lardas Paperback 15 Sep 2022 9781472852434 INR 1527.59\n",
      "Roman Army Units in the Eastern Provinces (2) Dr Raffaele D'Amato Paperback 15 Sep 2022 9781472850492 INR 1121.38\n",
      "Second City Richard Vinen Hardback 01 Sep 2022 9780241454534 INR 2274.44\n",
      "One Hundred Saturdays Michael Frank Hardback 06 Sep 2022 9781982167226 INR 1983.26\n",
      "In the Heat of the Midday Sun Steven Scragg Hardback 15 Sep 2022 9781801500975 INR 1534.78\n",
      "The Cinema House and the World Serge Daney Hardback 06 Sep 2022 9781635901610 INR 2597.87\n",
      "The Daughter of Auschwitz Tova Friedman Paperback 06 Sep 2022 9781335449306 INR 1098.23\n",
      "Grandes maricas de la historia Alvaro Sanjuan Book 15 Sep 2022 9788418051623 INR 1580.36\n",
      "Savoia-Marchetti S.79 Sparviero Luigino Caliaro Hardback 15 Sep 2022 9781906537593 INR 3386.21\n",
      "The Irish Boarding House Sandy Taylor Paperback 01 Sep 2022 9781803140834 INR 1020.91\n",
      "Last Day of School Jack Sheffield Paperback 08 Sep 2022 9781787635531 INR 1082.88\n",
      "Anglo-India and the End of Empire Uther Charlton-Stevens Hardback 08 Sep 2022 9781787383128 INR 2252.09\n",
      "Russia's Road to War with Ukraine Samir Puri Hardback 25 Aug 2022 9781785907708 INR 1717.8\n",
      "Harold Wilson Nick Thomas-Symonds Hardback 01 Sep 2022 9781474611954 INR 2362.3\n",
      "Jujutsu Kaisen, Vol. 17 Gege Akutami Paperback 15 Sep 2022 9781974732333 INR 565.8\n",
      "One Piece, Vol. 100 Eiichiro Oda Paperback 01 Sep 2022 9781974732173 INR 588.4\n"
     ]
    },
    {
     "name": "stdout",
     "output_type": "stream",
     "text": [
      "Therapy Game Restart, Vol. 2 Meguru Hinohara Paperback 15 Sep 2022 9781974732241 INR 642.44\n",
      "Fantastic Four: Full Circle Alex Ross Hardback 15 Sep 2022 9781419761676 INR 2144.61\n",
      "Star Wars: The High Republic Adventures Vol. 3 Daniel Jose Older Paperback 15 Sep 2022 9781804910535 INR 1114.78\n",
      "Black Lagoon, Vol. 12 Rei Hiroe Paperback 15 Sep 2022 9781974732098 INR 695.57\n",
      "Bleach 20th Anniversary Edition, Vol. 1  Paperback 01 Sep 2022 9781974735983 INR 556.55\n",
      "Dead Dead Demon's Dededede Destruction, Vol. 11 Inio Asano Paperback 15 Sep 2022 9781974730100 INR 826.36\n",
      "The Liminal Zone Junji Ito Hardback 01 Sep 2022 9781974726448 INR 1247.99\n",
      "Star Wars Vol. 4: Crimson Reign Charles Soule Paperback 13 Sep 2022 9781302926182 INR 1228.59\n",
      "Monstress, Volume 7: Devourer Marjorie Liu Paperback 13 Sep 2022 9781534323193 INR 1088.77\n",
      "Ducks Kate Beaton Hardback 15 Sep 2022 9781787330139 INR 2754.2\n",
      "Things Have Gotten Worse Since We Last Spoke And Other Misfortunes Eric LaRocca Hardback 06 Sep 2022 9781803361499 INR 1187.95\n",
      "Tokyo Revengers (Omnibus) Vol. 3-4 Ken Wakui Paperback 30 Aug 2022 9781638585725 INR 1477.98\n",
      "Komi Can't Communicate, Vol. 20 Tomohito Oda Paperback 15 Sep 2022 9781974731039 INR 567.85\n",
      "Seaside Stranger Vol. 4: Harukaze no Etranger Kii Kanna Paperback 30 Aug 2022 9781638586142 INR 887.59\n",
      "Blacksad: They All Fall Down - Part One Juan Diaz Canales Hardback 25 Aug 2022 9781506730578 INR 1528.88\n",
      "The Way of the Househusband, Vol. 8 Kousuke Oono Paperback 15 Sep 2022 9781974732234 INR 723.31\n",
      "Blue Lock 2 Muneyuki Kaneshiro Paperback 30 Aug 2022 9781646516551 INR 946.69\n",
      "Star Wars: Crimson Reign Charles Soule Paperback 01 Sep 2022 9780785194682 INR 1038.71\n",
      "Triage X, Vol. 23 Shouji Sato Paperback 13 Sep 2022 9781975345471 INR 836.97\n",
      "The Other World's Books Depend on the Bean Counter, Vol. 2 Kazuki Irodori Paperback 30 Aug 2022 9781975345143 INR 805.78\n",
      "Sasaki and Miyano, Vol. 6 Shou Harusono Paperback 23 Aug 2022 9781975341923 INR 922.89\n",
      "Sakamoto Days, Vol. 3 Yuto Suzuki Paperback 15 Sep 2022 9781974732197 INR 569.9\n",
      "Summertime Rendering Volume 6 (Paperback) Yasuki Tanaka Paperback 06 Sep 2022 9781772942378 INR 1856.58\n",
      "Summertime Rendering Volume 5 (Paperback) Yasuki Tanaka Paperback 06 Sep 2022 9781772942361 INR 1810.35\n",
      "A Silent Voice Complete Collector's Edition 2 Yoshitoki Oima Hardback 13 Sep 2022 9781646514069 INR 3785.59\n",
      "Blue Period 8 Tsubasa Yamaguchi Paperback 23 Aug 2022 9781646512928 INR 803.92\n",
      "Delicious in Dungeon World Guide: The Adventurer's Bible Ryoko Kui Paperback 23 Aug 2022 9781975338664 INR 1074.7\n",
      "One Piece (Omnibus Edition), Vol. 32 Eiichiro Oda Paperback 15 Sep 2022 9781974724062 INR 896.5\n",
      "The Apothecary Diaries 6  Paperback 15 Sep 2022 9781646090860 INR 812.93\n",
      "Into the Deepest, Most Unknowable Dungeon Vol. 4 Kakeru Paperback 13 Sep 2022 9781638583622 INR 758.35\n",
      "Fantastic Four Epic Collection: Annihilus Revealed Roy Thomas Paperback 01 Sep 2022 9781302933593 INR 3418.83\n",
      "Delicious in Dungeon, Vol. 11 Ryoko Kui Paperback 23 Aug 2022 9781975346720 INR 980.52\n",
      "Kaguya-sama: Love Is War, Vol. 23 Aka Akasaka Paperback 01 Sep 2022 9781974732180 INR 567.85\n",
      "Good Inside Dr Becky Kennedy Paperback 15 Sep 2022 9780008505547 INR 1176.19\n",
      "The Sun, the Sea and the Stars Iulia Bochis Hardback 01 Sep 2022 9781529149678 INR 1316.44\n",
      "Girls That Invest: Your Guide to Financial Independence through Shares and Stocks Simran Kaur Paperback 29 Aug 2022 9781119893783 INR 1100.91\n",
      "A Book That Loves You Irene Smit Hardback 13 Sep 2022 9781523513192 INR 1674.26\n",
      "Hagitude Sharon Blackie Hardback 06 Sep 2022 9781914613098 INR 1460.48\n",
      "Moonology (TM) Diary 2023 Yasmin Boland Paperback 30 Aug 2022 9781788176583 INR 908.93\n",
      "You Are Enough 16-Month 2022-2023 Weekly/Monthly Planner Calendar Kate Allan Calendar 06 Sep 2022 9781524875756 INR 1004.73\n",
      "Year of Yoga Kassandra Reinhardt Paperback 10 Sep 2022 9781681888453 INR 1660.48\n",
      "The Complete Guide to Memory Richard Restak Hardback 15 Sep 2022 9781510770270 INR 1852.67\n",
      "The Guitar Circle Robert Fripp Hardback 01 Sep 2022 9781916153011 INR 4109.23\n",
      "Courage Is Calling Ryan Holiday Paperback 08 Sep 2022 9781788166287 INR 499.65\n",
      "Landlines Raynor Winn Hardback 15 Sep 2022 9780241484562 INR 1632.53\n",
      "Out of Your Mind Dani DiPirro Paperback 13 Sep 2022 9780593538388 INR 1069.72\n",
      "The 30-Day Sketchbook Project Minnie Small Paperback 08 Sep 2022 9781645675846 INR 1181.2\n",
      "Rules of Everything Richard Templar Paperback 14 Sep 2022 9781292432120 INR 1064.3\n",
      "The Status Game Will Storr Paperback 13 Sep 2022 9780008354671 INR 783.41\n",
      "Getting Along Amy Gallo Hardback 13 Sep 2022 9781647821067 INR 1755.19\n",
      "You Owe You Eric Thomas, PhD Hardback 13 Sep 2022 9780593234983 INR 2015.32\n",
      "I'm So Happy You're Here Liz Climo Hardback 15 Sep 2022 9780008520854 INR 853.21\n",
      "Be Not Afraid of Love Mimi Zhu Paperback 07 Sep 2022 9781743799123 INR 1080.39\n",
      "The Unofficial Guide to Walt Disney World 2023 Bob Sehlinger Paperback 15 Sep 2022 9781628091298 INR 2083.43\n",
      "Breath as Prayer Jennifer Tucker Hardback 13 Sep 2022 9781400234585 INR 2065.62\n",
      "Resilient Hope Christine Caine Hardback 01 Sep 2022 9780310457961 INR 1676.99\n",
      "Happier Hour Cassie Holmes Hardback 06 Sep 2022 9781982148805 INR 2071.77\n",
      "I Will Teach You to Be Rich: The Journal Ramit Sethi Paperback 13 Sep 2022 9781523516872 INR 1576.36\n",
      "Change Your Questions, Change Your Life, 4th Edition Marilee Adams, Ph.D. Paperback 23 Aug 2022 9781523091034 INR 1599.4\n",
      "Beyond Grief Pippa Vosper Hardback 25 Aug 2022 9781472292001 INR 1367.51\n",
      "Homestead Survival Marty Raney Paperback 13 Sep 2022 9780593420683 INR 1542.89\n",
      "Big Dress Energy Shakaila Forbes-Bell Hardback 15 Sep 2022 9780349431840 INR 1613.44\n",
      "Como Hacer Que Te Pasen Cosas Buenas Marian Rojas Paperback 23 Aug 2022 9786070756924 INR 1247.77\n",
      "The Plant Lover's Backyard Forest Garden Pippa Chapman Paperback 01 Sep 2022 9781856232876 INR 1335.15\n",
      "Self-Care in Underwear Ton Mak Hardback 01 Sep 2022 9781797214214 INR 1091.71\n",
      "No Bullsh*t Leadership Chris Hirst Paperback 06 Sep 2022 9781788162531 INR 712.61\n",
      "2023 Instant Happy Notes Boxed Calendar Sourcebooks Calendar 01 Sep 2022 9781728249995 INR 1468.69\n",
      "Untamed Spirit: Animal Oracle Francesca Matteoni Mixed media product 19 Aug 2022 9781590035313 INR 1814.83\n",
      "Expected Goals Rory Smith Hardback 01 Sep 2022 9780008484033 INR 1548.62\n",
      "The Last Colony Philippe Sands Hardback 25 Aug 2022 9781474618120 INR 1186.28\n",
      "Girls That Invest: Your Guide to Financial Independence through Shares and Stocks Simran Kaur Paperback 29 Aug 2022 9781119893783 INR 1100.91\n",
      "Holding the Line Geoffrey Berman Hardback 15 Sep 2022 9780593300299 INR 2290.76\n",
      "Slouching Toward Utopia J. Bradford DeLong Hardback 06 Sep 2022 9780465019595 INR 2810.1\n",
      "The Wonder of Little Things Vince Copley Paperback 07 Sep 2022 9780733342448 INR 3330.59\n",
      "Command Sir Lawrence Freedman Hardback 08 Sep 2022 9780241456996 INR 2821.83\n",
      "Volt Rush Henry Sanderson Hardback 13 Sep 2022 9780861543755 INR 1446.68\n",
      "Courage Is Calling Ryan Holiday Paperback 08 Sep 2022 9781788166287 INR 499.65\n",
      "Investments Unlimited Helen Beal Paperback 13 Sep 2022 9781950508532 INR 1346.47\n",
      "Blind Spot Jon Clifton Hardback 13 Sep 2022 9781595622457 INR 1777.77\n",
      "Rules of Everything Richard Templar Paperback 14 Sep 2022 9781292432120 INR 1064.3\n",
      "The Status Game Will Storr Paperback 13 Sep 2022 9780008354671 INR 783.41\n",
      "Getting Along Amy Gallo Hardback 13 Sep 2022 9781647821067 INR 1755.19\n",
      "You Owe You Eric Thomas, PhD Hardback 13 Sep 2022 9780593234983 INR 2015.32\n",
      "Second City Richard Vinen Hardback 01 Sep 2022 9780241454534 INR 2274.44\n",
      "How to Avoid a Climate Disaster Bill Gates Paperback 23 Aug 2022 9780141993010 INR 817.01\n",
      "Fifty Forgotten Books R. B. Russell Paperback 13 Sep 2022 9781913505509 INR 821.74\n",
      "Who I Am Melanie C Hardback 15 Sep 2022 9781802793352 INR 1806.91\n",
      "Like a Rolling Stone Jann S Wenner Hardback 13 Sep 2022 9780316415194 INR 3009.01\n",
      "Servants of the Damned David Enrich Hardback 13 Sep 2022 9780063142176 INR 2363.2\n",
      "Dinners with Ruth Nina Totenberg Hardback 13 Sep 2022 9781982188085 INR 1902.0\n",
      "Happier Hour Cassie Holmes Hardback 06 Sep 2022 9781982148805 INR 2071.77\n",
      "Remainders of the Day Shaun Bythell Hardback 01 Sep 2022 9781800812420 INR 1324.33\n",
      "Pandamonium! Simon Williams Hardback 01 Sep 2022 9781788707282 INR 1476.49\n",
      "Change Your Questions, Change Your Life, 4th Edition Marilee Adams, Ph.D. Paperback 23 Aug 2022 9781523091034 INR 1599.4\n",
      "Design Journeys through Complex Systems Dr Peter Jones Paperback 30 Aug 2022 9789063696344 INR 2710.92\n",
      "Confronting Capitalism Vivek Chibber Paperback 30 Aug 2022 9781839762703 INR 864.66\n",
      "Surviving the Daily Grind Philip Coggan Hardback 01 Sep 2022 9781788169240 INR 1068.92\n",
      "No Bullsh*t Leadership Chris Hirst Paperback 06 Sep 2022 9781788162531 INR 712.61\n",
      "Understandable Economics Howard Yaruss Hardback 15 Sep 2022 9781633888364 INR 1954.73\n",
      "Learning to Build Bob Moesta Paperback 06 Sep 2022 9781544523989 INR 1086.65\n",
      "Change Your Questions, Change Your Life Workbook Marilee Adams, Ph.D. Paperback 23 Aug 2022 9781523091201 INR 1093.53\n",
      "The Hidden History of Neoliberalism Thom Hartmann Paperback 13 Sep 2022 9781523002320 INR 891.61\n",
      "In the Event of Love Courtney Kae Paperback 30 Aug 2022 9781472290229 INR 748.5\n",
      "What If?2 Randall Munroe Hardback 13 Sep 2022 9781473680623 INR 1661.03\n",
      "Expected Goals Rory Smith Hardback 01 Sep 2022 9780008484033 INR 1548.62\n",
      "What We Owe The Future WILLIAM MACASKILL Hardback 01 Sep 2022 9780861542505 INR 1581.36\n",
      "Hagitude Sharon Blackie Hardback 06 Sep 2022 9781914613098 INR 1460.48\n",
      "Between the Lines Michael Lawrence Paperback 22 Aug 2022 9798218007539 INR 2101.27\n",
      "Survival of the Richest Douglas Rushkoff Hardback 08 Sep 2022 9781914484704 INR 1516.18\n",
      "The Complete Guide to Memory Richard Restak Hardback 15 Sep 2022 9781510770270 INR 1852.67\n",
      "Volt Rush Henry Sanderson Hardback 13 Sep 2022 9780861543755 INR 1446.68\n",
      "Nomad Century Gaia Vince Hardback 25 Aug 2022 9780241522318 INR 1659.4\n",
      "Landlines Raynor Winn Hardback 15 Sep 2022 9780241484562 INR 1632.53\n",
      "The Almanac: A Seasonal Guide to 2023 Lia Leendertz Hardback 01 Sep 2022 9781856754637 INR 897.47\n",
      "Humanity's Moment Joelle Gergis Paperback 30 Aug 2022 9781760643232 INR 3184.15\n",
      "Being You Professor Anil Seth Paperback 01 Sep 2022 9780571337729 INR 849.37\n",
      "May We Be Spared to Meet on Earth  Hardback 05 Sep 2022 9780228011392 INR 2803.57\n",
      "An Inconvenient Apocalypse Wes Jackson Paperback 15 Sep 2022 9780268203665 INR 1529.09\n",
      "The Man from the Future Ananyo Bhattacharya Paperback 25 Aug 2022 9780241398869 INR 896.18\n",
      "How to Avoid a Climate Disaster Bill Gates Paperback 23 Aug 2022 9780141993010 INR 817.01\n",
      "An Irish Atlantic Rainforest Eoghan Daltun Hardback 15 Sep 2022 9781399705271 INR 1469.67\n",
      "Helgoland Carlo Rovelli Paperback 01 Sep 2022 9780141993270 INR 781.12\n",
      "How to Speak Whale Tom Mustill Hardback 15 Sep 2022 9780008363383 INR 1538.35\n",
      "Communication Between Honeybees Jürgen Tautz Hardback 04 Sep 2022 9783030994839 INR 1962.72\n",
      "High Erika Fatland Hardback 25 Aug 2022 9781529416879 INR 2294.26\n",
      "Aquanaut Rick Stanton Paperback 25 Aug 2022 9781405944106 INR 883.47\n",
      "Homestead Survival Marty Raney Paperback 13 Sep 2022 9780593420683 INR 1542.89\n",
      "A Hunter-Gatherer's Guide to the 21st Century Heather Heying Paperback 01 Sep 2022 9781800750944 INR 1072.9\n",
      "Understandable Economics Howard Yaruss Hardback 15 Sep 2022 9781633888364 INR 1954.73\n",
      "The Amur River Colin Thubron Paperback 15 Sep 2022 9781529110890 INR 842.76\n",
      "Audubon Engagement Calendar 2023 Workman Calendars Calendar 06 Sep 2022 9781523515516 INR 1557.22\n",
      "In a Land of Awe Chad Hanson Hardback 13 Sep 2022 9781506482194 INR 1859.35\n",
      "Himalaya John Keay Hardback 15 Sep 2022 9781408891155 INR 2551.66\n",
      "Around the World in 80 Birds Mike Unwin Hardback 23 Aug 2022 9780857828958 INR 1701.4\n",
      "Planta Sapiens Paco Calvo Hardback 25 Aug 2022 9780349128450 INR 1516.48\n",
      "First Dawn Roberto Battiston Hardback 06 Sep 2022 9780262047210 INR 1865.69\n",
      "Like, Comment, Subscribe Mark Bergen Paperback 08 Sep 2022 9780241468289 INR 1485.79\n",
      "Introducing Einstein's Relativity Ray d'Inverno Paperback 07 Sep 2022 9780198862031 INR 4371.7\n",
      "Good Inside Dr Becky Kennedy Paperback 15 Sep 2022 9780008505547 INR 1176.19\n",
      "The Sun, the Sea and the Stars Iulia Bochis Hardback 01 Sep 2022 9781529149678 INR 1316.44\n",
      "From Lukov with Love Mariana Zapata Paperback 30 Aug 2022 9781035402823 INR 871.79\n",
      "The Day I Got Trapped In My Brain Amy Huberman Paperback 01 Sep 2022 9780702314643 INR 669.38\n",
      "Hagitude Sharon Blackie Hardback 06 Sep 2022 9781914613098 INR 1460.48\n",
      "Year of Yoga Kassandra Reinhardt Paperback 10 Sep 2022 9781681888453 INR 1660.48\n",
      "Feeding Littles And Beyond Ali Maffucci Paperback 01 Sep 2022 9780593419243 INR 2530.68\n",
      "Landlines Raynor Winn Hardback 15 Sep 2022 9780241484562 INR 1632.53\n",
      "Out of Your Mind Dani DiPirro Paperback 13 Sep 2022 9780593538388 INR 1069.72\n",
      "What Every Woman Needs to Know About Her Gut Barbara Ryan Paperback 23 Aug 2022 9781529388268 INR 1195.63\n",
      "Beginnings Sarah Ockwell-Smith Paperback 25 Aug 2022 9780349431284 INR 1030.69\n",
      "I'm So Happy You're Here Liz Climo Hardback 15 Sep 2022 9780008520854 INR 853.21\n",
      "Be Not Afraid of Love Mimi Zhu Paperback 07 Sep 2022 9781743799123 INR 1080.39\n",
      "Refusing Compulsory Sexuality Sherronda J. Brown Paperback 13 Sep 2022 9781623177102 INR 1418.9\n",
      "Lizzie Blake's Best Mistake Mazey Eddings Paperback 06 Sep 2022 9781472298720 INR 679.2\n",
      "Dinners with Ruth Nina Totenberg Hardback 13 Sep 2022 9781982188085 INR 1902.0\n",
      "Why We Play Joanna Fortune Paperback 14 Sep 2022 9781909770867 INR 767.21\n",
      "The Tibetan Yogas of Dream and Sleep Tenzin Wangyal Rinpoche Paperback 30 Aug 2022 9781611809510 INR 1168.14\n",
      "Beyond Grief Pippa Vosper Hardback 25 Aug 2022 9781472292001 INR 1367.51\n",
      "This Is Us Helen McGinn Paperback 14 Sep 2022 9781802806038 INR 892.15\n",
      "Christmas Miracles at Hedgehog Hollow Jessica Redland Paperback 06 Sep 2022 9781801624459 INR 1070.72\n",
      "The Buddhist Enneagram Susan Piver Paperback 13 Sep 2022 9781736943915 INR 1606.68\n",
      "In the Event of Love Courtney Kae Paperback 30 Aug 2022 9781472290229 INR 748.5\n",
      "Choose Growth Scott Barry Kaufman Paperback 15 Sep 2022 9781399805612 INR 1396.77\n",
      "The Long Covid Self-Help Guide The Specialists from the Post-Covid Clinic, Oxford Paperback 06 Sep 2022 9781399402026 INR 1309.2\n",
      "Mama Bear Apologetics Guide to Sexuality Discipleship Workbook Hillary Morgan Ferrer Paperback 06 Sep 2022 9780736986007 INR 947.45\n",
      "Year of the Tiger Alice Wong Paperback 06 Sep 2022 9780593315392 INR 1298.36\n",
      "How Art Can Change Your Life Susie Hodge Paperback 13 Sep 2022 9780500024935 INR 1263.62\n",
      "Trauma Informed Support and Supervision for Child Protection Professionals Fiona Oates Paperback 19 Aug 2022 9780367458959 INR 2426.46\n",
      "Against White Feminism Rafia Zakaria Paperback 08 Sep 2022 9780241989319 INR 719.1\n",
      "Deliciously Healthy Pregnancy Rhiannon Lambert Hardback 08 Sep 2022 9780241530566 INR 2072.66\n",
      "Good Inside Dr Becky Kennedy Hardback 13 Sep 2022 9780063159488 INR 2082.65\n",
      "Recovery Hardware Gina Schaefer Paperback 01 Sep 2022 9798985841008 INR 1319.4\n",
      "Preparados, listos, ¡ÑAM! Laura Alvarez Paperback 08 Sep 2022 9788467066098 INR 1832.94\n",
      "Sleep Easy Bernice Tuffery Paperback 01 Sep 2022 9781988547459 INR 1452.82\n"
     ]
    }
   ],
   "source": [
    "book_data=[]\n",
    "for i in books:\n",
    "     aa=i.find(\"meta\", {\"itemprop\":\"name\"}).get(\"content\")\n",
    "     bb=i.find(\"p\", class_ = \"author\").find(\"a\").text\n",
    "     cc=i.find(\"p\", class_ = \"format\").text\n",
    "     dd=i.find(\"p\", class_ = \"published\").text\n",
    "     ee=i.find(\"a\", class_ = \"btn btn-sm btn-primary add-to-basket\").get(\"data-isbn\")\n",
    "     ff=i.find(\"a\", class_ = \"btn btn-sm btn-primary add-to-basket\").get(\"data-currency\")\n",
    "     gg=i.find(\"a\", class_ = \"btn btn-sm btn-primary add-to-basket\").get(\"data-price\")\n",
    "     \n",
    "     print(aa,bb,cc,dd,ee,ff,gg)\n"
   ]
  },
  {
   "cell_type": "markdown",
   "id": "1f9c67b0",
   "metadata": {},
   "source": [
    "# Create dict"
   ]
  },
  {
   "cell_type": "code",
   "execution_count": 176,
   "id": "be9f7699",
   "metadata": {},
   "outputs": [],
   "source": [
    "books_dict = {'title':[], 'author':[], 'format':[], 'published':[], 'isbn':[], 'currency':[], 'price':[]}"
   ]
  },
  {
   "cell_type": "code",
   "execution_count": null,
   "id": "214f135a",
   "metadata": {},
   "outputs": [],
   "source": []
  },
  {
   "cell_type": "markdown",
   "id": "3d0a3a41",
   "metadata": {},
   "source": [
    "# Append data in dict"
   ]
  },
  {
   "cell_type": "code",
   "execution_count": 182,
   "id": "4d7088a9",
   "metadata": {},
   "outputs": [],
   "source": [
    "for i in books:\n",
    "     books_dict['title'].append(i.find(\"meta\", {\"itemprop\":\"name\"}).get(\"content\"))\n",
    "        \n",
    "     books_dict['author'].append(i.find(\"p\", class_ = \"author\").find(\"a\").text)\n",
    "     books_dict['format'].append(i.find(\"p\", class_ = \"format\").text)\n",
    "     books_dict['published'].append(i.find(\"p\", class_ = \"published\").text)\n",
    "     books_dict['isbn'].append(i.find(\"a\", class_ = \"btn btn-sm btn-primary add-to-basket\").get(\"data-isbn\"))\n",
    "     books_dict['currency'].append(i.find(\"a\", class_ = \"btn btn-sm btn-primary add-to-basket\").get(\"data-currency\"))\n",
    "     books_dict['price'].append(i.find(\"a\", class_ = \"btn btn-sm btn-primary add-to-basket\").get(\"data-price\"))\n",
    "     "
   ]
  },
  {
   "cell_type": "code",
   "execution_count": 183,
   "id": "46739c72",
   "metadata": {},
   "outputs": [
    {
     "name": "stdout",
     "output_type": "stream",
     "text": [
      "{'title': ['The Ballad of Never After', 'Love on the Brain', 'Good Inside', 'The American Roommate Experiment', 'The Ink Black Heart', 'Fairy Tale', \"The Dragon's Promise\", 'The Sun, the Sea and the Stars', 'What If?2', 'The Final Gambit', 'From Lukov with Love', 'Jujutsu Kaisen, Vol. 17', 'The Day I Got Trapped In My Brain', 'Lessons', 'Fairy Tale', 'The Vegan Chinese Kitchen', 'One Piece, Vol. 100', 'Expected Goals', 'This Savage Song collectors hardback', 'One', 'The Last Colony', 'Girls That Invest: Your Guide to Financial Independence through Shares and Stocks', 'Agatha Christie', 'Spray Nation', 'The Story of Art without Men', 'Ruination', 'The Trap', 'Stone Blind', 'Holding the Line', 'What We Owe The Future', 'Therapy Game Restart, Vol. 2', 'Fantastic Four: Full Circle', 'The Baddies', 'Star Wars: The High Republic Adventures Vol. 3', 'Magnificent Rebels', 'The Ballad of Never After', 'The American Roommate Experiment', 'The Ink Black Heart', 'Fairy Tale', 'From Lukov with Love', 'The Day I Got Trapped In My Brain', 'Lessons', 'Stone Blind', 'Lonely Castle in the Mirror', 'The Backstreets', 'The Marriage Portrait', 'The Bullet That Missed', 'Addicted To You', 'Carrie Soto Is Back', 'The Atlas Six', 'Before Your Memory Fades', 'The Queen Of Spades', 'The Partner Track', 'Wolfsong', 'The Last Unicorn', 'Stargazer', 'Metamorphosis', 'Once Upon a Time in . . . Donnybrook', 'Luckiest Girl Alive', 'A Song of Comfortable Chairs', 'A Not So Meet Cute', 'The Lottery', 'The Masque of the Red Death', 'To Love Jason Thorn', 'Thistlefoot', 'Lady Susan', 'Hell Screen', 'To Hate Adam Connor', 'Of Ghosts and Goblins', 'Investments Unlimited', 'The Ballad of Never After', \"The Dragon's Promise\", 'The Final Gambit', 'The Day I Got Trapped In My Brain', 'Fantastic Four: Full Circle', 'The Baddies', 'Fighting Fantasy: The Secrets of Salamonis', 'The Final Gambit', 'Fighting Fantasy: Shadow of the Giants', 'The Animal Orchestra Plays Bach', 'Belladonna', 'Guarding the Invisible Dragons: A Branches Book (Dragon Masters #22)', 'A Venom Dark and Sweet', 'The Ballad of Never After', 'Before Your Memory Fades', 'Disney Princess: Storybook Collection Advent Calendar', 'The Sunbearer Trials', 'Mina and the Slayers', 'As Long As the Lemon Trees Grow', 'Star Wars: Crimson Reign', 'The Collectors', 'Minecraft Annual 2023', 'The Writing Rope', 'Spy School Project X', 'What Lies Beyond the Veil', 'The Hocus Pocus Spell Book', 'Nothing More to Tell', \"A Silent Voice Complete Collector's Edition 2\", 'Mythogoria: Night Terrors', 'Iron Widow', 'Pages & Co.: The Treehouse Library', 'The Summer of Broken Rules', 'Hocus Pocus: The Illustrated Novelization', 'Out of Your Mind', 'Key Player', 'The Ink Black Heart', 'Lessons', 'Fairy Tale', 'Holding the Line', 'Lonely Castle in the Mirror', 'Fighting Fantasy: The Secrets of Salamonis', 'Fighting Fantasy: Shadow of the Giants', 'The Bullet That Missed', 'Marple: Twelve New Stories', 'Act of Oblivion', 'Blacksad: They All Fall Down - Part One', 'Marple: Twelve New Mysteries', 'Stargazer', 'The Collectors', 'Triage X, Vol. 23', 'Luckiest Girl Alive', 'A Song of Comfortable Chairs', 'Killers of a Certain Age', 'Hands Down', 'A Flicker in the Dark', 'Ghost Town', 'Sweet Dreams', 'Pulp: The Process Edition', 'Fazbear Frights Graphic Novel Collection #1', 'The Butcher and the Wren', 'The Life of Crime', 'The Old Man', 'A Magic Steeped In Poison', 'Fellstones', 'MoMo -the blood taker- Vol. 1', 'Newburn, Volume 1', 'The Lost Girls of Willowbrook', 'In the Shadow of Queens', 'Things We Do in the Dark', 'This is the Night They Come For You', 'The Ballad of Never After', 'Fairy Tale', \"The Dragon's Promise\", 'Fairy Tale', 'This Savage Song collectors hardback', 'Ruination', 'Stone Blind', 'Lonely Castle in the Mirror', 'Belladonna', 'Monstress, Volume 7: Devourer', 'The Very Secret Society of Irregular Witches', 'The Undertaking of Hart and Mercy', 'Things Have Gotten Worse Since We Last Spoke And Other Misfortunes', 'The Atlas Six', 'Before Your Memory Fades', 'Ruby Fever', 'Is It Wrong to Try to Pick Up Girls in a Dungeon?, Vol. 17 LN', 'Wolfsong', 'The Last Unicorn', 'The Collectors', 'The Complete Guide to Middle-earth', 'What Hunts Inside the Shadows', 'Summertime Rendering Volume 6 (Paperback)', 'Summertime Rendering Volume 5 (Paperback)', 'What Lies Beyond the Veil', 'The Lottery', 'The Masque of the Red Death', 'Thistlefoot', \"Delicious in Dungeon World Guide: The Adventurer's Bible\", 'The Soul Drinkers Omnibus', 'Of Ghosts and Goblins', 'Delicious in Dungeon, Vol. 11', 'Ledge', 'Malarkoi', 'Titans of War', 'The Vegan Chinese Kitchen', 'One', 'Sweet Therapy', 'Bake', 'Feeding Littles And Beyond', 'Cooking', 'The Almanac: A Seasonal Guide to 2023', 'Quick and Easy Gluten Free (The Sunday Times Bestseller)', 'Pasta Grannies: Comfort Cooking', 'What Every Woman Needs to Know About Her Gut', 'Moro Easy', 'Simply Chinese', 'The Anime Chef Cookbook', \"Danielle Walker's Healthy in a Hurry: A Gluten-Free, Grain-Free & Dairy-Free Cookbook\", 'Food & Drink Logos', 'Eat Well for Less: Happy & Healthy', 'Mint Chocolate Murder', \"I'm Not Scary PB\", \"I'm Not Scary HB\", 'Deliciously Healthy Pregnancy', 'Soup Broth Bread', 'Zeinas bröd : Piroger, pajer, pizzor, börek, röror, soppor', 'Preparados, listos, ¡ÑAM!', 'Cocina un pescado', 'Menu Design in Europe', 'Simple Pasta: A Cookbook', 'Modern Bistro', 'Good Food Made Simple', 'Drinking with the Valkyries', \"The Hairy Dieters' Simple Healthy Food\", 'How Many Ways Can You Cook An Egg?', 'Masa', 'Oren', 'The Cocktail Cabinet', 'Plant-Based Himalaya', 'Agatha Christie', 'Holding the Line', 'Magnificent Rebels', 'The Yank', \"We Don't Know Ourselves\", 'Moonology (TM) Diary 2023', 'You Are Enough 16-Month 2022-2023 Weekly/Monthly Planner Calendar', 'My Body', 'The Wonder of Little Things', 'Landlines', 'Breaking History', 'They Called Me a Lioness', 'Out of Your Mind', 'Escape Into Meaning', 'Animal House', 'Red Roulette', 'May We Be Spared to Meet on Earth', 'Martin McHugh: An Autobiography', 'The Daughter of Auschwitz', 'Toffee Apples and Quail Feathers', 'You Owe You', 'The Man from the Future', 'One Hundred Saturdays', 'Fifty Forgotten Books', 'Small Fires', 'This Band Has No Past', 'Who I Am', 'Be Not Afraid of Love', \"There's Just One Problem...\", 'An Irish Atlantic Rainforest', 'Love and Let Die', 'The Daughter of Auschwitz', 'Like a Rolling Stone', \"Charlie's Good Tonight\", 'The Life of Crime', 'The Last Colony', 'Agatha Christie', 'Magnificent Rebels', \"We Don't Know Ourselves\", 'Slouching Toward Utopia', 'Command', 'Heaven on Earth', 'Status And Culture', 'They Called Me a Lioness', 'Apollo Remastered', 'Colditz', 'Making Sense of a United Ireland', 'Titans of War', 'Red Roulette', 'August in Kabul', 'May We Be Spared to Meet on Earth', 'Beowulf and the North before the Vikings', 'Russia', 'The Daughter of Auschwitz', 'The Story of Russia', 'Dunkirchen 1940', 'Arctic Convoys 1942', 'Roman Army Units in the Eastern Provinces (2)', 'Second City', 'One Hundred Saturdays', 'In the Heat of the Midday Sun', 'The Cinema House and the World', 'The Daughter of Auschwitz', 'Grandes maricas de la historia', 'Savoia-Marchetti S.79 Sparviero', 'The Irish Boarding House', 'Last Day of School', 'Anglo-India and the End of Empire', \"Russia's Road to War with Ukraine\", 'Harold Wilson', 'Jujutsu Kaisen, Vol. 17', 'One Piece, Vol. 100', 'Therapy Game Restart, Vol. 2', 'Fantastic Four: Full Circle', 'Star Wars: The High Republic Adventures Vol. 3', 'Black Lagoon, Vol. 12', 'Bleach 20th Anniversary Edition, Vol. 1', \"Dead Dead Demon's Dededede Destruction, Vol. 11\", 'The Liminal Zone', 'Star Wars Vol. 4: Crimson Reign', 'Monstress, Volume 7: Devourer', 'Ducks', 'Things Have Gotten Worse Since We Last Spoke And Other Misfortunes', 'Tokyo Revengers (Omnibus) Vol. 3-4', \"Komi Can't Communicate, Vol. 20\", 'Seaside Stranger Vol. 4: Harukaze no Etranger', 'Blacksad: They All Fall Down - Part One', 'The Way of the Househusband, Vol. 8', 'Blue Lock 2', 'Star Wars: Crimson Reign', 'Triage X, Vol. 23', \"The Other World's Books Depend on the Bean Counter, Vol. 2\", 'Sasaki and Miyano, Vol. 6', 'Sakamoto Days, Vol. 3', 'Summertime Rendering Volume 6 (Paperback)', 'Summertime Rendering Volume 5 (Paperback)', \"A Silent Voice Complete Collector's Edition 2\", 'Blue Period 8', \"Delicious in Dungeon World Guide: The Adventurer's Bible\", 'One Piece (Omnibus Edition), Vol. 32', 'The Apothecary Diaries 6', 'Into the Deepest, Most Unknowable Dungeon Vol. 4', 'Fantastic Four Epic Collection: Annihilus Revealed', 'Delicious in Dungeon, Vol. 11', 'Kaguya-sama: Love Is War, Vol. 23', 'Good Inside', 'The Sun, the Sea and the Stars', 'Girls That Invest: Your Guide to Financial Independence through Shares and Stocks', 'A Book That Loves You', 'Hagitude', 'Moonology (TM) Diary 2023', 'You Are Enough 16-Month 2022-2023 Weekly/Monthly Planner Calendar', 'Year of Yoga', 'The Complete Guide to Memory', 'The Guitar Circle', 'Courage Is Calling', 'Landlines', 'Out of Your Mind', 'The 30-Day Sketchbook Project', 'Rules of Everything', 'The Status Game', 'Getting Along', 'You Owe You', \"I'm So Happy You're Here\", 'Be Not Afraid of Love', 'The Unofficial Guide to Walt Disney World 2023', 'Breath as Prayer', 'Resilient Hope', 'Happier Hour', 'I Will Teach You to Be Rich: The Journal', 'Change Your Questions, Change Your Life, 4th Edition', 'Beyond Grief', 'Homestead Survival', 'Big Dress Energy', 'Como Hacer Que Te Pasen Cosas Buenas', \"The Plant Lover's Backyard Forest Garden\", 'Self-Care in Underwear', 'No Bullsh*t Leadership', '2023 Instant Happy Notes Boxed Calendar', 'Untamed Spirit: Animal Oracle', 'Expected Goals', 'The Last Colony', 'Girls That Invest: Your Guide to Financial Independence through Shares and Stocks', 'Holding the Line', 'Slouching Toward Utopia', 'The Wonder of Little Things', 'Command', 'Volt Rush', 'Courage Is Calling', 'Investments Unlimited', 'Blind Spot', 'Rules of Everything', 'The Status Game', 'Getting Along', 'You Owe You', 'Second City', 'How to Avoid a Climate Disaster', 'Fifty Forgotten Books', 'Who I Am', 'Like a Rolling Stone', 'Servants of the Damned', 'Dinners with Ruth', 'Happier Hour', 'Remainders of the Day', 'Pandamonium!', 'Change Your Questions, Change Your Life, 4th Edition', 'Design Journeys through Complex Systems', 'Confronting Capitalism', 'Surviving the Daily Grind', 'No Bullsh*t Leadership', 'Understandable Economics', 'Learning to Build', 'Change Your Questions, Change Your Life Workbook', 'The Hidden History of Neoliberalism', 'In the Event of Love', 'What If?2', 'Expected Goals', 'What We Owe The Future', 'Hagitude', 'Between the Lines', 'Survival of the Richest', 'The Complete Guide to Memory', 'Volt Rush', 'Nomad Century', 'Landlines', 'The Almanac: A Seasonal Guide to 2023', \"Humanity's Moment\", 'Being You', 'May We Be Spared to Meet on Earth', 'An Inconvenient Apocalypse', 'The Man from the Future', 'How to Avoid a Climate Disaster', 'An Irish Atlantic Rainforest', 'Helgoland', 'How to Speak Whale', 'Communication Between Honeybees', 'High', 'Aquanaut', 'Homestead Survival', \"A Hunter-Gatherer's Guide to the 21st Century\", 'Understandable Economics', 'The Amur River', 'Audubon Engagement Calendar 2023', 'In a Land of Awe', 'Himalaya', 'Around the World in 80 Birds', 'Planta Sapiens', 'First Dawn', 'Like, Comment, Subscribe', \"Introducing Einstein's Relativity\", 'Good Inside', 'The Sun, the Sea and the Stars', 'From Lukov with Love', 'The Day I Got Trapped In My Brain', 'Hagitude', 'Year of Yoga', 'Feeding Littles And Beyond', 'Landlines', 'Out of Your Mind', 'What Every Woman Needs to Know About Her Gut', 'Beginnings', \"I'm So Happy You're Here\", 'Be Not Afraid of Love', 'Refusing Compulsory Sexuality', \"Lizzie Blake's Best Mistake\", 'Dinners with Ruth', 'Why We Play', 'The Tibetan Yogas of Dream and Sleep', 'Beyond Grief', 'This Is Us', 'Christmas Miracles at Hedgehog Hollow', 'The Buddhist Enneagram', 'In the Event of Love', 'Choose Growth', 'The Long Covid Self-Help Guide', 'Mama Bear Apologetics Guide to Sexuality Discipleship Workbook', 'Year of the Tiger', 'How Art Can Change Your Life', 'Trauma Informed Support and Supervision for Child Protection Professionals', 'Against White Feminism', 'Deliciously Healthy Pregnancy', 'Good Inside', 'Recovery Hardware', 'Preparados, listos, ¡ÑAM!', 'Sleep Easy', 'The Ballad of Never After', 'Love on the Brain', 'Good Inside', 'The American Roommate Experiment', 'The Ink Black Heart', 'Fairy Tale', \"The Dragon's Promise\", 'The Sun, the Sea and the Stars', 'What If?2', 'The Final Gambit', 'From Lukov with Love', 'Jujutsu Kaisen, Vol. 17', 'The Day I Got Trapped In My Brain', 'Lessons', 'Fairy Tale', 'The Vegan Chinese Kitchen', 'One Piece, Vol. 100', 'Expected Goals', 'This Savage Song collectors hardback', 'One', 'The Last Colony', 'Girls That Invest: Your Guide to Financial Independence through Shares and Stocks', 'Agatha Christie', 'Spray Nation', 'The Story of Art without Men', 'Ruination', 'The Trap', 'Stone Blind', 'Holding the Line', 'What We Owe The Future', 'Therapy Game Restart, Vol. 2', 'Fantastic Four: Full Circle', 'The Baddies', 'Star Wars: The High Republic Adventures Vol. 3', 'Magnificent Rebels', 'The Ballad of Never After', 'The American Roommate Experiment', 'The Ink Black Heart', 'Fairy Tale', 'From Lukov with Love', 'The Day I Got Trapped In My Brain', 'Lessons', 'Stone Blind', 'Lonely Castle in the Mirror', 'The Backstreets', 'The Marriage Portrait', 'The Bullet That Missed', 'Addicted To You', 'Carrie Soto Is Back', 'The Atlas Six', 'Before Your Memory Fades', 'The Queen Of Spades', 'The Partner Track', 'Wolfsong', 'The Last Unicorn', 'Stargazer', 'Metamorphosis', 'Once Upon a Time in . . . Donnybrook', 'Luckiest Girl Alive', 'A Song of Comfortable Chairs', 'A Not So Meet Cute', 'The Lottery', 'The Masque of the Red Death', 'To Love Jason Thorn', 'Thistlefoot', 'Lady Susan', 'Hell Screen', 'To Hate Adam Connor', 'Of Ghosts and Goblins', 'Investments Unlimited', 'The Ballad of Never After', \"The Dragon's Promise\", 'The Final Gambit', 'The Day I Got Trapped In My Brain', 'Fantastic Four: Full Circle', 'The Baddies', 'Fighting Fantasy: The Secrets of Salamonis', 'The Final Gambit', 'Fighting Fantasy: Shadow of the Giants', 'The Animal Orchestra Plays Bach', 'Belladonna', 'Guarding the Invisible Dragons: A Branches Book (Dragon Masters #22)', 'A Venom Dark and Sweet', 'The Ballad of Never After', 'Before Your Memory Fades', 'Disney Princess: Storybook Collection Advent Calendar', 'The Sunbearer Trials', 'Mina and the Slayers', 'As Long As the Lemon Trees Grow', 'Star Wars: Crimson Reign', 'The Collectors', 'Minecraft Annual 2023', 'The Writing Rope', 'Spy School Project X', 'What Lies Beyond the Veil', 'The Hocus Pocus Spell Book', 'Nothing More to Tell', \"A Silent Voice Complete Collector's Edition 2\", 'Mythogoria: Night Terrors', 'Iron Widow', 'Pages & Co.: The Treehouse Library', 'The Summer of Broken Rules', 'Hocus Pocus: The Illustrated Novelization', 'Out of Your Mind', 'Key Player', 'The Ink Black Heart', 'Lessons', 'Fairy Tale', 'Holding the Line', 'Lonely Castle in the Mirror', 'Fighting Fantasy: The Secrets of Salamonis', 'Fighting Fantasy: Shadow of the Giants', 'The Bullet That Missed', 'Marple: Twelve New Stories', 'Act of Oblivion', 'Blacksad: They All Fall Down - Part One', 'Marple: Twelve New Mysteries', 'Stargazer', 'The Collectors', 'Triage X, Vol. 23', 'Luckiest Girl Alive', 'A Song of Comfortable Chairs', 'Killers of a Certain Age', 'Hands Down', 'A Flicker in the Dark', 'Ghost Town', 'Sweet Dreams', 'Pulp: The Process Edition', 'Fazbear Frights Graphic Novel Collection #1', 'The Butcher and the Wren', 'The Life of Crime', 'The Old Man', 'A Magic Steeped In Poison', 'Fellstones', 'MoMo -the blood taker- Vol. 1', 'Newburn, Volume 1', 'The Lost Girls of Willowbrook', 'In the Shadow of Queens', 'Things We Do in the Dark', 'This is the Night They Come For You', 'The Ballad of Never After', 'Fairy Tale', \"The Dragon's Promise\", 'Fairy Tale', 'This Savage Song collectors hardback', 'Ruination', 'Stone Blind', 'Lonely Castle in the Mirror', 'Belladonna', 'Monstress, Volume 7: Devourer', 'The Very Secret Society of Irregular Witches', 'The Undertaking of Hart and Mercy', 'Things Have Gotten Worse Since We Last Spoke And Other Misfortunes', 'The Atlas Six', 'Before Your Memory Fades', 'Ruby Fever', 'Is It Wrong to Try to Pick Up Girls in a Dungeon?, Vol. 17 LN', 'Wolfsong', 'The Last Unicorn', 'The Collectors', 'The Complete Guide to Middle-earth', 'What Hunts Inside the Shadows', 'Summertime Rendering Volume 6 (Paperback)', 'Summertime Rendering Volume 5 (Paperback)', 'What Lies Beyond the Veil', 'The Lottery', 'The Masque of the Red Death', 'Thistlefoot', \"Delicious in Dungeon World Guide: The Adventurer's Bible\", 'The Soul Drinkers Omnibus', 'Of Ghosts and Goblins', 'Delicious in Dungeon, Vol. 11', 'Ledge', 'Malarkoi', 'Titans of War', 'The Vegan Chinese Kitchen', 'One', 'Sweet Therapy', 'Bake', 'Feeding Littles And Beyond', 'Cooking', 'The Almanac: A Seasonal Guide to 2023', 'Quick and Easy Gluten Free (The Sunday Times Bestseller)', 'Pasta Grannies: Comfort Cooking', 'What Every Woman Needs to Know About Her Gut', 'Moro Easy', 'Simply Chinese', 'The Anime Chef Cookbook', \"Danielle Walker's Healthy in a Hurry: A Gluten-Free, Grain-Free & Dairy-Free Cookbook\", 'Food & Drink Logos', 'Eat Well for Less: Happy & Healthy', 'Mint Chocolate Murder', \"I'm Not Scary PB\", \"I'm Not Scary HB\", 'Deliciously Healthy Pregnancy', 'Soup Broth Bread', 'Zeinas bröd : Piroger, pajer, pizzor, börek, röror, soppor', 'Preparados, listos, ¡ÑAM!', 'Cocina un pescado', 'Menu Design in Europe', 'Simple Pasta: A Cookbook', 'Modern Bistro', 'Good Food Made Simple', 'Drinking with the Valkyries', \"The Hairy Dieters' Simple Healthy Food\", 'How Many Ways Can You Cook An Egg?', 'Masa', 'Oren', 'The Cocktail Cabinet', 'Plant-Based Himalaya', 'Agatha Christie', 'Holding the Line', 'Magnificent Rebels', 'The Yank', \"We Don't Know Ourselves\", 'Moonology (TM) Diary 2023', 'You Are Enough 16-Month 2022-2023 Weekly/Monthly Planner Calendar', 'My Body', 'The Wonder of Little Things', 'Landlines', 'Breaking History', 'They Called Me a Lioness', 'Out of Your Mind', 'Escape Into Meaning', 'Animal House', 'Red Roulette', 'May We Be Spared to Meet on Earth', 'Martin McHugh: An Autobiography', 'The Daughter of Auschwitz', 'Toffee Apples and Quail Feathers', 'You Owe You', 'The Man from the Future', 'One Hundred Saturdays', 'Fifty Forgotten Books', 'Small Fires', 'This Band Has No Past', 'Who I Am', 'Be Not Afraid of Love', \"There's Just One Problem...\", 'An Irish Atlantic Rainforest', 'Love and Let Die', 'The Daughter of Auschwitz', 'Like a Rolling Stone', \"Charlie's Good Tonight\", 'The Life of Crime', 'The Last Colony', 'Agatha Christie', 'Magnificent Rebels', \"We Don't Know Ourselves\", 'Slouching Toward Utopia', 'Command', 'Heaven on Earth', 'Status And Culture', 'They Called Me a Lioness', 'Apollo Remastered', 'Colditz', 'Making Sense of a United Ireland', 'Titans of War', 'Red Roulette', 'August in Kabul', 'May We Be Spared to Meet on Earth', 'Beowulf and the North before the Vikings', 'Russia', 'The Daughter of Auschwitz', 'The Story of Russia', 'Dunkirchen 1940', 'Arctic Convoys 1942', 'Roman Army Units in the Eastern Provinces (2)', 'Second City', 'One Hundred Saturdays', 'In the Heat of the Midday Sun', 'The Cinema House and the World', 'The Daughter of Auschwitz', 'Grandes maricas de la historia', 'Savoia-Marchetti S.79 Sparviero', 'The Irish Boarding House', 'Last Day of School', 'Anglo-India and the End of Empire', \"Russia's Road to War with Ukraine\", 'Harold Wilson', 'Jujutsu Kaisen, Vol. 17', 'One Piece, Vol. 100', 'Therapy Game Restart, Vol. 2', 'Fantastic Four: Full Circle', 'Star Wars: The High Republic Adventures Vol. 3', 'Black Lagoon, Vol. 12', 'Bleach 20th Anniversary Edition, Vol. 1', \"Dead Dead Demon's Dededede Destruction, Vol. 11\", 'The Liminal Zone', 'Star Wars Vol. 4: Crimson Reign', 'Monstress, Volume 7: Devourer', 'Ducks', 'Things Have Gotten Worse Since We Last Spoke And Other Misfortunes', 'Tokyo Revengers (Omnibus) Vol. 3-4', \"Komi Can't Communicate, Vol. 20\", 'Seaside Stranger Vol. 4: Harukaze no Etranger', 'Blacksad: They All Fall Down - Part One', 'The Way of the Househusband, Vol. 8', 'Blue Lock 2', 'Star Wars: Crimson Reign', 'Triage X, Vol. 23', \"The Other World's Books Depend on the Bean Counter, Vol. 2\", 'Sasaki and Miyano, Vol. 6', 'Sakamoto Days, Vol. 3', 'Summertime Rendering Volume 6 (Paperback)', 'Summertime Rendering Volume 5 (Paperback)', \"A Silent Voice Complete Collector's Edition 2\", 'Blue Period 8', \"Delicious in Dungeon World Guide: The Adventurer's Bible\", 'One Piece (Omnibus Edition), Vol. 32', 'The Apothecary Diaries 6', 'Into the Deepest, Most Unknowable Dungeon Vol. 4', 'Fantastic Four Epic Collection: Annihilus Revealed', 'Delicious in Dungeon, Vol. 11', 'Kaguya-sama: Love Is War, Vol. 23', 'Good Inside', 'The Sun, the Sea and the Stars', 'Girls That Invest: Your Guide to Financial Independence through Shares and Stocks', 'A Book That Loves You', 'Hagitude', 'Moonology (TM) Diary 2023', 'You Are Enough 16-Month 2022-2023 Weekly/Monthly Planner Calendar', 'Year of Yoga', 'The Complete Guide to Memory', 'The Guitar Circle', 'Courage Is Calling', 'Landlines', 'Out of Your Mind', 'The 30-Day Sketchbook Project', 'Rules of Everything', 'The Status Game', 'Getting Along', 'You Owe You', \"I'm So Happy You're Here\", 'Be Not Afraid of Love', 'The Unofficial Guide to Walt Disney World 2023', 'Breath as Prayer', 'Resilient Hope', 'Happier Hour', 'I Will Teach You to Be Rich: The Journal', 'Change Your Questions, Change Your Life, 4th Edition', 'Beyond Grief', 'Homestead Survival', 'Big Dress Energy', 'Como Hacer Que Te Pasen Cosas Buenas', \"The Plant Lover's Backyard Forest Garden\", 'Self-Care in Underwear', 'No Bullsh*t Leadership', '2023 Instant Happy Notes Boxed Calendar', 'Untamed Spirit: Animal Oracle', 'Expected Goals', 'The Last Colony', 'Girls That Invest: Your Guide to Financial Independence through Shares and Stocks', 'Holding the Line', 'Slouching Toward Utopia', 'The Wonder of Little Things', 'Command', 'Volt Rush', 'Courage Is Calling', 'Investments Unlimited', 'Blind Spot', 'Rules of Everything', 'The Status Game', 'Getting Along', 'You Owe You', 'Second City', 'How to Avoid a Climate Disaster', 'Fifty Forgotten Books', 'Who I Am', 'Like a Rolling Stone', 'Servants of the Damned', 'Dinners with Ruth', 'Happier Hour', 'Remainders of the Day', 'Pandamonium!', 'Change Your Questions, Change Your Life, 4th Edition', 'Design Journeys through Complex Systems', 'Confronting Capitalism', 'Surviving the Daily Grind', 'No Bullsh*t Leadership', 'Understandable Economics', 'Learning to Build', 'Change Your Questions, Change Your Life Workbook', 'The Hidden History of Neoliberalism', 'In the Event of Love', 'What If?2', 'Expected Goals', 'What We Owe The Future', 'Hagitude', 'Between the Lines', 'Survival of the Richest', 'The Complete Guide to Memory', 'Volt Rush', 'Nomad Century', 'Landlines', 'The Almanac: A Seasonal Guide to 2023', \"Humanity's Moment\", 'Being You', 'May We Be Spared to Meet on Earth', 'An Inconvenient Apocalypse', 'The Man from the Future', 'How to Avoid a Climate Disaster', 'An Irish Atlantic Rainforest', 'Helgoland', 'How to Speak Whale', 'Communication Between Honeybees', 'High', 'Aquanaut', 'Homestead Survival', \"A Hunter-Gatherer's Guide to the 21st Century\", 'Understandable Economics', 'The Amur River', 'Audubon Engagement Calendar 2023', 'In a Land of Awe', 'Himalaya', 'Around the World in 80 Birds', 'Planta Sapiens', 'First Dawn', 'Like, Comment, Subscribe', \"Introducing Einstein's Relativity\", 'Good Inside', 'The Sun, the Sea and the Stars', 'From Lukov with Love', 'The Day I Got Trapped In My Brain', 'Hagitude', 'Year of Yoga', 'Feeding Littles And Beyond', 'Landlines', 'Out of Your Mind', 'What Every Woman Needs to Know About Her Gut', 'Beginnings', \"I'm So Happy You're Here\", 'Be Not Afraid of Love', 'Refusing Compulsory Sexuality', \"Lizzie Blake's Best Mistake\", 'Dinners with Ruth', 'Why We Play', 'The Tibetan Yogas of Dream and Sleep', 'Beyond Grief', 'This Is Us', 'Christmas Miracles at Hedgehog Hollow', 'The Buddhist Enneagram', 'In the Event of Love', 'Choose Growth', 'The Long Covid Self-Help Guide', 'Mama Bear Apologetics Guide to Sexuality Discipleship Workbook', 'Year of the Tiger', 'How Art Can Change Your Life', 'Trauma Informed Support and Supervision for Child Protection Professionals', 'Against White Feminism', 'Deliciously Healthy Pregnancy', 'Good Inside', 'Recovery Hardware', 'Preparados, listos, ¡ÑAM!', 'Sleep Easy'], 'author': ['Stephanie Garber', 'Ali Hazelwood', 'Dr Becky Kennedy', 'Elena Armas', 'Robert Galbraith', 'Stephen King', 'Elizabeth Lim', 'Iulia Bochis', 'Randall Munroe', 'Jennifer Lynn Barnes', 'Mariana Zapata', 'Gege Akutami', 'Amy Huberman', 'Ian McEwan', 'Stephen King', 'Hannah Che', 'Eiichiro Oda', 'Rory Smith', 'V.E. Schwab', 'Jamie Oliver', 'Philippe Sands', 'Simran Kaur', 'Lucy Worsley', 'Martha Cooper', 'Katy Hessel', 'Anthony Reynolds', 'David Icke', 'Natalie Haynes', 'Geoffrey Berman', 'WILLIAM MACASKILL', 'Meguru Hinohara', 'Alex Ross', 'Julia Donaldson', 'Daniel Jose Older', 'Andrea Wulf', 'Stephanie Garber', 'Elena Armas', 'Robert Galbraith', 'Stephen King', 'Mariana Zapata', 'Amy Huberman', 'Ian McEwan', 'Natalie Haynes', 'Mizuki Tsujimura', 'Perhat Tursun', \"Maggie O'Farrell\", 'Richard Osman', 'Krista Ritchie', 'Taylor Jenkins Reid', 'Olivie Blake', 'Toshikazu Kawaguchi', 'Alexander Pushkin', 'Helen Wan', 'TJ Klune', 'Peter S. Beagle', 'Laurie Petrou', 'Franz Kafka', \"Ross O'Carroll-Kelly\", 'Jessica Knoll', 'Alexander McCall Smith', 'Meghan Quinn', 'Shirley Jackson', 'Edgar Allan Poe', 'Ella Maise', 'Gennarose Nethercott', 'Jane Austen', 'Ryunosuke Akutagawa', 'Ella Maise', 'Lafcadio Hearn', 'Helen Beal', 'Stephanie Garber', 'Elizabeth Lim', 'Jennifer Lynn Barnes', 'Amy Huberman', 'Alex Ross', 'Julia Donaldson', 'Steve Jackson', 'Jennifer Lynn Barnes', 'Ian Livingstone', 'Sam Taplin', 'Adalyn Grace', 'Tracey West', 'Judy I Lin', 'Stephanie Garber', 'Toshikazu Kawaguchi', 'Autumn Publishing', 'Aiden Thomas', 'Amy McCaw', 'Zoulfa Katouh', 'Charles Soule', 'Philip Pullman', 'Mojang AB', 'Joan Sedita', 'Stuart Gibbs', 'Harper L. Woods', 'Eric Geron', 'Karen M. McManus', 'Yoshitoki Oima', 'Fabiana Attanasio', 'Xiran Jay Zhao', 'Anna James', 'K. L. Walther', 'A W Jantha', 'Dani DiPirro', 'Kelly Yang', 'Robert Galbraith', 'Ian McEwan', 'Stephen King', 'Geoffrey Berman', 'Mizuki Tsujimura', 'Steve Jackson', 'Ian Livingstone', 'Richard Osman', 'Agatha Christie', 'Robert Harris', 'Juan Diaz Canales', 'Agatha Christie', 'Laurie Petrou', 'Philip Pullman', 'Shouji Sato', 'Jessica Knoll', 'Alexander McCall Smith', 'Deanna Raybourn', 'Felix Francis', 'Stacy Willingham', 'Kevin Chen', 'Anders Roslund', 'Ed Brubaker', 'Scott Cawthon', 'Alaina Urquhart', 'Martin Edwards', 'Thomas Perry', 'Judy I. Lin', 'Ramsey Campbell', 'Akira Sugito', 'Chip Zdarsky', 'Ellen Marie Wiseman', 'Alison Weir', 'Jennifer Hillier', 'Robert Goddard', 'Stephanie Garber', 'Stephen King', 'Elizabeth Lim', 'Stephen King', 'V.E. Schwab', 'Anthony Reynolds', 'Natalie Haynes', 'Mizuki Tsujimura', 'Adalyn Grace', 'Marjorie Liu', 'Sangu Mandanna', 'Megan Bannen', 'Eric LaRocca', 'Olivie Blake', 'Toshikazu Kawaguchi', 'Ilona Andrews', 'Fujino Omori', 'TJ Klune', 'Peter S. Beagle', 'Philip Pullman', 'Robert Foster', 'Harper L Woods', 'Yasuki Tanaka', 'Yasuki Tanaka', 'Harper L. Woods', 'Shirley Jackson', 'Edgar Allan Poe', 'Gennarose Nethercott', 'Ryoko Kui', 'Ben Counter', 'Lafcadio Hearn', 'Ryoko Kui', 'Stacey McEwan', 'Alex Pheby', 'Wilbur Smith', 'Hannah Che', 'Jamie Oliver', 'Una Leonard', 'Graham Herterich', 'Ali Maffucci', 'Jeremy Lee', 'Lia Leendertz', 'Becky Excell', 'Vicky Bennison', 'Barbara Ryan', 'Samantha Clark', 'Suzie Lee', 'Nadine Estero', 'Danielle Walker', '', 'Jo Scarratt-Jones', 'Meri Allen', 'Raahat Kaduji', 'Raahat Kaduji', 'Rhiannon Lambert', 'Rachel Allen', 'Zeina Mourtada', 'Laura Alvarez', 'Josh Niland', 'Steven Heller', 'Odette Williams', \"America's Test Kitchen America's Test Kitchen\", 'Leah Itsines', 'Andrew Jefford', 'Hairy Bikers', 'Lizzie Mabbott', 'Jorge Gaviria', 'Oded Oren', 'Zoe Burgess', 'Babita Shrestha', 'Lucy Worsley', 'Geoffrey Berman', 'Andrea Wulf', 'John Crawley', \"Fintan O'Toole\", 'Yasmin Boland', 'Kate Allan', 'Emily Ratajkowski', 'Vince Copley', 'Raynor Winn', 'Jared Kushner', 'Ahed Tamimi', 'Dani DiPirro', 'Evan Puschak', 'James Brown', 'Desmond Shum', '', 'Martin McHugh', 'Tova Friedman', 'Jennifer Worth', 'Eric Thomas, PhD', 'Ananyo Bhattacharya', 'Michael Frank', 'R. B. Russell', 'Rebecca May Johnson', 'Brian .J. Kramp', 'Melanie C', 'Mimi Zhu', 'Brian Gewirtz', 'Eoghan Daltun', 'John Higgs', 'Tova Friedman', 'Jann S Wenner', 'Paul Sexton', 'Martin Edwards', 'Philippe Sands', 'Lucy Worsley', 'Andrea Wulf', \"Fintan O'Toole\", 'J. Bradford DeLong', 'Sir Lawrence Freedman', 'Emma J. Wells', 'W. David Marx', 'Ahed Tamimi', 'Andy Saunders', 'Ben MacIntyre', \"Brendan O'Leary\", 'Wilbur Smith', 'Desmond Shum', 'Andrew Quilty', '', 'Tom Shippey', 'Sir Rodric Braithwaite', 'Tova Friedman', 'Orlando Figes', 'Robert Kershaw', 'Mark Lardas', \"Dr Raffaele D'Amato\", 'Richard Vinen', 'Michael Frank', 'Steven Scragg', 'Serge Daney', 'Tova Friedman', 'Alvaro Sanjuan', 'Luigino Caliaro', 'Sandy Taylor', 'Jack Sheffield', 'Uther Charlton-Stevens', 'Samir Puri', 'Nick Thomas-Symonds', 'Gege Akutami', 'Eiichiro Oda', 'Meguru Hinohara', 'Alex Ross', 'Daniel Jose Older', 'Rei Hiroe', '', 'Inio Asano', 'Junji Ito', 'Charles Soule', 'Marjorie Liu', 'Kate Beaton', 'Eric LaRocca', 'Ken Wakui', 'Tomohito Oda', 'Kii Kanna', 'Juan Diaz Canales', 'Kousuke Oono', 'Muneyuki Kaneshiro', 'Charles Soule', 'Shouji Sato', 'Kazuki Irodori', 'Shou Harusono', 'Yuto Suzuki', 'Yasuki Tanaka', 'Yasuki Tanaka', 'Yoshitoki Oima', 'Tsubasa Yamaguchi', 'Ryoko Kui', 'Eiichiro Oda', '', 'Kakeru', 'Roy Thomas', 'Ryoko Kui', 'Aka Akasaka', 'Dr Becky Kennedy', 'Iulia Bochis', 'Simran Kaur', 'Irene Smit', 'Sharon Blackie', 'Yasmin Boland', 'Kate Allan', 'Kassandra Reinhardt', 'Richard Restak', 'Robert Fripp', 'Ryan Holiday', 'Raynor Winn', 'Dani DiPirro', 'Minnie Small', 'Richard Templar', 'Will Storr', 'Amy Gallo', 'Eric Thomas, PhD', 'Liz Climo', 'Mimi Zhu', 'Bob Sehlinger', 'Jennifer Tucker', 'Christine Caine', 'Cassie Holmes', 'Ramit Sethi', 'Marilee Adams, Ph.D.', 'Pippa Vosper', 'Marty Raney', 'Shakaila Forbes-Bell', 'Marian Rojas', 'Pippa Chapman', 'Ton Mak', 'Chris Hirst', 'Sourcebooks', 'Francesca Matteoni', 'Rory Smith', 'Philippe Sands', 'Simran Kaur', 'Geoffrey Berman', 'J. Bradford DeLong', 'Vince Copley', 'Sir Lawrence Freedman', 'Henry Sanderson', 'Ryan Holiday', 'Helen Beal', 'Jon Clifton', 'Richard Templar', 'Will Storr', 'Amy Gallo', 'Eric Thomas, PhD', 'Richard Vinen', 'Bill Gates', 'R. B. Russell', 'Melanie C', 'Jann S Wenner', 'David Enrich', 'Nina Totenberg', 'Cassie Holmes', 'Shaun Bythell', 'Simon Williams', 'Marilee Adams, Ph.D.', 'Dr Peter Jones', 'Vivek Chibber', 'Philip Coggan', 'Chris Hirst', 'Howard Yaruss', 'Bob Moesta', 'Marilee Adams, Ph.D.', 'Thom Hartmann', 'Courtney Kae', 'Randall Munroe', 'Rory Smith', 'WILLIAM MACASKILL', 'Sharon Blackie', 'Michael Lawrence', 'Douglas Rushkoff', 'Richard Restak', 'Henry Sanderson', 'Gaia Vince', 'Raynor Winn', 'Lia Leendertz', 'Joelle Gergis', 'Professor Anil Seth', '', 'Wes Jackson', 'Ananyo Bhattacharya', 'Bill Gates', 'Eoghan Daltun', 'Carlo Rovelli', 'Tom Mustill', 'Jürgen Tautz', 'Erika Fatland', 'Rick Stanton', 'Marty Raney', 'Heather Heying', 'Howard Yaruss', 'Colin Thubron', 'Workman Calendars', 'Chad Hanson', 'John Keay', 'Mike Unwin', 'Paco Calvo', 'Roberto Battiston', 'Mark Bergen', \"Ray d'Inverno\", 'Dr Becky Kennedy', 'Iulia Bochis', 'Mariana Zapata', 'Amy Huberman', 'Sharon Blackie', 'Kassandra Reinhardt', 'Ali Maffucci', 'Raynor Winn', 'Dani DiPirro', 'Barbara Ryan', 'Sarah Ockwell-Smith', 'Liz Climo', 'Mimi Zhu', 'Sherronda J. Brown', 'Mazey Eddings', 'Nina Totenberg', 'Joanna Fortune', 'Tenzin Wangyal Rinpoche', 'Pippa Vosper', 'Helen McGinn', 'Jessica Redland', 'Susan Piver', 'Courtney Kae', 'Scott Barry Kaufman', 'The Specialists from the Post-Covid Clinic, Oxford', 'Hillary Morgan Ferrer', 'Alice Wong', 'Susie Hodge', 'Fiona Oates', 'Rafia Zakaria', 'Rhiannon Lambert', 'Dr Becky Kennedy', 'Gina Schaefer', 'Laura Alvarez', 'Bernice Tuffery', 'Stephanie Garber', 'Ali Hazelwood', 'Dr Becky Kennedy', 'Elena Armas', 'Robert Galbraith', 'Stephen King', 'Elizabeth Lim', 'Iulia Bochis', 'Randall Munroe', 'Jennifer Lynn Barnes', 'Mariana Zapata', 'Gege Akutami', 'Amy Huberman', 'Ian McEwan', 'Stephen King', 'Hannah Che', 'Eiichiro Oda', 'Rory Smith', 'V.E. Schwab', 'Jamie Oliver', 'Philippe Sands', 'Simran Kaur', 'Lucy Worsley', 'Martha Cooper', 'Katy Hessel', 'Anthony Reynolds', 'David Icke', 'Natalie Haynes', 'Geoffrey Berman', 'WILLIAM MACASKILL', 'Meguru Hinohara', 'Alex Ross', 'Julia Donaldson', 'Daniel Jose Older', 'Andrea Wulf', 'Stephanie Garber', 'Elena Armas', 'Robert Galbraith', 'Stephen King', 'Mariana Zapata', 'Amy Huberman', 'Ian McEwan', 'Natalie Haynes', 'Mizuki Tsujimura', 'Perhat Tursun', \"Maggie O'Farrell\", 'Richard Osman', 'Krista Ritchie', 'Taylor Jenkins Reid', 'Olivie Blake', 'Toshikazu Kawaguchi', 'Alexander Pushkin', 'Helen Wan', 'TJ Klune', 'Peter S. Beagle', 'Laurie Petrou', 'Franz Kafka', \"Ross O'Carroll-Kelly\", 'Jessica Knoll', 'Alexander McCall Smith', 'Meghan Quinn', 'Shirley Jackson', 'Edgar Allan Poe', 'Ella Maise', 'Gennarose Nethercott', 'Jane Austen', 'Ryunosuke Akutagawa', 'Ella Maise', 'Lafcadio Hearn', 'Helen Beal', 'Stephanie Garber', 'Elizabeth Lim', 'Jennifer Lynn Barnes', 'Amy Huberman', 'Alex Ross', 'Julia Donaldson', 'Steve Jackson', 'Jennifer Lynn Barnes', 'Ian Livingstone', 'Sam Taplin', 'Adalyn Grace', 'Tracey West', 'Judy I Lin', 'Stephanie Garber', 'Toshikazu Kawaguchi', 'Autumn Publishing', 'Aiden Thomas', 'Amy McCaw', 'Zoulfa Katouh', 'Charles Soule', 'Philip Pullman', 'Mojang AB', 'Joan Sedita', 'Stuart Gibbs', 'Harper L. Woods', 'Eric Geron', 'Karen M. McManus', 'Yoshitoki Oima', 'Fabiana Attanasio', 'Xiran Jay Zhao', 'Anna James', 'K. L. Walther', 'A W Jantha', 'Dani DiPirro', 'Kelly Yang', 'Robert Galbraith', 'Ian McEwan', 'Stephen King', 'Geoffrey Berman', 'Mizuki Tsujimura', 'Steve Jackson', 'Ian Livingstone', 'Richard Osman', 'Agatha Christie', 'Robert Harris', 'Juan Diaz Canales', 'Agatha Christie', 'Laurie Petrou', 'Philip Pullman', 'Shouji Sato', 'Jessica Knoll', 'Alexander McCall Smith', 'Deanna Raybourn', 'Felix Francis', 'Stacy Willingham', 'Kevin Chen', 'Anders Roslund', 'Ed Brubaker', 'Scott Cawthon', 'Alaina Urquhart', 'Martin Edwards', 'Thomas Perry', 'Judy I. Lin', 'Ramsey Campbell', 'Akira Sugito', 'Chip Zdarsky', 'Ellen Marie Wiseman', 'Alison Weir', 'Jennifer Hillier', 'Robert Goddard', 'Stephanie Garber', 'Stephen King', 'Elizabeth Lim', 'Stephen King', 'V.E. Schwab', 'Anthony Reynolds', 'Natalie Haynes', 'Mizuki Tsujimura', 'Adalyn Grace', 'Marjorie Liu', 'Sangu Mandanna', 'Megan Bannen', 'Eric LaRocca', 'Olivie Blake', 'Toshikazu Kawaguchi', 'Ilona Andrews', 'Fujino Omori', 'TJ Klune', 'Peter S. Beagle', 'Philip Pullman', 'Robert Foster', 'Harper L Woods', 'Yasuki Tanaka', 'Yasuki Tanaka', 'Harper L. Woods', 'Shirley Jackson', 'Edgar Allan Poe', 'Gennarose Nethercott', 'Ryoko Kui', 'Ben Counter', 'Lafcadio Hearn', 'Ryoko Kui', 'Stacey McEwan', 'Alex Pheby', 'Wilbur Smith', 'Hannah Che', 'Jamie Oliver', 'Una Leonard', 'Graham Herterich', 'Ali Maffucci', 'Jeremy Lee', 'Lia Leendertz', 'Becky Excell', 'Vicky Bennison', 'Barbara Ryan', 'Samantha Clark', 'Suzie Lee', 'Nadine Estero', 'Danielle Walker', '', 'Jo Scarratt-Jones', 'Meri Allen', 'Raahat Kaduji', 'Raahat Kaduji', 'Rhiannon Lambert', 'Rachel Allen', 'Zeina Mourtada', 'Laura Alvarez', 'Josh Niland', 'Steven Heller', 'Odette Williams', \"America's Test Kitchen America's Test Kitchen\", 'Leah Itsines', 'Andrew Jefford', 'Hairy Bikers', 'Lizzie Mabbott', 'Jorge Gaviria', 'Oded Oren', 'Zoe Burgess', 'Babita Shrestha', 'Lucy Worsley', 'Geoffrey Berman', 'Andrea Wulf', 'John Crawley', \"Fintan O'Toole\", 'Yasmin Boland', 'Kate Allan', 'Emily Ratajkowski', 'Vince Copley', 'Raynor Winn', 'Jared Kushner', 'Ahed Tamimi', 'Dani DiPirro', 'Evan Puschak', 'James Brown', 'Desmond Shum', '', 'Martin McHugh', 'Tova Friedman', 'Jennifer Worth', 'Eric Thomas, PhD', 'Ananyo Bhattacharya', 'Michael Frank', 'R. B. Russell', 'Rebecca May Johnson', 'Brian .J. Kramp', 'Melanie C', 'Mimi Zhu', 'Brian Gewirtz', 'Eoghan Daltun', 'John Higgs', 'Tova Friedman', 'Jann S Wenner', 'Paul Sexton', 'Martin Edwards', 'Philippe Sands', 'Lucy Worsley', 'Andrea Wulf', \"Fintan O'Toole\", 'J. Bradford DeLong', 'Sir Lawrence Freedman', 'Emma J. Wells', 'W. David Marx', 'Ahed Tamimi', 'Andy Saunders', 'Ben MacIntyre', \"Brendan O'Leary\", 'Wilbur Smith', 'Desmond Shum', 'Andrew Quilty', '', 'Tom Shippey', 'Sir Rodric Braithwaite', 'Tova Friedman', 'Orlando Figes', 'Robert Kershaw', 'Mark Lardas', \"Dr Raffaele D'Amato\", 'Richard Vinen', 'Michael Frank', 'Steven Scragg', 'Serge Daney', 'Tova Friedman', 'Alvaro Sanjuan', 'Luigino Caliaro', 'Sandy Taylor', 'Jack Sheffield', 'Uther Charlton-Stevens', 'Samir Puri', 'Nick Thomas-Symonds', 'Gege Akutami', 'Eiichiro Oda', 'Meguru Hinohara', 'Alex Ross', 'Daniel Jose Older', 'Rei Hiroe', '', 'Inio Asano', 'Junji Ito', 'Charles Soule', 'Marjorie Liu', 'Kate Beaton', 'Eric LaRocca', 'Ken Wakui', 'Tomohito Oda', 'Kii Kanna', 'Juan Diaz Canales', 'Kousuke Oono', 'Muneyuki Kaneshiro', 'Charles Soule', 'Shouji Sato', 'Kazuki Irodori', 'Shou Harusono', 'Yuto Suzuki', 'Yasuki Tanaka', 'Yasuki Tanaka', 'Yoshitoki Oima', 'Tsubasa Yamaguchi', 'Ryoko Kui', 'Eiichiro Oda', '', 'Kakeru', 'Roy Thomas', 'Ryoko Kui', 'Aka Akasaka', 'Dr Becky Kennedy', 'Iulia Bochis', 'Simran Kaur', 'Irene Smit', 'Sharon Blackie', 'Yasmin Boland', 'Kate Allan', 'Kassandra Reinhardt', 'Richard Restak', 'Robert Fripp', 'Ryan Holiday', 'Raynor Winn', 'Dani DiPirro', 'Minnie Small', 'Richard Templar', 'Will Storr', 'Amy Gallo', 'Eric Thomas, PhD', 'Liz Climo', 'Mimi Zhu', 'Bob Sehlinger', 'Jennifer Tucker', 'Christine Caine', 'Cassie Holmes', 'Ramit Sethi', 'Marilee Adams, Ph.D.', 'Pippa Vosper', 'Marty Raney', 'Shakaila Forbes-Bell', 'Marian Rojas', 'Pippa Chapman', 'Ton Mak', 'Chris Hirst', 'Sourcebooks', 'Francesca Matteoni', 'Rory Smith', 'Philippe Sands', 'Simran Kaur', 'Geoffrey Berman', 'J. Bradford DeLong', 'Vince Copley', 'Sir Lawrence Freedman', 'Henry Sanderson', 'Ryan Holiday', 'Helen Beal', 'Jon Clifton', 'Richard Templar', 'Will Storr', 'Amy Gallo', 'Eric Thomas, PhD', 'Richard Vinen', 'Bill Gates', 'R. B. Russell', 'Melanie C', 'Jann S Wenner', 'David Enrich', 'Nina Totenberg', 'Cassie Holmes', 'Shaun Bythell', 'Simon Williams', 'Marilee Adams, Ph.D.', 'Dr Peter Jones', 'Vivek Chibber', 'Philip Coggan', 'Chris Hirst', 'Howard Yaruss', 'Bob Moesta', 'Marilee Adams, Ph.D.', 'Thom Hartmann', 'Courtney Kae', 'Randall Munroe', 'Rory Smith', 'WILLIAM MACASKILL', 'Sharon Blackie', 'Michael Lawrence', 'Douglas Rushkoff', 'Richard Restak', 'Henry Sanderson', 'Gaia Vince', 'Raynor Winn', 'Lia Leendertz', 'Joelle Gergis', 'Professor Anil Seth', '', 'Wes Jackson', 'Ananyo Bhattacharya', 'Bill Gates', 'Eoghan Daltun', 'Carlo Rovelli', 'Tom Mustill', 'Jürgen Tautz', 'Erika Fatland', 'Rick Stanton', 'Marty Raney', 'Heather Heying', 'Howard Yaruss', 'Colin Thubron', 'Workman Calendars', 'Chad Hanson', 'John Keay', 'Mike Unwin', 'Paco Calvo', 'Roberto Battiston', 'Mark Bergen', \"Ray d'Inverno\", 'Dr Becky Kennedy', 'Iulia Bochis', 'Mariana Zapata', 'Amy Huberman', 'Sharon Blackie', 'Kassandra Reinhardt', 'Ali Maffucci', 'Raynor Winn', 'Dani DiPirro', 'Barbara Ryan', 'Sarah Ockwell-Smith', 'Liz Climo', 'Mimi Zhu', 'Sherronda J. Brown', 'Mazey Eddings', 'Nina Totenberg', 'Joanna Fortune', 'Tenzin Wangyal Rinpoche', 'Pippa Vosper', 'Helen McGinn', 'Jessica Redland', 'Susan Piver', 'Courtney Kae', 'Scott Barry Kaufman', 'The Specialists from the Post-Covid Clinic, Oxford', 'Hillary Morgan Ferrer', 'Alice Wong', 'Susie Hodge', 'Fiona Oates', 'Rafia Zakaria', 'Rhiannon Lambert', 'Dr Becky Kennedy', 'Gina Schaefer', 'Laura Alvarez', 'Bernice Tuffery'], 'format': ['Hardback', 'Paperback', 'Paperback', 'Paperback', 'Hardback', 'Hardback', 'Hardback', 'Hardback', 'Hardback', 'Paperback', 'Paperback', 'Paperback', 'Paperback', 'Hardback', 'Hardback', 'Hardback', 'Paperback', 'Hardback', 'Hardback', 'Hardback', 'Hardback', 'Paperback', 'Hardback', 'Hardback', 'Hardback', 'Hardback', 'Paperback', 'Hardback', 'Hardback', 'Hardback', 'Paperback', 'Hardback', 'Hardback', 'Paperback', 'Hardback', 'Hardback', 'Paperback', 'Hardback', 'Hardback', 'Paperback', 'Paperback', 'Hardback', 'Hardback', 'Paperback', 'Paperback', 'Hardback', 'Hardback', 'Paperback', 'Hardback', 'Paperback', 'Hardback', 'Hardback', 'Paperback', 'Hardback', 'Hardback', 'Paperback', 'Hardback', 'Paperback', 'Paperback', 'Hardback', 'Paperback', 'Hardback', 'Hardback', 'Paperback', 'Paperback', 'Hardback', 'Hardback', 'Paperback', 'Hardback', 'Paperback', 'Hardback', 'Hardback', 'Paperback', 'Paperback', 'Hardback', 'Hardback', 'Paperback', 'Hardback', 'Paperback', 'Board book', 'Hardback', 'Paperback', 'Hardback', 'Hardback', 'Hardback', 'Paperback', 'Hardback', 'Paperback', 'Hardback', 'Paperback', 'Hardback', 'Hardback', 'Paperback', 'Hardback', 'Paperback', 'Hardback', 'Paperback', 'Hardback', 'Paperback', 'Paperback', 'Hardback', 'Paperback', 'Hardback', 'Paperback', 'Paperback', 'Hardback', 'Hardback', 'Hardback', 'Hardback', 'Paperback', 'Paperback', 'Paperback', 'Hardback', 'Hardback', 'Hardback', 'Hardback', 'Hardback', 'Paperback', 'Hardback', 'Paperback', 'Paperback', 'Hardback', 'Hardback', 'Hardback', 'Paperback', 'Paperback', 'Hardback', 'Hardback', 'Paperback', 'Hardback', 'Hardback', 'Paperback', 'Paperback', 'Paperback', 'Paperback', 'Paperback', 'Paperback', 'Paperback', 'Hardback', 'Paperback', 'Hardback', 'Hardback', 'Hardback', 'Hardback', 'Hardback', 'Hardback', 'Hardback', 'Paperback', 'Hardback', 'Paperback', 'Hardback', 'Paperback', 'Hardback', 'Paperback', 'Hardback', 'Paperback', 'Paperback', 'Hardback', 'Hardback', 'Hardback', 'Hardback', 'Paperback', 'Paperback', 'Paperback', 'Paperback', 'Hardback', 'Hardback', 'Paperback', 'Paperback', 'Paperback', 'Hardback', 'Paperback', 'Hardback', 'Hardback', 'Hardback', 'Hardback', 'Hardback', 'Hardback', 'Hardback', 'Paperback', 'Hardback', 'Hardback', 'Hardback', 'Hardback', 'Paperback', 'Hardback', 'Hardback', 'Hardback', 'Hardback', 'Paperback', 'Paperback', 'Paperback', 'Paperback', 'Hardback', 'Hardback', 'Hardback', 'Hardback', 'Paperback', 'Paperback', 'Hardback', 'Hardback', 'Hardback', 'Paperback', 'Hardback', 'Paperback', 'Hardback', 'Hardback', 'Hardback', 'Hardback', 'Hardback', 'Hardback', 'Hardback', 'Hardback', 'Paperback', 'Paperback', 'Paperback', 'Calendar', 'Paperback', 'Paperback', 'Hardback', 'Hardback', 'Hardback', 'Paperback', 'Hardback', 'Hardback', 'Paperback', 'Hardback', 'Paperback', 'Hardback', 'Hardback', 'Hardback', 'Paperback', 'Hardback', 'Paperback', 'Hardback', 'Paperback', 'Hardback', 'Paperback', 'Hardback', 'Hardback', 'Hardback', 'Paperback', 'Hardback', 'Hardback', 'Hardback', 'Hardback', 'Hardback', 'Hardback', 'Paperback', 'Hardback', 'Hardback', 'Hardback', 'Hardback', 'Hardback', 'Hardback', 'Hardback', 'Hardback', 'Hardback', 'Paperback', 'Paperback', 'Hardback', 'Paperback', 'Hardback', 'Hardback', 'Hardback', 'Hardback', 'Paperback', 'Paperback', 'Hardback', 'Hardback', 'Hardback', 'Hardback', 'Paperback', 'Book', 'Hardback', 'Paperback', 'Paperback', 'Hardback', 'Hardback', 'Hardback', 'Paperback', 'Paperback', 'Paperback', 'Hardback', 'Paperback', 'Paperback', 'Paperback', 'Paperback', 'Hardback', 'Paperback', 'Paperback', 'Hardback', 'Hardback', 'Paperback', 'Paperback', 'Paperback', 'Hardback', 'Paperback', 'Paperback', 'Paperback', 'Paperback', 'Paperback', 'Paperback', 'Paperback', 'Paperback', 'Paperback', 'Hardback', 'Paperback', 'Paperback', 'Paperback', 'Paperback', 'Paperback', 'Paperback', 'Paperback', 'Paperback', 'Paperback', 'Hardback', 'Paperback', 'Hardback', 'Hardback', 'Paperback', 'Calendar', 'Paperback', 'Hardback', 'Hardback', 'Paperback', 'Hardback', 'Paperback', 'Paperback', 'Paperback', 'Paperback', 'Hardback', 'Hardback', 'Hardback', 'Paperback', 'Paperback', 'Hardback', 'Hardback', 'Hardback', 'Paperback', 'Paperback', 'Hardback', 'Paperback', 'Hardback', 'Paperback', 'Paperback', 'Hardback', 'Paperback', 'Calendar', 'Mixed media product', 'Hardback', 'Hardback', 'Paperback', 'Hardback', 'Hardback', 'Paperback', 'Hardback', 'Hardback', 'Paperback', 'Paperback', 'Hardback', 'Paperback', 'Paperback', 'Hardback', 'Hardback', 'Hardback', 'Paperback', 'Paperback', 'Hardback', 'Hardback', 'Hardback', 'Hardback', 'Hardback', 'Hardback', 'Hardback', 'Paperback', 'Paperback', 'Paperback', 'Hardback', 'Paperback', 'Hardback', 'Paperback', 'Paperback', 'Paperback', 'Paperback', 'Hardback', 'Hardback', 'Hardback', 'Hardback', 'Paperback', 'Hardback', 'Hardback', 'Hardback', 'Hardback', 'Hardback', 'Hardback', 'Paperback', 'Paperback', 'Hardback', 'Paperback', 'Paperback', 'Paperback', 'Hardback', 'Paperback', 'Hardback', 'Hardback', 'Hardback', 'Paperback', 'Paperback', 'Paperback', 'Hardback', 'Paperback', 'Calendar', 'Hardback', 'Hardback', 'Hardback', 'Hardback', 'Hardback', 'Paperback', 'Paperback', 'Paperback', 'Hardback', 'Paperback', 'Paperback', 'Hardback', 'Paperback', 'Paperback', 'Hardback', 'Paperback', 'Paperback', 'Paperback', 'Hardback', 'Paperback', 'Paperback', 'Paperback', 'Hardback', 'Paperback', 'Paperback', 'Hardback', 'Paperback', 'Paperback', 'Paperback', 'Paperback', 'Paperback', 'Paperback', 'Paperback', 'Paperback', 'Paperback', 'Paperback', 'Paperback', 'Hardback', 'Hardback', 'Paperback', 'Paperback', 'Paperback', 'Hardback', 'Paperback', 'Paperback', 'Paperback', 'Hardback', 'Hardback', 'Hardback', 'Hardback', 'Hardback', 'Paperback', 'Paperback', 'Paperback', 'Paperback', 'Hardback', 'Hardback', 'Hardback', 'Paperback', 'Hardback', 'Hardback', 'Hardback', 'Hardback', 'Paperback', 'Hardback', 'Hardback', 'Hardback', 'Hardback', 'Paperback', 'Hardback', 'Hardback', 'Hardback', 'Paperback', 'Hardback', 'Hardback', 'Paperback', 'Hardback', 'Hardback', 'Paperback', 'Hardback', 'Hardback', 'Paperback', 'Paperback', 'Hardback', 'Hardback', 'Paperback', 'Paperback', 'Hardback', 'Hardback', 'Paperback', 'Hardback', 'Paperback', 'Hardback', 'Hardback', 'Paperback', 'Hardback', 'Hardback', 'Paperback', 'Hardback', 'Paperback', 'Paperback', 'Hardback', 'Paperback', 'Hardback', 'Hardback', 'Paperback', 'Paperback', 'Hardback', 'Hardback', 'Paperback', 'Hardback', 'Paperback', 'Hardback', 'Hardback', 'Paperback', 'Paperback', 'Hardback', 'Hardback', 'Paperback', 'Hardback', 'Paperback', 'Board book', 'Hardback', 'Paperback', 'Hardback', 'Hardback', 'Hardback', 'Paperback', 'Hardback', 'Paperback', 'Hardback', 'Paperback', 'Hardback', 'Hardback', 'Paperback', 'Hardback', 'Paperback', 'Hardback', 'Paperback', 'Hardback', 'Paperback', 'Paperback', 'Hardback', 'Paperback', 'Hardback', 'Paperback', 'Paperback', 'Hardback', 'Hardback', 'Hardback', 'Hardback', 'Paperback', 'Paperback', 'Paperback', 'Hardback', 'Hardback', 'Hardback', 'Hardback', 'Hardback', 'Paperback', 'Hardback', 'Paperback', 'Paperback', 'Hardback', 'Hardback', 'Hardback', 'Paperback', 'Paperback', 'Hardback', 'Hardback', 'Paperback', 'Hardback', 'Hardback', 'Paperback', 'Paperback', 'Paperback', 'Paperback', 'Paperback', 'Paperback', 'Paperback', 'Hardback', 'Paperback', 'Hardback', 'Hardback', 'Hardback', 'Hardback', 'Hardback', 'Hardback', 'Hardback', 'Paperback', 'Hardback', 'Paperback', 'Hardback', 'Paperback', 'Hardback', 'Paperback', 'Hardback', 'Paperback', 'Paperback', 'Hardback', 'Hardback', 'Hardback', 'Hardback', 'Paperback', 'Paperback', 'Paperback', 'Paperback', 'Hardback', 'Hardback', 'Paperback', 'Paperback', 'Paperback', 'Hardback', 'Paperback', 'Hardback', 'Hardback', 'Hardback', 'Hardback', 'Hardback', 'Hardback', 'Hardback', 'Paperback', 'Hardback', 'Hardback', 'Hardback', 'Hardback', 'Paperback', 'Hardback', 'Hardback', 'Hardback', 'Hardback', 'Paperback', 'Paperback', 'Paperback', 'Paperback', 'Hardback', 'Hardback', 'Hardback', 'Hardback', 'Paperback', 'Paperback', 'Hardback', 'Hardback', 'Hardback', 'Paperback', 'Hardback', 'Paperback', 'Hardback', 'Hardback', 'Hardback', 'Hardback', 'Hardback', 'Hardback', 'Hardback', 'Hardback', 'Paperback', 'Paperback', 'Paperback', 'Calendar', 'Paperback', 'Paperback', 'Hardback', 'Hardback', 'Hardback', 'Paperback', 'Hardback', 'Hardback', 'Paperback', 'Hardback', 'Paperback', 'Hardback', 'Hardback', 'Hardback', 'Paperback', 'Hardback', 'Paperback', 'Hardback', 'Paperback', 'Hardback', 'Paperback', 'Hardback', 'Hardback', 'Hardback', 'Paperback', 'Hardback', 'Hardback', 'Hardback', 'Hardback', 'Hardback', 'Hardback', 'Paperback', 'Hardback', 'Hardback', 'Hardback', 'Hardback', 'Hardback', 'Hardback', 'Hardback', 'Hardback', 'Hardback', 'Paperback', 'Paperback', 'Hardback', 'Paperback', 'Hardback', 'Hardback', 'Hardback', 'Hardback', 'Paperback', 'Paperback', 'Hardback', 'Hardback', 'Hardback', 'Hardback', 'Paperback', 'Book', 'Hardback', 'Paperback', 'Paperback', 'Hardback', 'Hardback', 'Hardback', 'Paperback', 'Paperback', 'Paperback', 'Hardback', 'Paperback', 'Paperback', 'Paperback', 'Paperback', 'Hardback', 'Paperback', 'Paperback', 'Hardback', 'Hardback', 'Paperback', 'Paperback', 'Paperback', 'Hardback', 'Paperback', 'Paperback', 'Paperback', 'Paperback', 'Paperback', 'Paperback', 'Paperback', 'Paperback', 'Paperback', 'Hardback', 'Paperback', 'Paperback', 'Paperback', 'Paperback', 'Paperback', 'Paperback', 'Paperback', 'Paperback', 'Paperback', 'Hardback', 'Paperback', 'Hardback', 'Hardback', 'Paperback', 'Calendar', 'Paperback', 'Hardback', 'Hardback', 'Paperback', 'Hardback', 'Paperback', 'Paperback', 'Paperback', 'Paperback', 'Hardback', 'Hardback', 'Hardback', 'Paperback', 'Paperback', 'Hardback', 'Hardback', 'Hardback', 'Paperback', 'Paperback', 'Hardback', 'Paperback', 'Hardback', 'Paperback', 'Paperback', 'Hardback', 'Paperback', 'Calendar', 'Mixed media product', 'Hardback', 'Hardback', 'Paperback', 'Hardback', 'Hardback', 'Paperback', 'Hardback', 'Hardback', 'Paperback', 'Paperback', 'Hardback', 'Paperback', 'Paperback', 'Hardback', 'Hardback', 'Hardback', 'Paperback', 'Paperback', 'Hardback', 'Hardback', 'Hardback', 'Hardback', 'Hardback', 'Hardback', 'Hardback', 'Paperback', 'Paperback', 'Paperback', 'Hardback', 'Paperback', 'Hardback', 'Paperback', 'Paperback', 'Paperback', 'Paperback', 'Hardback', 'Hardback', 'Hardback', 'Hardback', 'Paperback', 'Hardback', 'Hardback', 'Hardback', 'Hardback', 'Hardback', 'Hardback', 'Paperback', 'Paperback', 'Hardback', 'Paperback', 'Paperback', 'Paperback', 'Hardback', 'Paperback', 'Hardback', 'Hardback', 'Hardback', 'Paperback', 'Paperback', 'Paperback', 'Hardback', 'Paperback', 'Calendar', 'Hardback', 'Hardback', 'Hardback', 'Hardback', 'Hardback', 'Paperback', 'Paperback', 'Paperback', 'Hardback', 'Paperback', 'Paperback', 'Hardback', 'Paperback', 'Paperback', 'Hardback', 'Paperback', 'Paperback', 'Paperback', 'Hardback', 'Paperback', 'Paperback', 'Paperback', 'Hardback', 'Paperback', 'Paperback', 'Hardback', 'Paperback', 'Paperback', 'Paperback', 'Paperback', 'Paperback', 'Paperback', 'Paperback', 'Paperback', 'Paperback', 'Paperback', 'Paperback', 'Hardback', 'Hardback', 'Paperback', 'Paperback', 'Paperback'], 'published': ['13 Sep 2022', '23 Aug 2022', '15 Sep 2022', '06 Sep 2022', '30 Aug 2022', '06 Sep 2022', '30 Aug 2022', '01 Sep 2022', '13 Sep 2022', '01 Sep 2022', '30 Aug 2022', '15 Sep 2022', '01 Sep 2022', '13 Sep 2022', '06 Sep 2022', '13 Sep 2022', '01 Sep 2022', '01 Sep 2022', '08 Sep 2022', '01 Sep 2022', '25 Aug 2022', '29 Aug 2022', '08 Sep 2022', '14 Sep 2022', '08 Sep 2022', '06 Sep 2022', '01 Sep 2022', '15 Sep 2022', '15 Sep 2022', '01 Sep 2022', '15 Sep 2022', '15 Sep 2022', '01 Sep 2022', '15 Sep 2022', '01 Sep 2022', '13 Sep 2022', '06 Sep 2022', '30 Aug 2022', '06 Sep 2022', '30 Aug 2022', '01 Sep 2022', '13 Sep 2022', '15 Sep 2022', '08 Sep 2022', '13 Sep 2022', '30 Aug 2022', '15 Sep 2022', '25 Aug 2022', '30 Aug 2022', '15 Sep 2022', '01 Sep 2022', '25 Aug 2022', '01 Sep 2022', '01 Sep 2022', '25 Aug 2022', '01 Sep 2022', '25 Aug 2022', '01 Sep 2022', '08 Sep 2022', '01 Sep 2022', '15 Sep 2022', '25 Aug 2022', '25 Aug 2022', '01 Sep 2022', '13 Sep 2022', '25 Aug 2022', '25 Aug 2022', '01 Sep 2022', '25 Aug 2022', '13 Sep 2022', '13 Sep 2022', '30 Aug 2022', '01 Sep 2022', '01 Sep 2022', '15 Sep 2022', '01 Sep 2022', '01 Sep 2022', '01 Sep 2022', '01 Sep 2022', '01 Sep 2022', '30 Aug 2022', '06 Sep 2022', '23 Aug 2022', '13 Sep 2022', '01 Sep 2022', '31 Aug 2022', '06 Sep 2022', '01 Sep 2022', '15 Sep 2022', '01 Sep 2022', '15 Sep 2022', '01 Sep 2022', '30 Aug 2022', '06 Sep 2022', '30 Aug 2022', '30 Aug 2022', '01 Sep 2022', '13 Sep 2022', '08 Sep 2022', '08 Sep 2022', '15 Sep 2022', '01 Sep 2022', '30 Aug 2022', '13 Sep 2022', '01 Sep 2022', '30 Aug 2022', '13 Sep 2022', '06 Sep 2022', '15 Sep 2022', '08 Sep 2022', '01 Sep 2022', '01 Sep 2022', '15 Sep 2022', '15 Sep 2022', '01 Sep 2022', '25 Aug 2022', '13 Sep 2022', '01 Sep 2022', '15 Sep 2022', '13 Sep 2022', '08 Sep 2022', '01 Sep 2022', '08 Sep 2022', '15 Sep 2022', '01 Sep 2022', '25 Aug 2022', '15 Sep 2022', '23 Aug 2022', '06 Sep 2022', '13 Sep 2022', '30 Aug 2022', '01 Sep 2022', '06 Sep 2022', '13 Sep 2022', '23 Aug 2022', '06 Sep 2022', '30 Aug 2022', '15 Sep 2022', '19 Aug 2022', '01 Sep 2022', '13 Sep 2022', '06 Sep 2022', '30 Aug 2022', '06 Sep 2022', '08 Sep 2022', '06 Sep 2022', '15 Sep 2022', '08 Sep 2022', '30 Aug 2022', '13 Sep 2022', '23 Aug 2022', '25 Aug 2022', '06 Sep 2022', '15 Sep 2022', '01 Sep 2022', '15 Sep 2022', '06 Sep 2022', '01 Sep 2022', '25 Aug 2022', '15 Sep 2022', '01 Sep 2022', '30 Aug 2022', '06 Sep 2022', '06 Sep 2022', '30 Aug 2022', '25 Aug 2022', '25 Aug 2022', '13 Sep 2022', '23 Aug 2022', '15 Sep 2022', '25 Aug 2022', '23 Aug 2022', '13 Sep 2022', '08 Sep 2022', '01 Sep 2022', '13 Sep 2022', '01 Sep 2022', '15 Sep 2022', '08 Sep 2022', '01 Sep 2022', '01 Sep 2022', '01 Sep 2022', '25 Aug 2022', '15 Sep 2022', '23 Aug 2022', '08 Sep 2022', '13 Sep 2022', '06 Sep 2022', '06 Sep 2022', '01 Sep 2022', '01 Sep 2022', '08 Sep 2022', '01 Sep 2022', '01 Sep 2022', '08 Sep 2022', '01 Sep 2022', '13 Sep 2022', '08 Sep 2022', '31 Aug 2022', '13 Sep 2022', '30 Aug 2022', '06 Sep 2022', '30 Aug 2022', '06 Sep 2022', '23 Aug 2022', '25 Aug 2022', '15 Sep 2022', '15 Sep 2022', '06 Sep 2022', '06 Sep 2022', '08 Sep 2022', '15 Sep 2022', '01 Sep 2022', '06 Sep 2022', '01 Sep 2022', '30 Aug 2022', '06 Sep 2022', '13 Sep 2022', '07 Sep 2022', '15 Sep 2022', '01 Sep 2022', '06 Sep 2022', '13 Sep 2022', '30 Aug 2022', '15 Sep 2022', '02 Sep 2022', '05 Sep 2022', '31 Aug 2022', '01 Sep 2022', '01 Sep 2022', '13 Sep 2022', '25 Aug 2022', '06 Sep 2022', '13 Sep 2022', '25 Aug 2022', '06 Sep 2022', '15 Sep 2022', '07 Sep 2022', '15 Sep 2022', '15 Sep 2022', '15 Sep 2022', '06 Sep 2022', '13 Sep 2022', '15 Sep 2022', '30 Aug 2022', '25 Aug 2022', '08 Sep 2022', '01 Sep 2022', '01 Sep 2022', '06 Sep 2022', '08 Sep 2022', '01 Sep 2022', '06 Sep 2022', '06 Sep 2022', '01 Sep 2022', '15 Sep 2022', '01 Sep 2022', '01 Sep 2022', '02 Sep 2022', '02 Sep 2022', '05 Sep 2022', '31 Aug 2022', '25 Aug 2022', '01 Sep 2022', '01 Sep 2022', '06 Sep 2022', '15 Sep 2022', '15 Sep 2022', '01 Sep 2022', '06 Sep 2022', '15 Sep 2022', '06 Sep 2022', '06 Sep 2022', '15 Sep 2022', '15 Sep 2022', '01 Sep 2022', '08 Sep 2022', '08 Sep 2022', '25 Aug 2022', '01 Sep 2022', '15 Sep 2022', '01 Sep 2022', '15 Sep 2022', '15 Sep 2022', '15 Sep 2022', '15 Sep 2022', '01 Sep 2022', '15 Sep 2022', '01 Sep 2022', '13 Sep 2022', '13 Sep 2022', '15 Sep 2022', '06 Sep 2022', '30 Aug 2022', '15 Sep 2022', '30 Aug 2022', '25 Aug 2022', '15 Sep 2022', '30 Aug 2022', '01 Sep 2022', '13 Sep 2022', '30 Aug 2022', '23 Aug 2022', '15 Sep 2022', '06 Sep 2022', '06 Sep 2022', '13 Sep 2022', '23 Aug 2022', '23 Aug 2022', '15 Sep 2022', '15 Sep 2022', '13 Sep 2022', '01 Sep 2022', '23 Aug 2022', '01 Sep 2022', '15 Sep 2022', '01 Sep 2022', '29 Aug 2022', '13 Sep 2022', '06 Sep 2022', '30 Aug 2022', '06 Sep 2022', '10 Sep 2022', '15 Sep 2022', '01 Sep 2022', '08 Sep 2022', '15 Sep 2022', '13 Sep 2022', '08 Sep 2022', '14 Sep 2022', '13 Sep 2022', '13 Sep 2022', '13 Sep 2022', '15 Sep 2022', '07 Sep 2022', '15 Sep 2022', '13 Sep 2022', '01 Sep 2022', '06 Sep 2022', '13 Sep 2022', '23 Aug 2022', '25 Aug 2022', '13 Sep 2022', '15 Sep 2022', '23 Aug 2022', '01 Sep 2022', '01 Sep 2022', '06 Sep 2022', '01 Sep 2022', '19 Aug 2022', '01 Sep 2022', '25 Aug 2022', '29 Aug 2022', '15 Sep 2022', '06 Sep 2022', '07 Sep 2022', '08 Sep 2022', '13 Sep 2022', '08 Sep 2022', '13 Sep 2022', '13 Sep 2022', '14 Sep 2022', '13 Sep 2022', '13 Sep 2022', '13 Sep 2022', '01 Sep 2022', '23 Aug 2022', '13 Sep 2022', '15 Sep 2022', '13 Sep 2022', '13 Sep 2022', '13 Sep 2022', '06 Sep 2022', '01 Sep 2022', '01 Sep 2022', '23 Aug 2022', '30 Aug 2022', '30 Aug 2022', '01 Sep 2022', '06 Sep 2022', '15 Sep 2022', '06 Sep 2022', '23 Aug 2022', '13 Sep 2022', '30 Aug 2022', '13 Sep 2022', '01 Sep 2022', '01 Sep 2022', '06 Sep 2022', '22 Aug 2022', '08 Sep 2022', '15 Sep 2022', '13 Sep 2022', '25 Aug 2022', '15 Sep 2022', '01 Sep 2022', '30 Aug 2022', '01 Sep 2022', '05 Sep 2022', '15 Sep 2022', '25 Aug 2022', '23 Aug 2022', '15 Sep 2022', '01 Sep 2022', '15 Sep 2022', '04 Sep 2022', '25 Aug 2022', '25 Aug 2022', '13 Sep 2022', '01 Sep 2022', '15 Sep 2022', '15 Sep 2022', '06 Sep 2022', '13 Sep 2022', '15 Sep 2022', '23 Aug 2022', '25 Aug 2022', '06 Sep 2022', '08 Sep 2022', '07 Sep 2022', '15 Sep 2022', '01 Sep 2022', '30 Aug 2022', '01 Sep 2022', '06 Sep 2022', '10 Sep 2022', '01 Sep 2022', '15 Sep 2022', '13 Sep 2022', '23 Aug 2022', '25 Aug 2022', '15 Sep 2022', '07 Sep 2022', '13 Sep 2022', '06 Sep 2022', '13 Sep 2022', '14 Sep 2022', '30 Aug 2022', '25 Aug 2022', '14 Sep 2022', '06 Sep 2022', '13 Sep 2022', '30 Aug 2022', '15 Sep 2022', '06 Sep 2022', '06 Sep 2022', '06 Sep 2022', '13 Sep 2022', '19 Aug 2022', '08 Sep 2022', '08 Sep 2022', '13 Sep 2022', '01 Sep 2022', '08 Sep 2022', '01 Sep 2022', '13 Sep 2022', '23 Aug 2022', '15 Sep 2022', '06 Sep 2022', '30 Aug 2022', '06 Sep 2022', '30 Aug 2022', '01 Sep 2022', '13 Sep 2022', '01 Sep 2022', '30 Aug 2022', '15 Sep 2022', '01 Sep 2022', '13 Sep 2022', '06 Sep 2022', '13 Sep 2022', '01 Sep 2022', '01 Sep 2022', '08 Sep 2022', '01 Sep 2022', '25 Aug 2022', '29 Aug 2022', '08 Sep 2022', '14 Sep 2022', '08 Sep 2022', '06 Sep 2022', '01 Sep 2022', '15 Sep 2022', '15 Sep 2022', '01 Sep 2022', '15 Sep 2022', '15 Sep 2022', '01 Sep 2022', '15 Sep 2022', '01 Sep 2022', '13 Sep 2022', '06 Sep 2022', '30 Aug 2022', '06 Sep 2022', '30 Aug 2022', '01 Sep 2022', '13 Sep 2022', '15 Sep 2022', '08 Sep 2022', '13 Sep 2022', '30 Aug 2022', '15 Sep 2022', '25 Aug 2022', '30 Aug 2022', '15 Sep 2022', '01 Sep 2022', '25 Aug 2022', '01 Sep 2022', '01 Sep 2022', '25 Aug 2022', '01 Sep 2022', '25 Aug 2022', '01 Sep 2022', '08 Sep 2022', '01 Sep 2022', '15 Sep 2022', '25 Aug 2022', '25 Aug 2022', '01 Sep 2022', '13 Sep 2022', '25 Aug 2022', '25 Aug 2022', '01 Sep 2022', '25 Aug 2022', '13 Sep 2022', '13 Sep 2022', '30 Aug 2022', '01 Sep 2022', '01 Sep 2022', '15 Sep 2022', '01 Sep 2022', '01 Sep 2022', '01 Sep 2022', '01 Sep 2022', '01 Sep 2022', '30 Aug 2022', '06 Sep 2022', '23 Aug 2022', '13 Sep 2022', '01 Sep 2022', '31 Aug 2022', '06 Sep 2022', '01 Sep 2022', '15 Sep 2022', '01 Sep 2022', '15 Sep 2022', '01 Sep 2022', '30 Aug 2022', '06 Sep 2022', '30 Aug 2022', '30 Aug 2022', '01 Sep 2022', '13 Sep 2022', '08 Sep 2022', '08 Sep 2022', '15 Sep 2022', '01 Sep 2022', '30 Aug 2022', '13 Sep 2022', '01 Sep 2022', '30 Aug 2022', '13 Sep 2022', '06 Sep 2022', '15 Sep 2022', '08 Sep 2022', '01 Sep 2022', '01 Sep 2022', '15 Sep 2022', '15 Sep 2022', '01 Sep 2022', '25 Aug 2022', '13 Sep 2022', '01 Sep 2022', '15 Sep 2022', '13 Sep 2022', '08 Sep 2022', '01 Sep 2022', '08 Sep 2022', '15 Sep 2022', '01 Sep 2022', '25 Aug 2022', '15 Sep 2022', '23 Aug 2022', '06 Sep 2022', '13 Sep 2022', '30 Aug 2022', '01 Sep 2022', '06 Sep 2022', '13 Sep 2022', '23 Aug 2022', '06 Sep 2022', '30 Aug 2022', '15 Sep 2022', '19 Aug 2022', '01 Sep 2022', '13 Sep 2022', '06 Sep 2022', '30 Aug 2022', '06 Sep 2022', '08 Sep 2022', '06 Sep 2022', '15 Sep 2022', '08 Sep 2022', '30 Aug 2022', '13 Sep 2022', '23 Aug 2022', '25 Aug 2022', '06 Sep 2022', '15 Sep 2022', '01 Sep 2022', '15 Sep 2022', '06 Sep 2022', '01 Sep 2022', '25 Aug 2022', '15 Sep 2022', '01 Sep 2022', '30 Aug 2022', '06 Sep 2022', '06 Sep 2022', '30 Aug 2022', '25 Aug 2022', '25 Aug 2022', '13 Sep 2022', '23 Aug 2022', '15 Sep 2022', '25 Aug 2022', '23 Aug 2022', '13 Sep 2022', '08 Sep 2022', '01 Sep 2022', '13 Sep 2022', '01 Sep 2022', '15 Sep 2022', '08 Sep 2022', '01 Sep 2022', '01 Sep 2022', '01 Sep 2022', '25 Aug 2022', '15 Sep 2022', '23 Aug 2022', '08 Sep 2022', '13 Sep 2022', '06 Sep 2022', '06 Sep 2022', '01 Sep 2022', '01 Sep 2022', '08 Sep 2022', '01 Sep 2022', '01 Sep 2022', '08 Sep 2022', '01 Sep 2022', '13 Sep 2022', '08 Sep 2022', '31 Aug 2022', '13 Sep 2022', '30 Aug 2022', '06 Sep 2022', '30 Aug 2022', '06 Sep 2022', '23 Aug 2022', '25 Aug 2022', '15 Sep 2022', '15 Sep 2022', '06 Sep 2022', '06 Sep 2022', '08 Sep 2022', '15 Sep 2022', '01 Sep 2022', '06 Sep 2022', '01 Sep 2022', '30 Aug 2022', '06 Sep 2022', '13 Sep 2022', '07 Sep 2022', '15 Sep 2022', '01 Sep 2022', '06 Sep 2022', '13 Sep 2022', '30 Aug 2022', '15 Sep 2022', '02 Sep 2022', '05 Sep 2022', '31 Aug 2022', '01 Sep 2022', '01 Sep 2022', '13 Sep 2022', '25 Aug 2022', '06 Sep 2022', '13 Sep 2022', '25 Aug 2022', '06 Sep 2022', '15 Sep 2022', '07 Sep 2022', '15 Sep 2022', '15 Sep 2022', '15 Sep 2022', '06 Sep 2022', '13 Sep 2022', '15 Sep 2022', '30 Aug 2022', '25 Aug 2022', '08 Sep 2022', '01 Sep 2022', '01 Sep 2022', '06 Sep 2022', '08 Sep 2022', '01 Sep 2022', '06 Sep 2022', '06 Sep 2022', '01 Sep 2022', '15 Sep 2022', '01 Sep 2022', '01 Sep 2022', '02 Sep 2022', '02 Sep 2022', '05 Sep 2022', '31 Aug 2022', '25 Aug 2022', '01 Sep 2022', '01 Sep 2022', '06 Sep 2022', '15 Sep 2022', '15 Sep 2022', '01 Sep 2022', '06 Sep 2022', '15 Sep 2022', '06 Sep 2022', '06 Sep 2022', '15 Sep 2022', '15 Sep 2022', '01 Sep 2022', '08 Sep 2022', '08 Sep 2022', '25 Aug 2022', '01 Sep 2022', '15 Sep 2022', '01 Sep 2022', '15 Sep 2022', '15 Sep 2022', '15 Sep 2022', '15 Sep 2022', '01 Sep 2022', '15 Sep 2022', '01 Sep 2022', '13 Sep 2022', '13 Sep 2022', '15 Sep 2022', '06 Sep 2022', '30 Aug 2022', '15 Sep 2022', '30 Aug 2022', '25 Aug 2022', '15 Sep 2022', '30 Aug 2022', '01 Sep 2022', '13 Sep 2022', '30 Aug 2022', '23 Aug 2022', '15 Sep 2022', '06 Sep 2022', '06 Sep 2022', '13 Sep 2022', '23 Aug 2022', '23 Aug 2022', '15 Sep 2022', '15 Sep 2022', '13 Sep 2022', '01 Sep 2022', '23 Aug 2022', '01 Sep 2022', '15 Sep 2022', '01 Sep 2022', '29 Aug 2022', '13 Sep 2022', '06 Sep 2022', '30 Aug 2022', '06 Sep 2022', '10 Sep 2022', '15 Sep 2022', '01 Sep 2022', '08 Sep 2022', '15 Sep 2022', '13 Sep 2022', '08 Sep 2022', '14 Sep 2022', '13 Sep 2022', '13 Sep 2022', '13 Sep 2022', '15 Sep 2022', '07 Sep 2022', '15 Sep 2022', '13 Sep 2022', '01 Sep 2022', '06 Sep 2022', '13 Sep 2022', '23 Aug 2022', '25 Aug 2022', '13 Sep 2022', '15 Sep 2022', '23 Aug 2022', '01 Sep 2022', '01 Sep 2022', '06 Sep 2022', '01 Sep 2022', '19 Aug 2022', '01 Sep 2022', '25 Aug 2022', '29 Aug 2022', '15 Sep 2022', '06 Sep 2022', '07 Sep 2022', '08 Sep 2022', '13 Sep 2022', '08 Sep 2022', '13 Sep 2022', '13 Sep 2022', '14 Sep 2022', '13 Sep 2022', '13 Sep 2022', '13 Sep 2022', '01 Sep 2022', '23 Aug 2022', '13 Sep 2022', '15 Sep 2022', '13 Sep 2022', '13 Sep 2022', '13 Sep 2022', '06 Sep 2022', '01 Sep 2022', '01 Sep 2022', '23 Aug 2022', '30 Aug 2022', '30 Aug 2022', '01 Sep 2022', '06 Sep 2022', '15 Sep 2022', '06 Sep 2022', '23 Aug 2022', '13 Sep 2022', '30 Aug 2022', '13 Sep 2022', '01 Sep 2022', '01 Sep 2022', '06 Sep 2022', '22 Aug 2022', '08 Sep 2022', '15 Sep 2022', '13 Sep 2022', '25 Aug 2022', '15 Sep 2022', '01 Sep 2022', '30 Aug 2022', '01 Sep 2022', '05 Sep 2022', '15 Sep 2022', '25 Aug 2022', '23 Aug 2022', '15 Sep 2022', '01 Sep 2022', '15 Sep 2022', '04 Sep 2022', '25 Aug 2022', '25 Aug 2022', '13 Sep 2022', '01 Sep 2022', '15 Sep 2022', '15 Sep 2022', '06 Sep 2022', '13 Sep 2022', '15 Sep 2022', '23 Aug 2022', '25 Aug 2022', '06 Sep 2022', '08 Sep 2022', '07 Sep 2022', '15 Sep 2022', '01 Sep 2022', '30 Aug 2022', '01 Sep 2022', '06 Sep 2022', '10 Sep 2022', '01 Sep 2022', '15 Sep 2022', '13 Sep 2022', '23 Aug 2022', '25 Aug 2022', '15 Sep 2022', '07 Sep 2022', '13 Sep 2022', '06 Sep 2022', '13 Sep 2022', '14 Sep 2022', '30 Aug 2022', '25 Aug 2022', '14 Sep 2022', '06 Sep 2022', '13 Sep 2022', '30 Aug 2022', '15 Sep 2022', '06 Sep 2022', '06 Sep 2022', '06 Sep 2022', '13 Sep 2022', '19 Aug 2022', '08 Sep 2022', '08 Sep 2022', '13 Sep 2022', '01 Sep 2022', '08 Sep 2022', '01 Sep 2022'], 'isbn': ['9781529380965', '9781408725771', '9780008505547', '9781398515642', '9780751584202', '9781399705417', '9781529356786', '9781529149678', '9781473680623', '9780241573631', '9781035402823', '9781974732333', '9780702314643', '9781787333970', '9781668002179', '9780593139707', '9781974732173', '9780008484033', '9781803362144', '9780241431108', '9781474618120', '9781119893783', '9781529303872', '9783791388748', '9781529151145', '9780316469050', '9781838415327', '9781529061475', '9780593300299', '9780861542505', '9781974732241', '9781419761676', '9780702303517', '9781804910535', '9781529392746', '9781529380965', '9781398515642', '9780751584202', '9781399705417', '9781035402823', '9780702314643', '9781787333970', '9781529061475', '9781529176667', '9780231202916', '9781472223845', '9780241512425', '9780593549476', '9781529152128', '9781529095258', '9781035004614', '9780241573761', '9781800751293', '9781035002139', '9781399606967', '9780857308221', '9780241573730', '9781844885527', '9781529090444', '9781408714454', '9781405955799', '9780241590539', '9780241573754', '9781398521582', '9780593470220', '9780241582527', '9780241573693', '9781398521568', '9780241573723', '9781950508532', '9781529380965', '9781529356786', '9780241573631', '9780702314643', '9781419761676', '9780702303517', '9781407188492', '9780316370950', '9780702323096', '9781474997867', '9780316158237', '9781338776904', '9781250767103', '9781250268426', '9781035004614', '9781803684543', '9781250822130', '9781912979912', '9781526648525', '9780785194682', '9780241475256', '9780008495985', '9781681255897', '9781534479494', '9781399711685', '9781368076692', '9780241473689', '9781646514069', '9781250282194', '9780861542116', '9780008410858', '9781728210292', '9781368076685', '9780593538388', '9781913311346', '9780751584202', '9781787333970', '9781668002179', '9780593300299', '9781529176667', '9781407188492', '9780702323096', '9780241512425', '9780008467319', '9781529151756', '9781506730578', '9780063136052', '9780857308221', '9780241475256', '9781975345471', '9781529090444', '9781408714454', '9781399713108', '9781471196652', '9780008454487', '9781787703919', '9781787302471', '9781534323025', '9781338792676', '9780241610596', '9780008192426', '9781804710203', '9781803362182', '9781787587564', '9781638585312', '9781534322394', '9781496715883', '9781472286291', '9781250763167', '9780552178471', '9781529380965', '9781399705417', '9781529356786', '9781668002179', '9781803362144', '9780316469050', '9781529061475', '9781529176667', '9781529367119', '9781534323193', '9781399709859', '9780356518664', '9781803361499', '9781529095258', '9781035004614', '9780062878397', '9781975345655', '9781035002139', '9781399606967', '9780241475256', '9780008537814', '9798218055691', '9781772942378', '9781772942361', '9781399711685', '9780241590539', '9780241573754', '9780593470220', '9781975338664', '9781800261969', '9780241573723', '9781975346720', '9781915202161', '9781913111304', '9781838776329', '9780593139707', '9780241431108', '9781399710480', '9781999379940', '9780593419243', '9780008156206', '9781856754637', '9781787139626', '9781784885243', '9781529388268', '9781529149593', '9781784885335', '9781631068669', '9781984857668', '9781915392022', '9781785947841', '9781250267085', '9780702312861', '9780702312854', '9780241530566', '9780241486290', '9789178874347', '9788467066098', '9788408250739', '9783836578738', '9781984859921', '9781948703468', '9781922616081', '9781913141325', '9781841884356', '9781800781160', '9781797209920', '9781784884437', '9781784727994', '9781684351923', '9781529303872', '9780593300299', '9781529392746', '9781785374234', '9781784978341', '9781788176583', '9781524875756', '9781529415919', '9780733342448', '9780241484562', '9780063221482', '9780593134580', '9780593538388', '9781982163952', '9781787477902', '9781398510388', '9780228011392', '9781910827505', '9781529423464', '9781399601870', '9780593234983', '9780241398869', '9781982167226', '9781913505509', '9781911590484', '9781911036876', '9781802793352', '9781743799123', '9781538710531', '9781399705271', '9781399600163', '9781335449306', '9780316415194', '9780008546335', '9780008192426', '9781474618120', '9781529303872', '9781529392746', '9781784978341', '9780465019595', '9780241456996', '9781788541947', '9780593296707', '9780593134580', '9780241508695', '9780241408520', '9781844886050', '9781838776329', '9781398510388', '9780522878769', '9780228011392', '9781802700138', '9781800811881', '9781529423464', '9781526631749', '9781472854377', '9781472852434', '9781472850492', '9780241454534', '9781982167226', '9781801500975', '9781635901610', '9781335449306', '9788418051623', '9781906537593', '9781803140834', '9781787635531', '9781787383128', '9781785907708', '9781474611954', '9781974732333', '9781974732173', '9781974732241', '9781419761676', '9781804910535', '9781974732098', '9781974735983', '9781974730100', '9781974726448', '9781302926182', '9781534323193', '9781787330139', '9781803361499', '9781638585725', '9781974731039', '9781638586142', '9781506730578', '9781974732234', '9781646516551', '9780785194682', '9781975345471', '9781975345143', '9781975341923', '9781974732197', '9781772942378', '9781772942361', '9781646514069', '9781646512928', '9781975338664', '9781974724062', '9781646090860', '9781638583622', '9781302933593', '9781975346720', '9781974732180', '9780008505547', '9781529149678', '9781119893783', '9781523513192', '9781914613098', '9781788176583', '9781524875756', '9781681888453', '9781510770270', '9781916153011', '9781788166287', '9780241484562', '9780593538388', '9781645675846', '9781292432120', '9780008354671', '9781647821067', '9780593234983', '9780008520854', '9781743799123', '9781628091298', '9781400234585', '9780310457961', '9781982148805', '9781523516872', '9781523091034', '9781472292001', '9780593420683', '9780349431840', '9786070756924', '9781856232876', '9781797214214', '9781788162531', '9781728249995', '9781590035313', '9780008484033', '9781474618120', '9781119893783', '9780593300299', '9780465019595', '9780733342448', '9780241456996', '9780861543755', '9781788166287', '9781950508532', '9781595622457', '9781292432120', '9780008354671', '9781647821067', '9780593234983', '9780241454534', '9780141993010', '9781913505509', '9781802793352', '9780316415194', '9780063142176', '9781982188085', '9781982148805', '9781800812420', '9781788707282', '9781523091034', '9789063696344', '9781839762703', '9781788169240', '9781788162531', '9781633888364', '9781544523989', '9781523091201', '9781523002320', '9781472290229', '9781473680623', '9780008484033', '9780861542505', '9781914613098', '9798218007539', '9781914484704', '9781510770270', '9780861543755', '9780241522318', '9780241484562', '9781856754637', '9781760643232', '9780571337729', '9780228011392', '9780268203665', '9780241398869', '9780141993010', '9781399705271', '9780141993270', '9780008363383', '9783030994839', '9781529416879', '9781405944106', '9780593420683', '9781800750944', '9781633888364', '9781529110890', '9781523515516', '9781506482194', '9781408891155', '9780857828958', '9780349128450', '9780262047210', '9780241468289', '9780198862031', '9780008505547', '9781529149678', '9781035402823', '9780702314643', '9781914613098', '9781681888453', '9780593419243', '9780241484562', '9780593538388', '9781529388268', '9780349431284', '9780008520854', '9781743799123', '9781623177102', '9781472298720', '9781982188085', '9781909770867', '9781611809510', '9781472292001', '9781802806038', '9781801624459', '9781736943915', '9781472290229', '9781399805612', '9781399402026', '9780736986007', '9780593315392', '9780500024935', '9780367458959', '9780241989319', '9780241530566', '9780063159488', '9798985841008', '9788467066098', '9781988547459', '9781529380965', '9781408725771', '9780008505547', '9781398515642', '9780751584202', '9781399705417', '9781529356786', '9781529149678', '9781473680623', '9780241573631', '9781035402823', '9781974732333', '9780702314643', '9781787333970', '9781668002179', '9780593139707', '9781974732173', '9780008484033', '9781803362144', '9780241431108', '9781474618120', '9781119893783', '9781529303872', '9783791388748', '9781529151145', '9780316469050', '9781838415327', '9781529061475', '9780593300299', '9780861542505', '9781974732241', '9781419761676', '9780702303517', '9781804910535', '9781529392746', '9781529380965', '9781398515642', '9780751584202', '9781399705417', '9781035402823', '9780702314643', '9781787333970', '9781529061475', '9781529176667', '9780231202916', '9781472223845', '9780241512425', '9780593549476', '9781529152128', '9781529095258', '9781035004614', '9780241573761', '9781800751293', '9781035002139', '9781399606967', '9780857308221', '9780241573730', '9781844885527', '9781529090444', '9781408714454', '9781405955799', '9780241590539', '9780241573754', '9781398521582', '9780593470220', '9780241582527', '9780241573693', '9781398521568', '9780241573723', '9781950508532', '9781529380965', '9781529356786', '9780241573631', '9780702314643', '9781419761676', '9780702303517', '9781407188492', '9780316370950', '9780702323096', '9781474997867', '9780316158237', '9781338776904', '9781250767103', '9781250268426', '9781035004614', '9781803684543', '9781250822130', '9781912979912', '9781526648525', '9780785194682', '9780241475256', '9780008495985', '9781681255897', '9781534479494', '9781399711685', '9781368076692', '9780241473689', '9781646514069', '9781250282194', '9780861542116', '9780008410858', '9781728210292', '9781368076685', '9780593538388', '9781913311346', '9780751584202', '9781787333970', '9781668002179', '9780593300299', '9781529176667', '9781407188492', '9780702323096', '9780241512425', '9780008467319', '9781529151756', '9781506730578', '9780063136052', '9780857308221', '9780241475256', '9781975345471', '9781529090444', '9781408714454', '9781399713108', '9781471196652', '9780008454487', '9781787703919', '9781787302471', '9781534323025', '9781338792676', '9780241610596', '9780008192426', '9781804710203', '9781803362182', '9781787587564', '9781638585312', '9781534322394', '9781496715883', '9781472286291', '9781250763167', '9780552178471', '9781529380965', '9781399705417', '9781529356786', '9781668002179', '9781803362144', '9780316469050', '9781529061475', '9781529176667', '9781529367119', '9781534323193', '9781399709859', '9780356518664', '9781803361499', '9781529095258', '9781035004614', '9780062878397', '9781975345655', '9781035002139', '9781399606967', '9780241475256', '9780008537814', '9798218055691', '9781772942378', '9781772942361', '9781399711685', '9780241590539', '9780241573754', '9780593470220', '9781975338664', '9781800261969', '9780241573723', '9781975346720', '9781915202161', '9781913111304', '9781838776329', '9780593139707', '9780241431108', '9781399710480', '9781999379940', '9780593419243', '9780008156206', '9781856754637', '9781787139626', '9781784885243', '9781529388268', '9781529149593', '9781784885335', '9781631068669', '9781984857668', '9781915392022', '9781785947841', '9781250267085', '9780702312861', '9780702312854', '9780241530566', '9780241486290', '9789178874347', '9788467066098', '9788408250739', '9783836578738', '9781984859921', '9781948703468', '9781922616081', '9781913141325', '9781841884356', '9781800781160', '9781797209920', '9781784884437', '9781784727994', '9781684351923', '9781529303872', '9780593300299', '9781529392746', '9781785374234', '9781784978341', '9781788176583', '9781524875756', '9781529415919', '9780733342448', '9780241484562', '9780063221482', '9780593134580', '9780593538388', '9781982163952', '9781787477902', '9781398510388', '9780228011392', '9781910827505', '9781529423464', '9781399601870', '9780593234983', '9780241398869', '9781982167226', '9781913505509', '9781911590484', '9781911036876', '9781802793352', '9781743799123', '9781538710531', '9781399705271', '9781399600163', '9781335449306', '9780316415194', '9780008546335', '9780008192426', '9781474618120', '9781529303872', '9781529392746', '9781784978341', '9780465019595', '9780241456996', '9781788541947', '9780593296707', '9780593134580', '9780241508695', '9780241408520', '9781844886050', '9781838776329', '9781398510388', '9780522878769', '9780228011392', '9781802700138', '9781800811881', '9781529423464', '9781526631749', '9781472854377', '9781472852434', '9781472850492', '9780241454534', '9781982167226', '9781801500975', '9781635901610', '9781335449306', '9788418051623', '9781906537593', '9781803140834', '9781787635531', '9781787383128', '9781785907708', '9781474611954', '9781974732333', '9781974732173', '9781974732241', '9781419761676', '9781804910535', '9781974732098', '9781974735983', '9781974730100', '9781974726448', '9781302926182', '9781534323193', '9781787330139', '9781803361499', '9781638585725', '9781974731039', '9781638586142', '9781506730578', '9781974732234', '9781646516551', '9780785194682', '9781975345471', '9781975345143', '9781975341923', '9781974732197', '9781772942378', '9781772942361', '9781646514069', '9781646512928', '9781975338664', '9781974724062', '9781646090860', '9781638583622', '9781302933593', '9781975346720', '9781974732180', '9780008505547', '9781529149678', '9781119893783', '9781523513192', '9781914613098', '9781788176583', '9781524875756', '9781681888453', '9781510770270', '9781916153011', '9781788166287', '9780241484562', '9780593538388', '9781645675846', '9781292432120', '9780008354671', '9781647821067', '9780593234983', '9780008520854', '9781743799123', '9781628091298', '9781400234585', '9780310457961', '9781982148805', '9781523516872', '9781523091034', '9781472292001', '9780593420683', '9780349431840', '9786070756924', '9781856232876', '9781797214214', '9781788162531', '9781728249995', '9781590035313', '9780008484033', '9781474618120', '9781119893783', '9780593300299', '9780465019595', '9780733342448', '9780241456996', '9780861543755', '9781788166287', '9781950508532', '9781595622457', '9781292432120', '9780008354671', '9781647821067', '9780593234983', '9780241454534', '9780141993010', '9781913505509', '9781802793352', '9780316415194', '9780063142176', '9781982188085', '9781982148805', '9781800812420', '9781788707282', '9781523091034', '9789063696344', '9781839762703', '9781788169240', '9781788162531', '9781633888364', '9781544523989', '9781523091201', '9781523002320', '9781472290229', '9781473680623', '9780008484033', '9780861542505', '9781914613098', '9798218007539', '9781914484704', '9781510770270', '9780861543755', '9780241522318', '9780241484562', '9781856754637', '9781760643232', '9780571337729', '9780228011392', '9780268203665', '9780241398869', '9780141993010', '9781399705271', '9780141993270', '9780008363383', '9783030994839', '9781529416879', '9781405944106', '9780593420683', '9781800750944', '9781633888364', '9781529110890', '9781523515516', '9781506482194', '9781408891155', '9780857828958', '9780349128450', '9780262047210', '9780241468289', '9780198862031', '9780008505547', '9781529149678', '9781035402823', '9780702314643', '9781914613098', '9781681888453', '9780593419243', '9780241484562', '9780593538388', '9781529388268', '9780349431284', '9780008520854', '9781743799123', '9781623177102', '9781472298720', '9781982188085', '9781909770867', '9781611809510', '9781472292001', '9781802806038', '9781801624459', '9781736943915', '9781472290229', '9781399805612', '9781399402026', '9780736986007', '9780593315392', '9780500024935', '9780367458959', '9780241989319', '9780241530566', '9780063159488', '9798985841008', '9788467066098', '9781988547459'], 'currency': ['INR', 'INR', 'INR', 'INR', 'INR', 'INR', 'INR', 'INR', 'INR', 'INR', 'INR', 'INR', 'INR', 'INR', 'INR', 'INR', 'INR', 'INR', 'INR', 'INR', 'INR', 'INR', 'INR', 'INR', 'INR', 'INR', 'INR', 'INR', 'INR', 'INR', 'INR', 'INR', 'INR', 'INR', 'INR', 'INR', 'INR', 'INR', 'INR', 'INR', 'INR', 'INR', 'INR', 'INR', 'INR', 'INR', 'INR', 'INR', 'INR', 'INR', 'INR', 'INR', 'INR', 'INR', 'INR', 'INR', 'INR', 'INR', 'INR', 'INR', 'INR', 'INR', 'INR', 'INR', 'INR', 'INR', 'INR', 'INR', 'INR', 'INR', 'INR', 'INR', 'INR', 'INR', 'INR', 'INR', 'INR', 'INR', 'INR', 'INR', 'INR', 'INR', 'INR', 'INR', 'INR', 'INR', 'INR', 'INR', 'INR', 'INR', 'INR', 'INR', 'INR', 'INR', 'INR', 'INR', 'INR', 'INR', 'INR', 'INR', 'INR', 'INR', 'INR', 'INR', 'INR', 'INR', 'INR', 'INR', 'INR', 'INR', 'INR', 'INR', 'INR', 'INR', 'INR', 'INR', 'INR', 'INR', 'INR', 'INR', 'INR', 'INR', 'INR', 'INR', 'INR', 'INR', 'INR', 'INR', 'INR', 'INR', 'INR', 'INR', 'INR', 'INR', 'INR', 'INR', 'INR', 'INR', 'INR', 'INR', 'INR', 'INR', 'INR', 'INR', 'INR', 'INR', 'INR', 'INR', 'INR', 'INR', 'INR', 'INR', 'INR', 'INR', 'INR', 'INR', 'INR', 'INR', 'INR', 'INR', 'INR', 'INR', 'INR', 'INR', 'INR', 'INR', 'INR', 'INR', 'INR', 'INR', 'INR', 'INR', 'INR', 'INR', 'INR', 'INR', 'INR', 'INR', 'INR', 'INR', 'INR', 'INR', 'INR', 'INR', 'INR', 'INR', 'INR', 'INR', 'INR', 'INR', 'INR', 'INR', 'INR', 'INR', 'INR', 'INR', 'INR', 'INR', 'INR', 'INR', 'INR', 'INR', 'INR', 'INR', 'INR', 'INR', 'INR', 'INR', 'INR', 'INR', 'INR', 'INR', 'INR', 'INR', 'INR', 'INR', 'INR', 'INR', 'INR', 'INR', 'INR', 'INR', 'INR', 'INR', 'INR', 'INR', 'INR', 'INR', 'INR', 'INR', 'INR', 'INR', 'INR', 'INR', 'INR', 'INR', 'INR', 'INR', 'INR', 'INR', 'INR', 'INR', 'INR', 'INR', 'INR', 'INR', 'INR', 'INR', 'INR', 'INR', 'INR', 'INR', 'INR', 'INR', 'INR', 'INR', 'INR', 'INR', 'INR', 'INR', 'INR', 'INR', 'INR', 'INR', 'INR', 'INR', 'INR', 'INR', 'INR', 'INR', 'INR', 'INR', 'INR', 'INR', 'INR', 'INR', 'INR', 'INR', 'INR', 'INR', 'INR', 'INR', 'INR', 'INR', 'INR', 'INR', 'INR', 'INR', 'INR', 'INR', 'INR', 'INR', 'INR', 'INR', 'INR', 'INR', 'INR', 'INR', 'INR', 'INR', 'INR', 'INR', 'INR', 'INR', 'INR', 'INR', 'INR', 'INR', 'INR', 'INR', 'INR', 'INR', 'INR', 'INR', 'INR', 'INR', 'INR', 'INR', 'INR', 'INR', 'INR', 'INR', 'INR', 'INR', 'INR', 'INR', 'INR', 'INR', 'INR', 'INR', 'INR', 'INR', 'INR', 'INR', 'INR', 'INR', 'INR', 'INR', 'INR', 'INR', 'INR', 'INR', 'INR', 'INR', 'INR', 'INR', 'INR', 'INR', 'INR', 'INR', 'INR', 'INR', 'INR', 'INR', 'INR', 'INR', 'INR', 'INR', 'INR', 'INR', 'INR', 'INR', 'INR', 'INR', 'INR', 'INR', 'INR', 'INR', 'INR', 'INR', 'INR', 'INR', 'INR', 'INR', 'INR', 'INR', 'INR', 'INR', 'INR', 'INR', 'INR', 'INR', 'INR', 'INR', 'INR', 'INR', 'INR', 'INR', 'INR', 'INR', 'INR', 'INR', 'INR', 'INR', 'INR', 'INR', 'INR', 'INR', 'INR', 'INR', 'INR', 'INR', 'INR', 'INR', 'INR', 'INR', 'INR', 'INR', 'INR', 'INR', 'INR', 'INR', 'INR', 'INR', 'INR', 'INR', 'INR', 'INR', 'INR', 'INR', 'INR', 'INR', 'INR', 'INR', 'INR', 'INR', 'INR', 'INR', 'INR', 'INR', 'INR', 'INR', 'INR', 'INR', 'INR', 'INR', 'INR', 'INR', 'INR', 'INR', 'INR', 'INR', 'INR', 'INR', 'INR', 'INR', 'INR', 'INR', 'INR', 'INR', 'INR', 'INR', 'INR', 'INR', 'INR', 'INR', 'INR', 'INR', 'INR', 'INR', 'INR', 'INR', 'INR', 'INR', 'INR', 'INR', 'INR', 'INR', 'INR', 'INR', 'INR', 'INR', 'INR', 'INR', 'INR', 'INR', 'INR', 'INR', 'INR', 'INR', 'INR', 'INR', 'INR', 'INR', 'INR', 'INR', 'INR', 'INR', 'INR', 'INR', 'INR', 'INR', 'INR', 'INR', 'INR', 'INR', 'INR', 'INR', 'INR', 'INR', 'INR', 'INR', 'INR', 'INR', 'INR', 'INR', 'INR', 'INR', 'INR', 'INR', 'INR', 'INR', 'INR', 'INR', 'INR', 'INR', 'INR', 'INR', 'INR', 'INR', 'INR', 'INR', 'INR', 'INR', 'INR', 'INR', 'INR', 'INR', 'INR', 'INR', 'INR', 'INR', 'INR', 'INR', 'INR', 'INR', 'INR', 'INR', 'INR', 'INR', 'INR', 'INR', 'INR', 'INR', 'INR', 'INR', 'INR', 'INR', 'INR', 'INR', 'INR', 'INR', 'INR', 'INR', 'INR', 'INR', 'INR', 'INR', 'INR', 'INR', 'INR', 'INR', 'INR', 'INR', 'INR', 'INR', 'INR', 'INR', 'INR', 'INR', 'INR', 'INR', 'INR', 'INR', 'INR', 'INR', 'INR', 'INR', 'INR', 'INR', 'INR', 'INR', 'INR', 'INR', 'INR', 'INR', 'INR', 'INR', 'INR', 'INR', 'INR', 'INR', 'INR', 'INR', 'INR', 'INR', 'INR', 'INR', 'INR', 'INR', 'INR', 'INR', 'INR', 'INR', 'INR', 'INR', 'INR', 'INR', 'INR', 'INR', 'INR', 'INR', 'INR', 'INR', 'INR', 'INR', 'INR', 'INR', 'INR', 'INR', 'INR', 'INR', 'INR', 'INR', 'INR', 'INR', 'INR', 'INR', 'INR', 'INR', 'INR', 'INR', 'INR', 'INR', 'INR', 'INR', 'INR', 'INR', 'INR', 'INR', 'INR', 'INR', 'INR', 'INR', 'INR', 'INR', 'INR', 'INR', 'INR', 'INR', 'INR', 'INR', 'INR', 'INR', 'INR', 'INR', 'INR', 'INR', 'INR', 'INR', 'INR', 'INR', 'INR', 'INR', 'INR', 'INR', 'INR', 'INR', 'INR', 'INR', 'INR', 'INR', 'INR', 'INR', 'INR', 'INR', 'INR', 'INR', 'INR', 'INR', 'INR', 'INR', 'INR', 'INR', 'INR', 'INR', 'INR', 'INR', 'INR', 'INR', 'INR', 'INR', 'INR', 'INR', 'INR', 'INR', 'INR', 'INR', 'INR', 'INR', 'INR', 'INR', 'INR', 'INR', 'INR', 'INR', 'INR', 'INR', 'INR', 'INR', 'INR', 'INR', 'INR', 'INR', 'INR', 'INR', 'INR', 'INR', 'INR', 'INR', 'INR', 'INR', 'INR', 'INR', 'INR', 'INR', 'INR', 'INR', 'INR', 'INR', 'INR', 'INR', 'INR', 'INR', 'INR', 'INR', 'INR', 'INR', 'INR', 'INR', 'INR', 'INR', 'INR', 'INR', 'INR', 'INR', 'INR', 'INR', 'INR', 'INR', 'INR', 'INR', 'INR', 'INR', 'INR', 'INR', 'INR', 'INR', 'INR', 'INR', 'INR', 'INR', 'INR', 'INR', 'INR', 'INR', 'INR', 'INR', 'INR', 'INR', 'INR', 'INR', 'INR', 'INR', 'INR', 'INR', 'INR', 'INR', 'INR', 'INR', 'INR', 'INR', 'INR', 'INR', 'INR', 'INR', 'INR', 'INR', 'INR', 'INR', 'INR', 'INR', 'INR', 'INR', 'INR', 'INR', 'INR', 'INR', 'INR', 'INR', 'INR', 'INR', 'INR', 'INR', 'INR', 'INR', 'INR', 'INR', 'INR', 'INR', 'INR', 'INR', 'INR', 'INR', 'INR', 'INR', 'INR', 'INR', 'INR', 'INR', 'INR', 'INR', 'INR', 'INR', 'INR', 'INR', 'INR', 'INR', 'INR', 'INR', 'INR', 'INR', 'INR', 'INR', 'INR', 'INR', 'INR', 'INR', 'INR', 'INR', 'INR', 'INR', 'INR', 'INR', 'INR', 'INR', 'INR', 'INR', 'INR', 'INR', 'INR', 'INR', 'INR', 'INR', 'INR', 'INR', 'INR', 'INR', 'INR', 'INR', 'INR', 'INR', 'INR', 'INR', 'INR', 'INR', 'INR', 'INR', 'INR', 'INR', 'INR', 'INR', 'INR', 'INR', 'INR', 'INR', 'INR', 'INR', 'INR', 'INR', 'INR', 'INR', 'INR', 'INR', 'INR', 'INR', 'INR', 'INR', 'INR', 'INR', 'INR', 'INR', 'INR', 'INR', 'INR', 'INR', 'INR', 'INR', 'INR', 'INR', 'INR', 'INR', 'INR', 'INR', 'INR', 'INR', 'INR', 'INR', 'INR', 'INR'], 'price': ['1479.93', '744.11', '1176.19', '732.53', '2417.13', '2164.27', '1489.63', '1316.44', '1661.03', '786.54', '871.79', '565.8', '669.38', '1945.86', '2679.6', '2673.75', '588.4', '1548.62', '1534.31', '2788.05', '1186.28', '1100.91', '1944.56', '3445.71', '3280.9', '2583.29', '1251.93', '1811.32', '2290.76', '1581.36', '642.44', '2144.61', '1219.04', '1114.78', '1957.91', '1479.93', '732.53', '2417.13', '2164.27', '871.79', '669.38', '1945.86', '1811.32', '814.64', '1169.9', '2006.2', '1868.81', '1224.34', '1649.89', '1003.77', '1139.28', '887.2', '828.85', '2059.93', '1691.83', '707.95', '793.7', '1340.18', '820.44', '1310.15', '808.11', '863.56', '781.37', '736.65', '1232.7', '781.37', '852.26', '744.86', '852.26', '1346.47', '1479.93', '1489.63', '786.54', '669.38', '2144.61', '1219.04', '645.13', '1649.77', '659.98', '1008.02', '1711.51', '492.63', '1484.05', '1827.05', '1139.28', '2496.15', '1583.62', '908.81', '1225.13', '1038.71', '650.16', '1067.13', '3449.66', '1517.73', '717.95', '2193.32', '775.23', '3785.59', '1054.96', '810.74', '1180.4', '1070.13', '2628.66', '1069.72', '661.45', '2417.13', '1945.86', '2679.6', '2290.76', '814.64', '645.13', '659.98', '1868.81', '1802.05', '2033.94', '1528.88', '2169.89', '707.95', '650.16', '836.97', '820.44', '1310.15', '1594.39', '1558.46', '756.36', '1133.65', '1541.27', '3013.3', '927.82', '1566.56', '2626.38', '747.37', '809.97', '802.3', '798.41', '1112.39', '1238.31', '974.5', '1495.23', '867.04', '1479.93', '2164.27', '1489.63', '2679.6', '1534.31', '2583.29', '1811.32', '814.64', '1732.44', '1088.77', '1613.44', '789.31', '1187.95', '1003.77', '1139.28', '545.04', '1297.3', '2059.93', '1691.83', '650.16', '2967.07', '1765.33', '1856.58', '1810.35', '717.95', '863.56', '781.37', '1232.7', '1074.7', '1145.19', '852.26', '980.52', '1600.58', '1758.59', '1591.55', '2673.75', '2788.05', '1969.22', '1863.82', '2530.68', '3012.83', '897.47', '2226.76', '2447.36', '1195.63', '3002.05', '2041.84', '2008.59', '3407.36', '671.21', '1635.44', '582.77', '693.66', '1177.95', '2072.66', '2253.79', '2810.56', '1832.94', '3618.61', '6540.36', '2138.08', '2590.37', '3965.84', '2117.03', '1370.28', '1517.43', '2403.0', '2640.97', '1799.28', '3743.89', '1944.56', '2290.76', '1957.91', '1280.85', '1322.02', '908.93', '1004.73', '632.97', '3330.59', '1632.53', '1995.81', '1556.84', '1069.72', '1841.04', '1936.02', '737.99', '2803.57', '1615.52', '1532.18', '1082.97', '2015.32', '896.18', '1983.26', '821.74', '1196.3', '1459.69', '1806.91', '1080.39', '1931.48', '1469.67', '2160.78', '1098.23', '3009.01', '1926.13', '2626.38', '1186.28', '1944.56', '1957.91', '1322.02', '2810.1', '2821.83', '2904.9', '2245.57', '1556.84', '8753.34', '2156.29', '1849.3', '1591.55', '737.99', '3198.82', '2803.57', '1401.99', '1276.91', '1532.18', '2261.62', '1981.92', '1527.59', '1121.38', '2274.44', '1983.26', '1534.78', '2597.87', '1098.23', '1580.36', '3386.21', '1020.91', '1082.88', '2252.09', '1717.8', '2362.3', '565.8', '588.4', '642.44', '2144.61', '1114.78', '695.57', '556.55', '826.36', '1247.99', '1228.59', '1088.77', '2754.2', '1187.95', '1477.98', '567.85', '887.59', '1528.88', '723.31', '946.69', '1038.71', '836.97', '805.78', '922.89', '569.9', '1856.58', '1810.35', '3785.59', '803.92', '1074.7', '896.5', '812.93', '758.35', '3418.83', '980.52', '567.85', '1176.19', '1316.44', '1100.91', '1674.26', '1460.48', '908.93', '1004.73', '1660.48', '1852.67', '4109.23', '499.65', '1632.53', '1069.72', '1181.2', '1064.3', '783.41', '1755.19', '2015.32', '853.21', '1080.39', '2083.43', '2065.62', '1676.99', '2071.77', '1576.36', '1599.4', '1367.51', '1542.89', '1613.44', '1247.77', '1335.15', '1091.71', '712.61', '1468.69', '1814.83', '1548.62', '1186.28', '1100.91', '2290.76', '2810.1', '3330.59', '2821.83', '1446.68', '499.65', '1346.47', '1777.77', '1064.3', '783.41', '1755.19', '2015.32', '2274.44', '817.01', '821.74', '1806.91', '3009.01', '2363.2', '1902.0', '2071.77', '1324.33', '1476.49', '1599.4', '2710.92', '864.66', '1068.92', '712.61', '1954.73', '1086.65', '1093.53', '891.61', '748.5', '1661.03', '1548.62', '1581.36', '1460.48', '2101.27', '1516.18', '1852.67', '1446.68', '1659.4', '1632.53', '897.47', '3184.15', '849.37', '2803.57', '1529.09', '896.18', '817.01', '1469.67', '781.12', '1538.35', '1962.72', '2294.26', '883.47', '1542.89', '1072.9', '1954.73', '842.76', '1557.22', '1859.35', '2551.66', '1701.4', '1516.48', '1865.69', '1485.79', '4371.7', '1176.19', '1316.44', '871.79', '669.38', '1460.48', '1660.48', '2530.68', '1632.53', '1069.72', '1195.63', '1030.69', '853.21', '1080.39', '1418.9', '679.2', '1902.0', '767.21', '1168.14', '1367.51', '892.15', '1070.72', '1606.68', '748.5', '1396.77', '1309.2', '947.45', '1298.36', '1263.62', '2426.46', '719.1', '2072.66', '2082.65', '1319.4', '1832.94', '1452.82', '1479.93', '744.11', '1176.19', '732.53', '2417.13', '2164.27', '1489.63', '1316.44', '1661.03', '786.54', '871.79', '565.8', '669.38', '1945.86', '2679.6', '2673.75', '588.4', '1548.62', '1534.31', '2788.05', '1186.28', '1100.91', '1944.56', '3445.71', '3280.9', '2583.29', '1251.93', '1811.32', '2290.76', '1581.36', '642.44', '2144.61', '1219.04', '1114.78', '1957.91', '1479.93', '732.53', '2417.13', '2164.27', '871.79', '669.38', '1945.86', '1811.32', '814.64', '1169.9', '2006.2', '1868.81', '1224.34', '1649.89', '1003.77', '1139.28', '887.2', '828.85', '2059.93', '1691.83', '707.95', '793.7', '1340.18', '820.44', '1310.15', '808.11', '863.56', '781.37', '736.65', '1232.7', '781.37', '852.26', '744.86', '852.26', '1346.47', '1479.93', '1489.63', '786.54', '669.38', '2144.61', '1219.04', '645.13', '1649.77', '659.98', '1008.02', '1711.51', '492.63', '1484.05', '1827.05', '1139.28', '2496.15', '1583.62', '908.81', '1225.13', '1038.71', '650.16', '1067.13', '3449.66', '1517.73', '717.95', '2193.32', '775.23', '3785.59', '1054.96', '810.74', '1180.4', '1070.13', '2628.66', '1069.72', '661.45', '2417.13', '1945.86', '2679.6', '2290.76', '814.64', '645.13', '659.98', '1868.81', '1802.05', '2033.94', '1528.88', '2169.89', '707.95', '650.16', '836.97', '820.44', '1310.15', '1594.39', '1558.46', '756.36', '1133.65', '1541.27', '3013.3', '927.82', '1566.56', '2626.38', '747.37', '809.97', '802.3', '798.41', '1112.39', '1238.31', '974.5', '1495.23', '867.04', '1479.93', '2164.27', '1489.63', '2679.6', '1534.31', '2583.29', '1811.32', '814.64', '1732.44', '1088.77', '1613.44', '789.31', '1187.95', '1003.77', '1139.28', '545.04', '1297.3', '2059.93', '1691.83', '650.16', '2967.07', '1765.33', '1856.58', '1810.35', '717.95', '863.56', '781.37', '1232.7', '1074.7', '1145.19', '852.26', '980.52', '1600.58', '1758.59', '1591.55', '2673.75', '2788.05', '1969.22', '1863.82', '2530.68', '3012.83', '897.47', '2226.76', '2447.36', '1195.63', '3002.05', '2041.84', '2008.59', '3407.36', '671.21', '1635.44', '582.77', '693.66', '1177.95', '2072.66', '2253.79', '2810.56', '1832.94', '3618.61', '6540.36', '2138.08', '2590.37', '3965.84', '2117.03', '1370.28', '1517.43', '2403.0', '2640.97', '1799.28', '3743.89', '1944.56', '2290.76', '1957.91', '1280.85', '1322.02', '908.93', '1004.73', '632.97', '3330.59', '1632.53', '1995.81', '1556.84', '1069.72', '1841.04', '1936.02', '737.99', '2803.57', '1615.52', '1532.18', '1082.97', '2015.32', '896.18', '1983.26', '821.74', '1196.3', '1459.69', '1806.91', '1080.39', '1931.48', '1469.67', '2160.78', '1098.23', '3009.01', '1926.13', '2626.38', '1186.28', '1944.56', '1957.91', '1322.02', '2810.1', '2821.83', '2904.9', '2245.57', '1556.84', '8753.34', '2156.29', '1849.3', '1591.55', '737.99', '3198.82', '2803.57', '1401.99', '1276.91', '1532.18', '2261.62', '1981.92', '1527.59', '1121.38', '2274.44', '1983.26', '1534.78', '2597.87', '1098.23', '1580.36', '3386.21', '1020.91', '1082.88', '2252.09', '1717.8', '2362.3', '565.8', '588.4', '642.44', '2144.61', '1114.78', '695.57', '556.55', '826.36', '1247.99', '1228.59', '1088.77', '2754.2', '1187.95', '1477.98', '567.85', '887.59', '1528.88', '723.31', '946.69', '1038.71', '836.97', '805.78', '922.89', '569.9', '1856.58', '1810.35', '3785.59', '803.92', '1074.7', '896.5', '812.93', '758.35', '3418.83', '980.52', '567.85', '1176.19', '1316.44', '1100.91', '1674.26', '1460.48', '908.93', '1004.73', '1660.48', '1852.67', '4109.23', '499.65', '1632.53', '1069.72', '1181.2', '1064.3', '783.41', '1755.19', '2015.32', '853.21', '1080.39', '2083.43', '2065.62', '1676.99', '2071.77', '1576.36', '1599.4', '1367.51', '1542.89', '1613.44', '1247.77', '1335.15', '1091.71', '712.61', '1468.69', '1814.83', '1548.62', '1186.28', '1100.91', '2290.76', '2810.1', '3330.59', '2821.83', '1446.68', '499.65', '1346.47', '1777.77', '1064.3', '783.41', '1755.19', '2015.32', '2274.44', '817.01', '821.74', '1806.91', '3009.01', '2363.2', '1902.0', '2071.77', '1324.33', '1476.49', '1599.4', '2710.92', '864.66', '1068.92', '712.61', '1954.73', '1086.65', '1093.53', '891.61', '748.5', '1661.03', '1548.62', '1581.36', '1460.48', '2101.27', '1516.18', '1852.67', '1446.68', '1659.4', '1632.53', '897.47', '3184.15', '849.37', '2803.57', '1529.09', '896.18', '817.01', '1469.67', '781.12', '1538.35', '1962.72', '2294.26', '883.47', '1542.89', '1072.9', '1954.73', '842.76', '1557.22', '1859.35', '2551.66', '1701.4', '1516.48', '1865.69', '1485.79', '4371.7', '1176.19', '1316.44', '871.79', '669.38', '1460.48', '1660.48', '2530.68', '1632.53', '1069.72', '1195.63', '1030.69', '853.21', '1080.39', '1418.9', '679.2', '1902.0', '767.21', '1168.14', '1367.51', '892.15', '1070.72', '1606.68', '748.5', '1396.77', '1309.2', '947.45', '1298.36', '1263.62', '2426.46', '719.1', '2072.66', '2082.65', '1319.4', '1832.94', '1452.82']}\n"
     ]
    }
   ],
   "source": [
    "print(books_dict)"
   ]
  },
  {
   "cell_type": "markdown",
   "id": "eb90a1c6",
   "metadata": {},
   "source": [
    "# Create dataframe"
   ]
  },
  {
   "cell_type": "code",
   "execution_count": 184,
   "id": "3d74483f",
   "metadata": {},
   "outputs": [],
   "source": [
    "df = pd.DataFrame.from_dict(books_dict, orient='index')\n",
    "df = df.transpose()"
   ]
  },
  {
   "cell_type": "markdown",
   "id": "6d568b69",
   "metadata": {},
   "source": [
    "# DATA"
   ]
  },
  {
   "cell_type": "code",
   "execution_count": 118,
   "id": "16c0ef88",
   "metadata": {},
   "outputs": [
    {
     "data": {
      "text/html": [
       "<div>\n",
       "<style scoped>\n",
       "    .dataframe tbody tr th:only-of-type {\n",
       "        vertical-align: middle;\n",
       "    }\n",
       "\n",
       "    .dataframe tbody tr th {\n",
       "        vertical-align: top;\n",
       "    }\n",
       "\n",
       "    .dataframe thead th {\n",
       "        text-align: right;\n",
       "    }\n",
       "</style>\n",
       "<table border=\"1\" class=\"dataframe\">\n",
       "  <thead>\n",
       "    <tr style=\"text-align: right;\">\n",
       "      <th></th>\n",
       "      <th>title</th>\n",
       "      <th>author</th>\n",
       "      <th>format</th>\n",
       "      <th>published</th>\n",
       "      <th>isbn</th>\n",
       "      <th>currency</th>\n",
       "      <th>price</th>\n",
       "    </tr>\n",
       "  </thead>\n",
       "  <tbody>\n",
       "    <tr>\n",
       "      <th>1440</th>\n",
       "      <td>Bleach 20th Anniversary Edition, Vol. 1</td>\n",
       "      <td></td>\n",
       "      <td>Paperback</td>\n",
       "      <td>13 Sep 2022</td>\n",
       "      <td>9781534323193</td>\n",
       "      <td>INR</td>\n",
       "      <td>1088.77</td>\n",
       "    </tr>\n",
       "    <tr>\n",
       "      <th>1441</th>\n",
       "      <td>Dead Dead Demon's Dededede Destruction, Vol. 11</td>\n",
       "      <td>Inio Asano</td>\n",
       "      <td>Paperback</td>\n",
       "      <td>13 Sep 2022</td>\n",
       "      <td>9781302926182</td>\n",
       "      <td>INR</td>\n",
       "      <td>1228.59</td>\n",
       "    </tr>\n",
       "    <tr>\n",
       "      <th>1442</th>\n",
       "      <td>The Liminal Zone</td>\n",
       "      <td>Junji Ito</td>\n",
       "      <td>Paperback</td>\n",
       "      <td>30 Aug 2022</td>\n",
       "      <td>9781638585725</td>\n",
       "      <td>INR</td>\n",
       "      <td>1477.98</td>\n",
       "    </tr>\n",
       "    <tr>\n",
       "      <th>1443</th>\n",
       "      <td>Monstress, Volume 7: Devourer</td>\n",
       "      <td>Marjorie Liu</td>\n",
       "      <td>Hardback</td>\n",
       "      <td>15 Sep 2022</td>\n",
       "      <td>9781787330139</td>\n",
       "      <td>INR</td>\n",
       "      <td>2754.2</td>\n",
       "    </tr>\n",
       "    <tr>\n",
       "      <th>1444</th>\n",
       "      <td>Star Wars Vol. 4: Crimson Reign</td>\n",
       "      <td>Charles Soule</td>\n",
       "      <td>Paperback</td>\n",
       "      <td>06 Sep 2022</td>\n",
       "      <td>9781772942361</td>\n",
       "      <td>INR</td>\n",
       "      <td>1810.35</td>\n",
       "    </tr>\n",
       "    <tr>\n",
       "      <th>...</th>\n",
       "      <td>...</td>\n",
       "      <td>...</td>\n",
       "      <td>...</td>\n",
       "      <td>...</td>\n",
       "      <td>...</td>\n",
       "      <td>...</td>\n",
       "      <td>...</td>\n",
       "    </tr>\n",
       "    <tr>\n",
       "      <th>1535</th>\n",
       "      <td>In the Event of Love</td>\n",
       "      <td>Courtney Kae</td>\n",
       "      <td>Hardback</td>\n",
       "      <td>13 Sep 2022</td>\n",
       "      <td>9780316415194</td>\n",
       "      <td>INR</td>\n",
       "      <td>3009.01</td>\n",
       "    </tr>\n",
       "    <tr>\n",
       "      <th>1536</th>\n",
       "      <td>Running Remote</td>\n",
       "      <td>Liam Martin</td>\n",
       "      <td>None</td>\n",
       "      <td>None</td>\n",
       "      <td>None</td>\n",
       "      <td>None</td>\n",
       "      <td>None</td>\n",
       "    </tr>\n",
       "    <tr>\n",
       "      <th>1537</th>\n",
       "      <td>Slouching Towards Utopia</td>\n",
       "      <td>Brad de Long</td>\n",
       "      <td>None</td>\n",
       "      <td>None</td>\n",
       "      <td>None</td>\n",
       "      <td>None</td>\n",
       "      <td>None</td>\n",
       "    </tr>\n",
       "    <tr>\n",
       "      <th>1538</th>\n",
       "      <td>Like a Rolling Stone</td>\n",
       "      <td>Jann S Wenner</td>\n",
       "      <td>None</td>\n",
       "      <td>None</td>\n",
       "      <td>None</td>\n",
       "      <td>None</td>\n",
       "      <td>None</td>\n",
       "    </tr>\n",
       "    <tr>\n",
       "      <th>1539</th>\n",
       "      <td>Equity and Trusts Revision Concentrate Pack</td>\n",
       "      <td>Iain McDonald</td>\n",
       "      <td>None</td>\n",
       "      <td>None</td>\n",
       "      <td>None</td>\n",
       "      <td>None</td>\n",
       "      <td>None</td>\n",
       "    </tr>\n",
       "  </tbody>\n",
       "</table>\n",
       "<p>100 rows × 7 columns</p>\n",
       "</div>"
      ],
      "text/plain": [
       "                                                title         author  \\\n",
       "1440          Bleach 20th Anniversary Edition, Vol. 1                  \n",
       "1441  Dead Dead Demon's Dededede Destruction, Vol. 11     Inio Asano   \n",
       "1442                                 The Liminal Zone      Junji Ito   \n",
       "1443                    Monstress, Volume 7: Devourer   Marjorie Liu   \n",
       "1444                  Star Wars Vol. 4: Crimson Reign  Charles Soule   \n",
       "...                                               ...            ...   \n",
       "1535                             In the Event of Love   Courtney Kae   \n",
       "1536                                   Running Remote    Liam Martin   \n",
       "1537                         Slouching Towards Utopia   Brad de Long   \n",
       "1538                             Like a Rolling Stone  Jann S Wenner   \n",
       "1539      Equity and Trusts Revision Concentrate Pack  Iain McDonald   \n",
       "\n",
       "         format    published           isbn currency    price  \n",
       "1440  Paperback  13 Sep 2022  9781534323193      INR  1088.77  \n",
       "1441  Paperback  13 Sep 2022  9781302926182      INR  1228.59  \n",
       "1442  Paperback  30 Aug 2022  9781638585725      INR  1477.98  \n",
       "1443   Hardback  15 Sep 2022  9781787330139      INR   2754.2  \n",
       "1444  Paperback  06 Sep 2022  9781772942361      INR  1810.35  \n",
       "...         ...          ...            ...      ...      ...  \n",
       "1535   Hardback  13 Sep 2022  9780316415194      INR  3009.01  \n",
       "1536       None         None           None     None     None  \n",
       "1537       None         None           None     None     None  \n",
       "1538       None         None           None     None     None  \n",
       "1539       None         None           None     None     None  \n",
       "\n",
       "[100 rows x 7 columns]"
      ]
     },
     "execution_count": 118,
     "metadata": {},
     "output_type": "execute_result"
    }
   ],
   "source": [
    "df.tail(100)"
   ]
  },
  {
   "cell_type": "code",
   "execution_count": 39,
   "id": "4773bb91",
   "metadata": {},
   "outputs": [
    {
     "data": {
      "text/plain": [
       "pandas.core.frame.DataFrame"
      ]
     },
     "execution_count": 39,
     "metadata": {},
     "output_type": "execute_result"
    }
   ],
   "source": [
    "type(df)"
   ]
  },
  {
   "cell_type": "code",
   "execution_count": 58,
   "id": "36967724",
   "metadata": {},
   "outputs": [
    {
     "name": "stdout",
     "output_type": "stream",
     "text": [
      "Requirement already satisfied: pyodbc in c:\\users\\nikhi\\anaconda3\\lib\\site-packages (4.0.0-unsupported)\n",
      "Note: you may need to restart the kernel to use updated packages.\n"
     ]
    }
   ],
   "source": [
    "pip install pyodbc\n"
   ]
  },
  {
   "cell_type": "code",
   "execution_count": 41,
   "id": "e87e1385",
   "metadata": {},
   "outputs": [],
   "source": [
    "import  mysql.connector as conn\n"
   ]
  },
  {
   "cell_type": "code",
   "execution_count": 75,
   "id": "f479d5e9",
   "metadata": {},
   "outputs": [
    {
     "name": "stdout",
     "output_type": "stream",
     "text": [
      "[('book_data',), ('ineuron',), ('information_schema',), ('mysql',), ('pdtask',), ('performance_schema',), ('review',), ('sakila',), ('sys',), ('task',), ('taskdb',), ('world',), ('ytscrap',)]\n"
     ]
    }
   ],
   "source": [
    "mydb=conn.connect(host=\"localhost\" ,user=\"root\" ,password=\"2408\",database=\"book_data\",use_pure=True)\n",
    "cursor=mydb.cursor()\n",
    "cursor.execute(\"show databases\")\n",
    "print(cursor.fetchall())"
   ]
  },
  {
   "cell_type": "code",
   "execution_count": 100,
   "id": "ce02f996",
   "metadata": {},
   "outputs": [
    {
     "data": {
      "text/plain": [
       "Index(['title', 'author', 'format', 'published', 'isbn', 'currency', 'price'], dtype='object')"
      ]
     },
     "execution_count": 100,
     "metadata": {},
     "output_type": "execute_result"
    }
   ],
   "source": [
    "df.columns"
   ]
  },
  {
   "cell_type": "code",
   "execution_count": 189,
   "id": "a41e25d0",
   "metadata": {},
   "outputs": [
    {
     "data": {
      "text/html": [
       "<div>\n",
       "<style scoped>\n",
       "    .dataframe tbody tr th:only-of-type {\n",
       "        vertical-align: middle;\n",
       "    }\n",
       "\n",
       "    .dataframe tbody tr th {\n",
       "        vertical-align: top;\n",
       "    }\n",
       "\n",
       "    .dataframe thead th {\n",
       "        text-align: right;\n",
       "    }\n",
       "</style>\n",
       "<table border=\"1\" class=\"dataframe\">\n",
       "  <thead>\n",
       "    <tr style=\"text-align: right;\">\n",
       "      <th></th>\n",
       "      <th>title</th>\n",
       "      <th>author</th>\n",
       "      <th>format</th>\n",
       "      <th>published</th>\n",
       "      <th>isbn</th>\n",
       "      <th>currency</th>\n",
       "      <th>price</th>\n",
       "    </tr>\n",
       "  </thead>\n",
       "  <tbody>\n",
       "    <tr>\n",
       "      <th>0</th>\n",
       "      <td>The Ballad of Never After</td>\n",
       "      <td>Stephanie Garber</td>\n",
       "      <td>Hardback</td>\n",
       "      <td>13 Sep 2022</td>\n",
       "      <td>9781529380965</td>\n",
       "      <td>INR</td>\n",
       "      <td>1479.93</td>\n",
       "    </tr>\n",
       "    <tr>\n",
       "      <th>1</th>\n",
       "      <td>Love on the Brain</td>\n",
       "      <td>Ali Hazelwood</td>\n",
       "      <td>Paperback</td>\n",
       "      <td>23 Aug 2022</td>\n",
       "      <td>9781408725771</td>\n",
       "      <td>INR</td>\n",
       "      <td>744.11</td>\n",
       "    </tr>\n",
       "    <tr>\n",
       "      <th>2</th>\n",
       "      <td>Good Inside</td>\n",
       "      <td>Dr Becky Kennedy</td>\n",
       "      <td>Paperback</td>\n",
       "      <td>15 Sep 2022</td>\n",
       "      <td>9780008505547</td>\n",
       "      <td>INR</td>\n",
       "      <td>1176.19</td>\n",
       "    </tr>\n",
       "    <tr>\n",
       "      <th>3</th>\n",
       "      <td>The American Roommate Experiment</td>\n",
       "      <td>Elena Armas</td>\n",
       "      <td>Paperback</td>\n",
       "      <td>06 Sep 2022</td>\n",
       "      <td>9781398515642</td>\n",
       "      <td>INR</td>\n",
       "      <td>732.53</td>\n",
       "    </tr>\n",
       "    <tr>\n",
       "      <th>4</th>\n",
       "      <td>The Ink Black Heart</td>\n",
       "      <td>Robert Galbraith</td>\n",
       "      <td>Hardback</td>\n",
       "      <td>30 Aug 2022</td>\n",
       "      <td>9780751584202</td>\n",
       "      <td>INR</td>\n",
       "      <td>2417.13</td>\n",
       "    </tr>\n",
       "  </tbody>\n",
       "</table>\n",
       "</div>"
      ],
      "text/plain": [
       "                              title            author     format    published  \\\n",
       "0         The Ballad of Never After  Stephanie Garber   Hardback  13 Sep 2022   \n",
       "1                 Love on the Brain     Ali Hazelwood  Paperback  23 Aug 2022   \n",
       "2                       Good Inside  Dr Becky Kennedy  Paperback  15 Sep 2022   \n",
       "3  The American Roommate Experiment       Elena Armas  Paperback  06 Sep 2022   \n",
       "4               The Ink Black Heart  Robert Galbraith   Hardback  30 Aug 2022   \n",
       "\n",
       "            isbn currency    price  \n",
       "0  9781529380965      INR  1479.93  \n",
       "1  9781408725771      INR   744.11  \n",
       "2  9780008505547      INR  1176.19  \n",
       "3  9781398515642      INR   732.53  \n",
       "4  9780751584202      INR  2417.13  "
      ]
     },
     "execution_count": 189,
     "metadata": {},
     "output_type": "execute_result"
    }
   ],
   "source": [
    "df.head(5)"
   ]
  },
  {
   "cell_type": "markdown",
   "id": "7f64ad63",
   "metadata": {},
   "source": [
    " # Saving the dataframe"
   ]
  },
  {
   "cell_type": "code",
   "execution_count": null,
   "id": "e6b82696",
   "metadata": {},
   "outputs": [],
   "source": [
    "df.to_csv('file1.csv')"
   ]
  },
  {
   "cell_type": "code",
   "execution_count": 191,
   "id": "79c17b37",
   "metadata": {},
   "outputs": [
    {
     "data": {
      "text/plain": [
       "title        object\n",
       "author       object\n",
       "format       object\n",
       "published    object\n",
       "isbn         object\n",
       "currency     object\n",
       "price        object\n",
       "dtype: object"
      ]
     },
     "execution_count": 191,
     "metadata": {},
     "output_type": "execute_result"
    }
   ],
   "source": [
    "df.dtypes"
   ]
  },
  {
   "cell_type": "code",
   "execution_count": 190,
   "id": "7c6d7e6f",
   "metadata": {},
   "outputs": [
    {
     "data": {
      "text/plain": [
       "910"
      ]
     },
     "execution_count": 190,
     "metadata": {},
     "output_type": "execute_result"
    }
   ],
   "source": [
    "len(df)"
   ]
  },
  {
   "cell_type": "code",
   "execution_count": 124,
   "id": "bac3cf65",
   "metadata": {},
   "outputs": [
    {
     "data": {
      "text/plain": [
       "pandas.core.frame.DataFrame"
      ]
     },
     "execution_count": 124,
     "metadata": {},
     "output_type": "execute_result"
    }
   ],
   "source": [
    "type(df)"
   ]
  },
  {
   "cell_type": "code",
   "execution_count": 192,
   "id": "6a37c04c",
   "metadata": {},
   "outputs": [
    {
     "data": {
      "text/html": [
       "<div>\n",
       "<style scoped>\n",
       "    .dataframe tbody tr th:only-of-type {\n",
       "        vertical-align: middle;\n",
       "    }\n",
       "\n",
       "    .dataframe tbody tr th {\n",
       "        vertical-align: top;\n",
       "    }\n",
       "\n",
       "    .dataframe thead th {\n",
       "        text-align: right;\n",
       "    }\n",
       "</style>\n",
       "<table border=\"1\" class=\"dataframe\">\n",
       "  <thead>\n",
       "    <tr style=\"text-align: right;\">\n",
       "      <th></th>\n",
       "      <th>title</th>\n",
       "      <th>author</th>\n",
       "      <th>format</th>\n",
       "      <th>published</th>\n",
       "      <th>isbn</th>\n",
       "      <th>currency</th>\n",
       "      <th>price</th>\n",
       "    </tr>\n",
       "  </thead>\n",
       "  <tbody>\n",
       "    <tr>\n",
       "      <th>905</th>\n",
       "      <td>Deliciously Healthy Pregnancy</td>\n",
       "      <td>Rhiannon Lambert</td>\n",
       "      <td>Hardback</td>\n",
       "      <td>08 Sep 2022</td>\n",
       "      <td>9780241530566</td>\n",
       "      <td>INR</td>\n",
       "      <td>2072.66</td>\n",
       "    </tr>\n",
       "    <tr>\n",
       "      <th>906</th>\n",
       "      <td>Good Inside</td>\n",
       "      <td>Dr Becky Kennedy</td>\n",
       "      <td>Hardback</td>\n",
       "      <td>13 Sep 2022</td>\n",
       "      <td>9780063159488</td>\n",
       "      <td>INR</td>\n",
       "      <td>2082.65</td>\n",
       "    </tr>\n",
       "    <tr>\n",
       "      <th>907</th>\n",
       "      <td>Recovery Hardware</td>\n",
       "      <td>Gina Schaefer</td>\n",
       "      <td>Paperback</td>\n",
       "      <td>01 Sep 2022</td>\n",
       "      <td>9798985841008</td>\n",
       "      <td>INR</td>\n",
       "      <td>1319.4</td>\n",
       "    </tr>\n",
       "    <tr>\n",
       "      <th>908</th>\n",
       "      <td>Preparados, listos, ¡ÑAM!</td>\n",
       "      <td>Laura Alvarez</td>\n",
       "      <td>Paperback</td>\n",
       "      <td>08 Sep 2022</td>\n",
       "      <td>9788467066098</td>\n",
       "      <td>INR</td>\n",
       "      <td>1832.94</td>\n",
       "    </tr>\n",
       "    <tr>\n",
       "      <th>909</th>\n",
       "      <td>Sleep Easy</td>\n",
       "      <td>Bernice Tuffery</td>\n",
       "      <td>Paperback</td>\n",
       "      <td>01 Sep 2022</td>\n",
       "      <td>9781988547459</td>\n",
       "      <td>INR</td>\n",
       "      <td>1452.82</td>\n",
       "    </tr>\n",
       "  </tbody>\n",
       "</table>\n",
       "</div>"
      ],
      "text/plain": [
       "                             title            author     format    published  \\\n",
       "905  Deliciously Healthy Pregnancy  Rhiannon Lambert   Hardback  08 Sep 2022   \n",
       "906                    Good Inside  Dr Becky Kennedy   Hardback  13 Sep 2022   \n",
       "907              Recovery Hardware     Gina Schaefer  Paperback  01 Sep 2022   \n",
       "908      Preparados, listos, ¡ÑAM!     Laura Alvarez  Paperback  08 Sep 2022   \n",
       "909                     Sleep Easy   Bernice Tuffery  Paperback  01 Sep 2022   \n",
       "\n",
       "              isbn currency    price  \n",
       "905  9780241530566      INR  2072.66  \n",
       "906  9780063159488      INR  2082.65  \n",
       "907  9798985841008      INR   1319.4  \n",
       "908  9788467066098      INR  1832.94  \n",
       "909  9781988547459      INR  1452.82  "
      ]
     },
     "execution_count": 192,
     "metadata": {},
     "output_type": "execute_result"
    }
   ],
   "source": [
    "df.tail()"
   ]
  },
  {
   "cell_type": "markdown",
   "id": "8b0abea5",
   "metadata": {},
   "source": [
    "# check null values"
   ]
  },
  {
   "cell_type": "code",
   "execution_count": 193,
   "id": "169f282a",
   "metadata": {},
   "outputs": [
    {
     "data": {
      "text/plain": [
       "False"
      ]
     },
     "execution_count": 193,
     "metadata": {},
     "output_type": "execute_result"
    }
   ],
   "source": [
    "df['published'].isnull().values.any()"
   ]
  },
  {
   "cell_type": "code",
   "execution_count": 194,
   "id": "3432644f",
   "metadata": {},
   "outputs": [
    {
     "data": {
      "text/plain": [
       "False"
      ]
     },
     "execution_count": 194,
     "metadata": {},
     "output_type": "execute_result"
    }
   ],
   "source": [
    "df['isbn'].isnull().values.any()"
   ]
  },
  {
   "cell_type": "code",
   "execution_count": 196,
   "id": "0ffdc47f",
   "metadata": {},
   "outputs": [
    {
     "data": {
      "text/plain": [
       "False"
      ]
     },
     "execution_count": 196,
     "metadata": {},
     "output_type": "execute_result"
    }
   ],
   "source": [
    "df['author'].isnull().values.any()"
   ]
  },
  {
   "cell_type": "code",
   "execution_count": 195,
   "id": "8404fe03",
   "metadata": {},
   "outputs": [
    {
     "data": {
      "text/plain": [
       "False"
      ]
     },
     "execution_count": 195,
     "metadata": {},
     "output_type": "execute_result"
    }
   ],
   "source": [
    "df['title'].isnull().values.any()"
   ]
  },
  {
   "cell_type": "code",
   "execution_count": 205,
   "id": "e623bdc2",
   "metadata": {},
   "outputs": [
    {
     "data": {
      "text/html": [
       "<div>\n",
       "<style scoped>\n",
       "    .dataframe tbody tr th:only-of-type {\n",
       "        vertical-align: middle;\n",
       "    }\n",
       "\n",
       "    .dataframe tbody tr th {\n",
       "        vertical-align: top;\n",
       "    }\n",
       "\n",
       "    .dataframe thead th {\n",
       "        text-align: right;\n",
       "    }\n",
       "</style>\n",
       "<table border=\"1\" class=\"dataframe\">\n",
       "  <thead>\n",
       "    <tr style=\"text-align: right;\">\n",
       "      <th></th>\n",
       "      <th>title</th>\n",
       "      <th>author</th>\n",
       "      <th>price</th>\n",
       "    </tr>\n",
       "  </thead>\n",
       "  <tbody>\n",
       "    <tr>\n",
       "      <th>0</th>\n",
       "      <td>The Ballad of Never After</td>\n",
       "      <td>Stephanie Garber</td>\n",
       "      <td>1479.93</td>\n",
       "    </tr>\n",
       "    <tr>\n",
       "      <th>1</th>\n",
       "      <td>Love on the Brain</td>\n",
       "      <td>Ali Hazelwood</td>\n",
       "      <td>744.11</td>\n",
       "    </tr>\n",
       "    <tr>\n",
       "      <th>2</th>\n",
       "      <td>Good Inside</td>\n",
       "      <td>Dr Becky Kennedy</td>\n",
       "      <td>1176.19</td>\n",
       "    </tr>\n",
       "    <tr>\n",
       "      <th>3</th>\n",
       "      <td>The American Roommate Experiment</td>\n",
       "      <td>Elena Armas</td>\n",
       "      <td>732.53</td>\n",
       "    </tr>\n",
       "    <tr>\n",
       "      <th>4</th>\n",
       "      <td>The Ink Black Heart</td>\n",
       "      <td>Robert Galbraith</td>\n",
       "      <td>2417.13</td>\n",
       "    </tr>\n",
       "    <tr>\n",
       "      <th>...</th>\n",
       "      <td>...</td>\n",
       "      <td>...</td>\n",
       "      <td>...</td>\n",
       "    </tr>\n",
       "    <tr>\n",
       "      <th>905</th>\n",
       "      <td>Deliciously Healthy Pregnancy</td>\n",
       "      <td>Rhiannon Lambert</td>\n",
       "      <td>2072.66</td>\n",
       "    </tr>\n",
       "    <tr>\n",
       "      <th>906</th>\n",
       "      <td>Good Inside</td>\n",
       "      <td>Dr Becky Kennedy</td>\n",
       "      <td>2082.65</td>\n",
       "    </tr>\n",
       "    <tr>\n",
       "      <th>907</th>\n",
       "      <td>Recovery Hardware</td>\n",
       "      <td>Gina Schaefer</td>\n",
       "      <td>1319.4</td>\n",
       "    </tr>\n",
       "    <tr>\n",
       "      <th>908</th>\n",
       "      <td>Preparados, listos, ¡ÑAM!</td>\n",
       "      <td>Laura Alvarez</td>\n",
       "      <td>1832.94</td>\n",
       "    </tr>\n",
       "    <tr>\n",
       "      <th>909</th>\n",
       "      <td>Sleep Easy</td>\n",
       "      <td>Bernice Tuffery</td>\n",
       "      <td>1452.82</td>\n",
       "    </tr>\n",
       "  </tbody>\n",
       "</table>\n",
       "<p>910 rows × 3 columns</p>\n",
       "</div>"
      ],
      "text/plain": [
       "                                title            author    price\n",
       "0           The Ballad of Never After  Stephanie Garber  1479.93\n",
       "1                   Love on the Brain     Ali Hazelwood   744.11\n",
       "2                         Good Inside  Dr Becky Kennedy  1176.19\n",
       "3    The American Roommate Experiment       Elena Armas   732.53\n",
       "4                 The Ink Black Heart  Robert Galbraith  2417.13\n",
       "..                                ...               ...      ...\n",
       "905     Deliciously Healthy Pregnancy  Rhiannon Lambert  2072.66\n",
       "906                       Good Inside  Dr Becky Kennedy  2082.65\n",
       "907                 Recovery Hardware     Gina Schaefer   1319.4\n",
       "908         Preparados, listos, ¡ÑAM!     Laura Alvarez  1832.94\n",
       "909                        Sleep Easy   Bernice Tuffery  1452.82\n",
       "\n",
       "[910 rows x 3 columns]"
      ]
     },
     "execution_count": 205,
     "metadata": {},
     "output_type": "execute_result"
    }
   ],
   "source": [
    "df[['title','author','price']]"
   ]
  },
  {
   "cell_type": "code",
   "execution_count": null,
   "id": "4617e1c9",
   "metadata": {},
   "outputs": [],
   "source": []
  }
 ],
 "metadata": {
  "kernelspec": {
   "display_name": "Python 3 (ipykernel)",
   "language": "python",
   "name": "python3"
  },
  "language_info": {
   "codemirror_mode": {
    "name": "ipython",
    "version": 3
   },
   "file_extension": ".py",
   "mimetype": "text/x-python",
   "name": "python",
   "nbconvert_exporter": "python",
   "pygments_lexer": "ipython3",
   "version": "3.9.7"
  }
 },
 "nbformat": 4,
 "nbformat_minor": 5
}
