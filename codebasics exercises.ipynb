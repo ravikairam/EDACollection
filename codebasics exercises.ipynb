{
 "cells": [
  {
   "cell_type": "markdown",
   "id": "428c9585",
   "metadata": {},
   "source": [
    "# Python Excercises by codebasics"
   ]
  },
  {
   "cell_type": "raw",
   "id": "d8aa580b",
   "metadata": {},
   "source": [
    "Using following list of cities per country,\n",
    "india = [\"mumbai\", \"banglore\", \"chennai\", \"delhi\"]\n",
    "pakistan = [\"lahore\",\"karachi\",\"islamabad\"]\n",
    "bangladesh = [\"dhaka\", \"khulna\", \"rangpur\"]\n",
    "Write a program that asks user to enter a city name and it should tell which country the city belongs to\n",
    "Write a program that asks user to enter two cities and it tells you if they both are in same country or not. For example if I enter mumbai and chennai, it will print \"Both cities are in India\" but if I enter mumbai and dhaka it should print \"They don't belong to same country\""
   ]
  },
  {
   "cell_type": "code",
   "execution_count": null,
   "id": "e7c4ecac",
   "metadata": {},
   "outputs": [],
   "source": [
    "## Exercise: Python If Condition\n",
    "# 1. Using following list of cities per country,\n",
    "#     ```\n",
    "#     india = [\"mumbai\", \"banglore\", \"chennai\", \"delhi\"]\n",
    "#     pakistan = [\"lahore\",\"karachi\",\"islamabad\"]\n",
    "#     bangladesh = [\"dhaka\", \"khulna\", \"rangpur\"]\n",
    "#     ```\n",
    "# Write a program that asks user to enter a city name and it should tell which country the city belongs to\n",
    "\n",
    "india = [\"mumbai\", \"banglore\", \"chennai\", \"delhi\"]\n",
    "pakistan = [\"lahore\", \"karachi\", \"islamabad\"]\n",
    "bangladesh = [\"dhaka\", \"khulna\", \"rangpur\"]\n",
    "\n",
    "city = input(\"Enter city name: \")\n",
    "\n",
    "if city in india:\n",
    "    print(f\"{city} is in india\")\n",
    "elif city in pakistan:\n",
    "    print(f\"{city} is in pakistan\")\n",
    "elif city in bangladesh:\n",
    "    print(f\"{city} is in bangladesh\")\n",
    "else:\n",
    "    print(f\"I won't be able to tell you which country {city} is in! Sorry!\")"
   ]
  },
  {
   "cell_type": "code",
   "execution_count": null,
   "id": "7b146af2",
   "metadata": {},
   "outputs": [],
   "source": [
    "## Exercise: Python If Condition\n",
    "# 1. Using following list of cities per country,\n",
    "#     ```\n",
    "#     india = [\"mumbai\", \"banglore\", \"chennai\", \"delhi\"]\n",
    "#     pakistan = [\"lahore\",\"karachi\",\"islamabad\"]\n",
    "#     bangladesh = [\"dhaka\", \"khulna\", \"rangpur\"]\n",
    "#     ```\n",
    "#Write a program that asks user to enter two cities and it tells you if they both are in same country or not. For example if I enter mumbai and chennai, it will print \"Both cities are in India\" but if I enter mumbai and dhaka it should print \"They don't belong to same country\"\n",
    "\n",
    "india = [\"mumbai\", \"banglore\", \"chennai\", \"delhi\"]\n",
    "pakistan = [\"lahore\", \"karachi\", \"islamabad\"]\n",
    "bangladesh = [\"dhaka\", \"khulna\", \"rangpur\"]\n",
    "\n",
    "city1 = input(\"Enter city 1: \")\n",
    "city2 = input(\"Enter city 2: \")\n",
    "\n",
    "if city1 in india and city2 in india:\n",
    "    print(\"Both cities are in india\")\n",
    "elif city1 in pakistan and city2 in pakistan:\n",
    "    print(\"Both cities are in pakistan\")\n",
    "elif city1 in bangladesh and city2 in bangladesh:\n",
    "    print(\"Both cities are in bangladesh\")\n",
    "else:\n",
    "    print(\"They don't belong to same country\")"
   ]
  },
  {
   "cell_type": "code",
   "execution_count": null,
   "id": "2200afff",
   "metadata": {},
   "outputs": [],
   "source": [
    "## Exercise: Python If Condition\n",
    "# 2. Write a python program that can tell you if your sugar is normal or not. Normal fasting level sugar range is 80 to 100.\n",
    "#     1. Ask user to enter his fasting sugar level\n",
    "#     2. If it is below 80 to 100 range then print that sugar is low\n",
    "#     3. If it is above 100 then print that it is high otherwise print that it is normal\n",
    "sugar=input(\"Please enter your fasting sugar level:\")\n",
    "sugar=float(sugar)\n",
    "if sugar<80:\n",
    "    print(\"Your sugar is low, go eat some jalebi :)\")\n",
    "elif sugar>100:\n",
    "    print(\"Your sugar is high, stop eating all mithais..!\")\n",
    "else:\n",
    "    print(\"Your sugar is normal, relax and enjoy your life!\")"
   ]
  },
  {
   "cell_type": "code",
   "execution_count": null,
   "id": "214541e2",
   "metadata": {},
   "outputs": [],
   "source": [
    "india = [\"mumbai\", \"banglore\", \"chennai\", \"delhi\"]\n",
    "pakistan = [\"lahore\",\"karachi\",\"islamabad\"]\n",
    "bangladesh = [\"dhaka\", \"khulna\", \"rangpur\"]\n",
    "\n",
    "city = input(\"Enter the city name:\")\n",
    "\n",
    "if city in india:\n",
    "    print(\"city velongs to India\")\n",
    "elif city in pakistan:\n",
    "    print(\"city velongs to pakistan\")\n",
    "elif city in bangladesh:\n",
    "    print(\"city velongs to bangladesh\")\n",
    "else:\n",
    "    print(\"I am not sure ehich country city belongs to:\")\n",
    "    "
   ]
  },
  {
   "cell_type": "code",
   "execution_count": null,
   "id": "af788da3",
   "metadata": {},
   "outputs": [],
   "source": [
    "india = [\"mumbai\", \"banglore\", \"chennai\", \"delhi\"]\n",
    "pakistan = [\"lahore\",\"karachi\",\"islamabad\"]\n",
    "bangladesh = [\"dhaka\", \"khulna\", \"rangpur\"]\n",
    "\n",
    "m = input(\"Enter a name :\")\n",
    "n = input(\"Enter a name :\")\n",
    "\n",
    "if m in india and n in india:\n",
    "    print(\"Both cities are in India:\")\n",
    "elif m in india and n not in india:\n",
    "    print(\"They don't belong to same country\")\n",
    "elif m not in india and n in india:\n",
    "    print(\"They don't belong to same country\")\n",
    "else:\n",
    "    print(\"I am not sure\")"
   ]
  },
  {
   "cell_type": "markdown",
   "id": "743a853b",
   "metadata": {},
   "source": [
    "After flipping a coin 10 times you got this result,\n",
    "result = [\"heads\",\"tails\",\"tails\",\"heads\",\"tails\",\"heads\",\"heads\",\"tails\",\"tails\",\"tails\"]\n",
    "Using for loop figure out how many times you got heads"
   ]
  },
  {
   "cell_type": "code",
   "execution_count": null,
   "id": "f1ce5953",
   "metadata": {},
   "outputs": [],
   "source": [
    "result = [\"heads\",\"tails\",\"tails\",\"heads\",\"tails\",\"heads\",\"heads\",\"tails\",\"tails\",\"tails\"]\n",
    "\n",
    "count = 0\n",
    "for i in result:\n",
    "    if i == \"heads\":\n",
    "        count = count+1\n",
    "print(count)\n",
    "    "
   ]
  },
  {
   "cell_type": "markdown",
   "id": "1c3291ca",
   "metadata": {},
   "source": [
    "Print square of all numbers between 1 to 10 except even numbers"
   ]
  },
  {
   "cell_type": "code",
   "execution_count": null,
   "id": "40615410",
   "metadata": {},
   "outputs": [],
   "source": [
    "for i in range(1,11):\n",
    "    if i%2== 0:\n",
    "        continue\n",
    "    else:\n",
    "        print(i * i)"
   ]
  },
  {
   "cell_type": "code",
   "execution_count": null,
   "id": "e83de4ec",
   "metadata": {},
   "outputs": [],
   "source": [
    "exp = [2300,2400,560,10000,890]\n",
    "count = 0\n",
    "for i in range (len(exp)):\n",
    "    print(\"month:\",i+1 ,exp[i])\n",
    "    count = count + exp[i]\n",
    "print(\"Total expenses:\",count)"
   ]
  },
  {
   "cell_type": "raw",
   "id": "aa8ac32c",
   "metadata": {},
   "source": [
    "Your monthly expense list (from Jan to May) looks like this,\n",
    "expense_list = [2340, 2500, 2100, 3100, 2980]\n",
    "Write a program that asks you to enter an expense amount and program should tell you in which month that expense occurred. If expense is not found then it should print that as well."
   ]
  },
  {
   "cell_type": "code",
   "execution_count": null,
   "id": "afaad963",
   "metadata": {},
   "outputs": [],
   "source": [
    "expense_list = [2340, 2500, 2100, 3100, 2980]\n",
    "months = [\"jan\",\"feb\",\"mar\",\"apr\",\"may\"]\n",
    "exp = input(\"enter the amount:\")\n",
    "exp = int(exp)\n",
    "j=0\n",
    "for i in expense_list:\n",
    "    if i == exp:\n",
    "        break\n",
    "    j= j+1\n",
    "print(j)\n",
    "print(months[j])"
   ]
  },
  {
   "cell_type": "raw",
   "id": "41897ca6",
   "metadata": {},
   "source": [
    "Lets say you are running a 5 km race. Write a program that,\n",
    "\n",
    "Upon completing each 1 km asks you \"are you tired?\"\n",
    "If you reply \"yes\" then it should break and print \"you didn't finish the race\"\n",
    "If you reply \"no\" then it should continue and ask \"are you tired\" on every km\n",
    "If you finish all 5 km then it should print congratulations message"
   ]
  },
  {
   "cell_type": "code",
   "execution_count": null,
   "id": "5b1fc17c",
   "metadata": {},
   "outputs": [],
   "source": [
    "for i in range(1,6):\n",
    "    if  i% 1 == 0 :\n",
    "        n = input (\"are you tired:\")\n",
    "        if n == \"yes\":\n",
    "            print (\"you didn't finish the race\")\n",
    "            break\n",
    "        elif n == \"no\":\n",
    "            if i%5 == 0:\n",
    "                print(\"congratulations\")\n",
    "            else:\n",
    "                continue                "
   ]
  },
  {
   "cell_type": "code",
   "execution_count": null,
   "id": "0e44875a",
   "metadata": {},
   "outputs": [],
   "source": [
    "expense_list[0]"
   ]
  },
  {
   "cell_type": "raw",
   "id": "ba43db7d",
   "metadata": {},
   "source": [
    "Write a program that prints following shape\n",
    "*\n",
    "**\n",
    "***\n",
    "****\n",
    "*****"
   ]
  },
  {
   "cell_type": "code",
   "execution_count": null,
   "id": "d0075e67",
   "metadata": {},
   "outputs": [],
   "source": [
    "rows = 5\n",
    "for i in range (1,rows+1):\n",
    "    print(\"*\")\n",
    "    for j in range(i):\n",
    "        print(\"*\",end='')\n",
    "    "
   ]
  },
  {
   "cell_type": "code",
   "execution_count": null,
   "id": "e8364928",
   "metadata": {},
   "outputs": [],
   "source": [
    "# ## Exercise: Python for loop\n",
    "# 1. After flipping a coin 10 times you got this result,\n",
    "# ```\n",
    "# result = [\"heads\",\"tails\",\"tails\",\"heads\",\"tails\",\"heads\",\"heads\",\"tails\",\"tails\",\"tails\"]\n",
    "# ```\n",
    "# Using for loop figure out how many times you got heads\n",
    "print(\"\\nExercise 1\\n\")\n",
    "result = [\"heads\",\"tails\",\"tails\",\"heads\",\"tails\",\"heads\",\"heads\",\"tails\",\"tails\",\"tails\"]\n",
    "count = 0\n",
    "for item in result:\n",
    "    if item == \"heads\":\n",
    "        count += 1\n",
    "print(\"Heads count: \",count)\n",
    "\n",
    "\n",
    "# 2. Print square of all numbers between 1 to 10 except even numbers\n",
    "print(\"\\nExercise 2\\n\")\n",
    "for i in range(1,11):\n",
    "    if i % 2 == 0:\n",
    "        continue\n",
    "    print(i*i)\n",
    "\n",
    "# 3. Your monthly expense list (from Jan to May) looks like this,\n",
    "# ```\n",
    "# expense_list = [2340, 2500, 2100, 3100, 2980]\n",
    "# ```\n",
    "# Write a program that asks you to enter an expense amount and program\n",
    "# should tell you in which month that expense occurred. If expense is not\n",
    "# found then it should print that as well.\n",
    "print(\"\\nExercise 3\\n\")\n",
    "month_list = [\"January\", \"February\", \"March\", \"April\", \"May\"]\n",
    "expense_list = [2340, 2500, 2100, 3100, 2980]\n",
    "e = input(\"Enter expense amount: \")\n",
    "e = int(e)\n",
    "\n",
    "month = -1\n",
    "for i in range(len(expense_list)):\n",
    "    if e == expense_list[i]:\n",
    "        month = i\n",
    "        break\n",
    "\n",
    "if month != -1:\n",
    "    print(f'You spent {e} in {month_list[month]}')\n",
    "else:\n",
    "    print(f'You didn\\'t spend {e} in any month')\n",
    "\n",
    "# 4. Lets say you are running a 5 km race. Write a program that,\n",
    "#    1. Upon completing each 1 km asks you \"are you tired?\"\n",
    "#    2. If you reply \"yes\" then it should break and print \"you didn't finish the race\"\n",
    "#    3. If you reply \"no\" then it should continue and ask \"are you tired\" on every km\n",
    "#    4. If you finish all 5 km then it should print congratulations message\n",
    "\n",
    "print(\"\\nExercise 4\\n\")\n",
    "\n",
    "for i in range(5):\n",
    "    print(f\"You ran {i+1} miles\") # i starts with zero hence adding 1\n",
    "    tired = input(\"Are you tired? \")\n",
    "    if tired == 'yes':\n",
    "        break\n",
    "\n",
    "if i == 4: # 4 because the index starts from 0\n",
    "    print(\"Hurray! You are a rock star! You just finished 5 km race!\")\n",
    "else:\n",
    "    print(\"You didn't finish 5 km race but hey congrats anyways! You still ran {i+1} miles\")\n",
    "\n",
    "# 5. Write a program that prints following shape\n",
    "# ```\n",
    "# *\n",
    "# **\n",
    "# ***\n",
    "# ****\n",
    "# *****\n",
    "# ```\n",
    "print(\"\\nExercise 5\\n\")\n",
    "\n",
    "for i in range(1,6):\n",
    "    s = ''\n",
    "    for j in range(i):\n",
    "        s += '*'\n",
    "    print(s)"
   ]
  },
  {
   "cell_type": "raw",
   "id": "90f95a37",
   "metadata": {},
   "source": [
    "Write a function called calculate_area that takes base and height as an input and returns and area of a triangle. Equation of an area of a triangle is,"
   ]
  },
  {
   "cell_type": "code",
   "execution_count": null,
   "id": "ba54a449",
   "metadata": {},
   "outputs": [],
   "source": [
    "def area(b,h):\n",
    "    return 1/2 *b*h\n",
    "area (10,2)"
   ]
  },
  {
   "cell_type": "raw",
   "id": "707997dd",
   "metadata": {},
   "source": [
    "Modify above function to take third parameter shape type. It can be either \"triangle\" or \"rectangle\". Based on shape type it will calculate area. Equation of rectangle's area is,"
   ]
  },
  {
   "cell_type": "code",
   "execution_count": null,
   "id": "adffaa36",
   "metadata": {},
   "outputs": [],
   "source": [
    "def rectangle(l,b):\n",
    "    return l*b\n",
    "rectangle(5,4)\n"
   ]
  },
  {
   "cell_type": "raw",
   "id": "9ab85c6c",
   "metadata": {},
   "source": [
    "Write a function called print_pattern that takes integer number as an argument and prints following pattern if input number is 3,"
   ]
  },
  {
   "cell_type": "code",
   "execution_count": null,
   "id": "0b5e1a82",
   "metadata": {},
   "outputs": [],
   "source": [
    "def pattern(n):\n",
    "    n = int(input( \"enter a number:\" ))\n",
    "    rows = n\n",
    "    for i in range(1,n+1):\n",
    "        print(\"*\")\n",
    "        for j in range(i):\n",
    "            print(\"*\",end = \"\")"
   ]
  },
  {
   "cell_type": "code",
   "execution_count": null,
   "id": "a0259b8d",
   "metadata": {},
   "outputs": [],
   "source": [
    "pattern(3)"
   ]
  },
  {
   "cell_type": "code",
   "execution_count": null,
   "id": "a5ce5770",
   "metadata": {},
   "outputs": [],
   "source": [
    "   for i in range(3):\n",
    "        s = ''\n",
    "        for j in range(i+1):\n",
    "            s = s + '*'\n",
    "        print(s)"
   ]
  },
  {
   "cell_type": "raw",
   "id": "3bce4090",
   "metadata": {},
   "source": [
    "We have following information on countries and their population (population is in crores),\n",
    "\n",
    "Country\tPopulation\n",
    "China\t143\n",
    "India\t136\n",
    "USA\t32\n",
    "Pakistan\t21\n",
    "Using above create a dictionary of countries and its population"
   ]
  },
  {
   "cell_type": "code",
   "execution_count": null,
   "id": "0489baef",
   "metadata": {},
   "outputs": [],
   "source": [
    "dic = {\"china\": 143,\"India\":136,\"USA\":32,\"Pakistan\":21}"
   ]
  },
  {
   "cell_type": "raw",
   "id": "cf15f32d",
   "metadata": {},
   "source": [
    "Write a program that asks user for three type of inputs,\n",
    "print: if user enter print then it should print all countries with their population in this format,\n",
    "china==>143\n",
    "india==>136\n",
    "usa==>32\n",
    "pakistan==>21"
   ]
  },
  {
   "cell_type": "code",
   "execution_count": null,
   "id": "da248423",
   "metadata": {},
   "outputs": [],
   "source": [
    "for k,v in dic.items():\n",
    "    print (k, \"==>\", v)"
   ]
  },
  {
   "cell_type": "raw",
   "id": "1aa17f4e",
   "metadata": {},
   "source": [
    "add: if user input add then it should further ask for a country name to add. If country already exist in our dataset then it should print that it exist and do nothing. If it doesn't then it asks for population and add that new country/population in our dictionary and print it"
   ]
  },
  {
   "cell_type": "code",
   "execution_count": null,
   "id": "c8087505",
   "metadata": {},
   "outputs": [],
   "source": [
    "population = {\n",
    "    'china': 143,\n",
    "    'india': 136,\n",
    "    'usa': 32,\n",
    "    'pakistan': 21\n",
    "}"
   ]
  },
  {
   "cell_type": "code",
   "execution_count": null,
   "id": "b41a7949",
   "metadata": {},
   "outputs": [],
   "source": [
    "def add():\n",
    "    country=input(\"Enter country name to add:\")\n",
    "    country=country.lower()\n",
    "    if country in population:\n",
    "        print(\"Country already exist in our dataset. Terminating\")\n",
    "        return\n",
    "    p=input(f\"Enter population for {country}\")\n",
    "    p=float(p)\n",
    "    population[country]=p # Adds new key value pair to dictionary\n"
   ]
  },
  {
   "cell_type": "code",
   "execution_count": null,
   "id": "61ca4667",
   "metadata": {},
   "outputs": [],
   "source": [
    "population"
   ]
  },
  {
   "cell_type": "code",
   "execution_count": null,
   "id": "58fd07c1",
   "metadata": {},
   "outputs": [],
   "source": [
    "def remove():\n",
    "    country = input(\"Enter country name to remove:\")\n",
    "    country = country.lower()\n",
    "    if country not in population:\n",
    "        print(\"Country doesn't exist in our dataset. Terminating\")\n",
    "        return\n",
    "    del population[country]\n",
    "    #print_all()"
   ]
  },
  {
   "cell_type": "code",
   "execution_count": null,
   "id": "442822a7",
   "metadata": {},
   "outputs": [],
   "source": [
    "remove()"
   ]
  },
  {
   "cell_type": "code",
   "execution_count": null,
   "id": "152d078f",
   "metadata": {},
   "outputs": [],
   "source": [
    "population"
   ]
  },
  {
   "cell_type": "code",
   "execution_count": null,
   "id": "7e610474",
   "metadata": {},
   "outputs": [],
   "source": [
    "add()"
   ]
  },
  {
   "cell_type": "code",
   "execution_count": null,
   "id": "64c23d96",
   "metadata": {},
   "outputs": [],
   "source": [
    "remove()"
   ]
  },
  {
   "cell_type": "code",
   "execution_count": null,
   "id": "b30810e0",
   "metadata": {},
   "outputs": [],
   "source": [
    "population"
   ]
  },
  {
   "cell_type": "code",
   "execution_count": null,
   "id": "352583e3",
   "metadata": {},
   "outputs": [],
   "source": [
    "def add():\n",
    "    country = input(\"input country name:\")\n",
    "    country = country.lower()\n",
    "    if country in population:\n",
    "        print(\"no need to add the country name:\")\n",
    "        return\n",
    "    p = input(f\"enter the population for {country}:\")\n",
    "    p = float(p)\n",
    "    population[country]=p\n",
    "    "
   ]
  },
  {
   "cell_type": "code",
   "execution_count": null,
   "id": "2db79382",
   "metadata": {},
   "outputs": [],
   "source": [
    "add()"
   ]
  },
  {
   "cell_type": "code",
   "execution_count": null,
   "id": "56e313dc",
   "metadata": {},
   "outputs": [],
   "source": [
    "population"
   ]
  },
  {
   "cell_type": "code",
   "execution_count": null,
   "id": "ab4b100e",
   "metadata": {},
   "outputs": [],
   "source": [
    "def query():\n",
    "    country = input(\"Enter country name to query:\")\n",
    "    country = country.lower()\n",
    "    if country not in population:\n",
    "        print(\"Country doesn't exist in our dataset. Terminating\")\n",
    "        return\n",
    "    print(f\"Population of {country} is: {population[country]} crore\")"
   ]
  },
  {
   "cell_type": "code",
   "execution_count": null,
   "id": "fefa6c2c",
   "metadata": {},
   "outputs": [],
   "source": [
    "query()"
   ]
  },
  {
   "cell_type": "code",
   "execution_count": null,
   "id": "686c4808",
   "metadata": {},
   "outputs": [],
   "source": [
    "population = {\n",
    "    'china': 143,\n",
    "    'india': 136,\n",
    "    'usa': 32,\n",
    "    'pakistan': 21\n",
    "}\n"
   ]
  },
  {
   "cell_type": "code",
   "execution_count": null,
   "id": "02a1a319",
   "metadata": {},
   "outputs": [],
   "source": [
    "\n",
    "def add():\n",
    "    country=input(\"Enter country name to add:\")\n",
    "    country=country.lower()\n",
    "    if country in population:\n",
    "        print(\"Country already exist in our dataset. Terminating\")\n",
    "        return\n",
    "    p=input(f\"Enter population for {country}\")\n",
    "    p=float(p)\n",
    "    population[country]=p # Adds new key value pair to dictionary\n",
    "    print_all()\n",
    "\n",
    "def remove():\n",
    "    country = input(\"Enter country name to remove:\")\n",
    "    country = country.lower()\n",
    "    if country not in population:\n",
    "        print(\"Country doesn't exist in our dataset. Terminating\")\n",
    "        return\n",
    "    del population[country]\n",
    "    print_all()\n",
    "\n",
    "def query():\n",
    "    country = input(\"Enter country name to query:\")\n",
    "    country = country.lower()\n",
    "    if country not in population:\n",
    "        print(\"Country doesn't exist in our dataset. Terminating\")\n",
    "        return\n",
    "    print(f\"Population of {country} is: {population[country]} crore\")\n",
    "\n",
    "def print_all():\n",
    "    for country, p in population.items():\n",
    "        print(f\"{country}==>{p}\")\n",
    "\n",
    "def main():\n",
    "    op=input(\"Enter operation (add, remove, query or print):\")\n",
    "    if op.lower() == 'add':\n",
    "        add()\n",
    "    elif op.lower() == 'remove':\n",
    "        remove()\n",
    "    elif op.lower() == 'query':\n",
    "        query()\n",
    "    elif op.lower() == 'print':\n",
    "        print_all()\n",
    "\n",
    "if __name__ == '__main__':\n",
    "    main()"
   ]
  },
  {
   "cell_type": "raw",
   "id": "986fc830",
   "metadata": {},
   "source": [
    "You are given following list of stocks and their prices in last 3 days,\n",
    "\n",
    "Stock\tPrices\n",
    "info\t[600,630,620]\n",
    "ril\t[1430,1490,1567]\n",
    "mtl\t[234,180,160]"
   ]
  },
  {
   "cell_type": "raw",
   "id": "7b025640",
   "metadata": {},
   "source": [
    "Write a program that asks user for operation. Value of operations could be,\n",
    "print: When user enters print it should print following,\n",
    "info ==> [600, 630, 620] ==> avg:  616.67\n",
    "ril ==> [1430, 1490, 1567] ==> avg:  1495.67\n",
    "mtl ==> [234, 180, 160] ==> avg:  191.33"
   ]
  },
  {
   "cell_type": "code",
   "execution_count": null,
   "id": "2cc7e7c0",
   "metadata": {},
   "outputs": [],
   "source": [
    "stockprices = {\"info\":[600,630,620],\"ril\":[1430, 1490, 1567],\"mtl\":[234, 180, 160]}"
   ]
  },
  {
   "cell_type": "code",
   "execution_count": null,
   "id": "432b3dfc",
   "metadata": {},
   "outputs": [],
   "source": [
    "import statistics\n",
    "def print_stock():\n",
    "    for k,v in stockprices.items():\n",
    "        print(f\"{k} ==> {v} ==> avg : {statistics.mean(v)}\")"
   ]
  },
  {
   "cell_type": "code",
   "execution_count": null,
   "id": "3267b0dc",
   "metadata": {},
   "outputs": [],
   "source": [
    "print_stock()"
   ]
  },
  {
   "cell_type": "raw",
   "id": "24fa9af5",
   "metadata": {},
   "source": [
    "add: When user enters 'add', it asks for stock ticker and price. If stock already exist in your list (like info, ril etc) then it will append the price to the list. Otherwise it will create new entry in your dictionary. For example entering 'tata' and 560 will add tata ==> [560] to the dictionary of stocks."
   ]
  },
  {
   "cell_type": "code",
   "execution_count": null,
   "id": "ef0c47f4",
   "metadata": {},
   "outputs": [],
   "source": [
    "def add():\n",
    "    s = input(\"Enter a stock ticker to add:\")\n",
    "    p = input(\"Enter price of this stock:\")\n",
    "    p=float(p)\n",
    "    if s in stockprices:\n",
    "        stockprices[s].append(p)\n",
    "    else:\n",
    "        stockprices[s] = [p]\n",
    "    #print_all()"
   ]
  },
  {
   "cell_type": "code",
   "execution_count": null,
   "id": "a09fca79",
   "metadata": {},
   "outputs": [],
   "source": [
    "add()"
   ]
  },
  {
   "cell_type": "code",
   "execution_count": null,
   "id": "71549c7e",
   "metadata": {},
   "outputs": [],
   "source": [
    "print_stock()"
   ]
  },
  {
   "cell_type": "code",
   "execution_count": null,
   "id": "48a43f31",
   "metadata": {},
   "outputs": [],
   "source": [
    "import statistics\n",
    "\n",
    "stocks = {\n",
    "    'info': [600,630,620],\n",
    "    'ril': [1430,1490,1567],\n",
    "    'mtl': [234,180,160]\n",
    "}\n",
    "\n",
    "def print_all():\n",
    "    for stock,price_list in stocks.items():\n",
    "        avg = statistics.mean(price_list)\n",
    "        print(f\"{stock} ==> {price_list} ==> avg: \",round(avg,2))\n",
    "\n",
    "\n",
    "def add():\n",
    "    s = input(\"Enter a stock ticker to add:\")\n",
    "    p = input(\"Enter price of this stock:\")\n",
    "    p=float(p)\n",
    "    if s in stocks:\n",
    "        stocks[s].append(p)\n",
    "    else:\n",
    "        stocks[s] = [p]\n",
    "    print_all()\n",
    "\n",
    "\n",
    "def main():\n",
    "    op=input(\"Enter operation (print, add or amend):\")\n",
    "    if op.lower() == 'print':\n",
    "        print_all()\n",
    "    elif op.lower() == 'add':\n",
    "        add()\n",
    "    else:\n",
    "        print(\"Unsupported operation:\",op)\n",
    "\n",
    "if __name__ == '__main__':\n",
    "    main()"
   ]
  },
  {
   "cell_type": "raw",
   "id": "de11b2c0",
   "metadata": {},
   "source": [
    "Write circle_calc() function that takes radius of a circle as an input from user and then it calculates and returns area, circumference and diameter. You should get these values in your main program by calling circle_calc function and then print them"
   ]
  },
  {
   "cell_type": "code",
   "execution_count": null,
   "id": "e77682e9",
   "metadata": {},
   "outputs": [],
   "source": [
    "import math\n",
    "def circle_calc(radius):\n",
    "    area=math.pi*(radius**2)\n",
    "    circumference=2*math.pi*radius\n",
    "    diameter=2*radius\n",
    "    return area, circumference,diameter\n",
    "\n",
    "if __name__==\"__main__\":\n",
    "    r=input(\"Enter a radius:\")\n",
    "    r=float(r)\n",
    "    area, c, d = circle_calc(r)\n",
    "    print(f\"area {area}, circumference {c}, diameter {d}\")\n",
    "    "
   ]
  },
  {
   "cell_type": "code",
   "execution_count": null,
   "id": "505b27e7",
   "metadata": {},
   "outputs": [],
   "source": [
    "import json\n",
    "f = open(r\"C:\\Users\\chait\\OneDrive\\Desktop\\Ravi\\book.txt\",\"w+\")\n",
    "phone_book = {}\n",
    "command = \"\"\n",
    "while command != 'exit':\n",
    "    command = input('Enter a command(options: new,get,save): ')\n",
    "    if command == \"new\":\n",
    "        name = input('Enter name of the person: ')\n",
    "        p = input('Phone number: ')\n",
    "        a = input('Address: ')\n",
    "        phone_book[name] = {'phone': p, 'address': a}\n",
    "    elif command == 'get':\n",
    "        name = input('Enter name of the person')\n",
    "        if name in phone_book:\n",
    "            print(phone_book[name])\n",
    "        else:\n",
    "            print('person not found in address book')\n",
    "    elif command == 'save':\n",
    "        f.write(json.dumps(phone_book))"
   ]
  },
  {
   "cell_type": "code",
   "execution_count": null,
   "id": "2ecc18e1",
   "metadata": {},
   "outputs": [],
   "source": [
    "pwd"
   ]
  },
  {
   "cell_type": "code",
   "execution_count": null,
   "id": "fb968f65",
   "metadata": {},
   "outputs": [],
   "source": [
    "def count_num_in_file(file_path, num):\n",
    "    count = 0\n",
    "    with open(file_path,\"r\") as f:\n",
    "        for line in f.readlines():\n",
    "            tokens = line.split(\",\")\n",
    "            count += count_num_in_tokens(tokens, num)\n",
    "\n",
    "    return count\n",
    "\n",
    "def count_num_in_tokens(tokens, num):\n",
    "    count = 0\n",
    "    for token in tokens:\n",
    "        if num == int(token):\n",
    "            count+=1\n",
    "    return count\n",
    "\n",
    "\n",
    "def sum_numbers(file_path):\n",
    "    output_lines = []\n",
    "    with open(file_path,\"r\") as f:\n",
    "        for line in f.readlines():\n",
    "            tokens = line.split(\",\")\n",
    "            total = sum_tokens(tokens)\n",
    "            output_lines.append(\"sum: \" + str(total) + \" | \" + line)\n",
    "    with open(file_path,\"w\") as f:\n",
    "        f.writelines(output_lines)\n",
    "\n",
    "def sum_tokens(tokens):\n",
    "    sum = 0\n",
    "    for token in tokens:\n",
    "        sum += int(token)\n",
    "    return sum\n",
    "\n",
    "sum_numbers(r\"C:\\Users\\chait\\OneDrive\\Desktop\\Ravi\\input.txt\")"
   ]
  },
  {
   "cell_type": "raw",
   "id": "686108c3",
   "metadata": {},
   "source": [
    "poem.txt contains famous poem \"Road not taken\" by poet Robert Frost. You have to read this file in your python program and find out words with maximum occurance."
   ]
  },
  {
   "cell_type": "code",
   "execution_count": null,
   "id": "2ada2e4d",
   "metadata": {},
   "outputs": [],
   "source": [
    "word_stats={}\n",
    "\n",
    "with open(r\"C:\\\\Users\\\\chait\\\\OneDrive\\\\Desktop\\\\Ravi\\\\poem.txt\",\"r\") as f:\n",
    "    for line in f:\n",
    "      words=line.split(' ')\n",
    "      for word in words:\n",
    "        if word in word_stats:\n",
    "          word_stats[word]+=1\n",
    "        else:\n",
    "          word_stats[word] = 1\n",
    "\n",
    "print(word_stats)\n",
    "\n",
    "word_occurances = list(word_stats.values())\n",
    "max_count = max(word_occurances)\n",
    "print(\"Max occurances of any word is:\",max_count)\n",
    "\n",
    "print(\"Words with max occurances are: \")\n",
    "for word, count in word_stats.items():\n",
    "    if count==max_count:\n",
    "        print(word)"
   ]
  },
  {
   "cell_type": "code",
   "execution_count": null,
   "id": "d6c52ca4",
   "metadata": {},
   "outputs": [],
   "source": [
    "with open(r\"C:\\Users\\chait\\OneDrive\\Desktop\\Ravi\\stocks.csv\", \"r\") as f, open(r\"C:\\Users\\chait\\OneDrive\\Desktop\\Ravi\\output.csv\", \"w+\") as out:\n",
    "    out.write(\"Company Name,PE Ratio, PB Ratio\\n\")\n",
    "    next(f)  # This will skip first line in the file which is a header\n",
    "    for line in f:\n",
    "        tokens = line.split(\",\")\n",
    "        print(tokens)\n",
    "        stock = tokens[0]\n",
    "        print(stock)\n",
    "        price = float(tokens[1])\n",
    "        print(price)\n",
    "        eps = float(tokens[2])\n",
    "        print(eps)\n",
    "        book = float(tokens[3])\n",
    "        print(book)\n",
    "        pe = round(price / eps, 2)\n",
    "        print(pe)\n",
    "        pb = round(price / book, 2)\n",
    "        print(pb)\n",
    "        out.write(f\"{stock},{pe},{pb}\\n\")"
   ]
  },
  {
   "cell_type": "code",
   "execution_count": null,
   "id": "00a6d4cd",
   "metadata": {},
   "outputs": [],
   "source": [
    "word_stats={}\n",
    "\n",
    "with open(r\"C:\\\\Users\\\\chait\\\\OneDrive\\\\Desktop\\\\Ravi\\\\poem.txt\",\"r\") as f:\n",
    "    for line in f:\n",
    "      words=line.split(' ')\n",
    "      print(words)\n",
    "      for word in words:\n",
    "        if word in word_stats:\n",
    "          word_stats[word]+=1\n",
    "        else:\n",
    "          word_stats[word] = 1\n",
    "\n",
    "print(word_stats)\n",
    "\n",
    "word_occurances = list(word_stats.values())\n",
    "print(word_occurances)\n",
    "max_count = max(word_occurances)\n",
    "print(\"Max occurances of any word is:\",max_count)\n",
    "\n",
    "print(\"Words with max occurances are: \")\n",
    "for word, count in word_stats.items():\n",
    "    if count==max_count:\n",
    "        print(word)"
   ]
  },
  {
   "cell_type": "raw",
   "id": "001c2a0d",
   "metadata": {},
   "source": [
    "Create a sample class named Employee with two attributes id and name"
   ]
  },
  {
   "cell_type": "raw",
   "id": "6f1bb59c",
   "metadata": {},
   "source": [
    "employee :\n",
    "    id\n",
    "    name"
   ]
  },
  {
   "cell_type": "code",
   "execution_count": null,
   "id": "f5fc657e",
   "metadata": {},
   "outputs": [],
   "source": [
    "class Employee:\n",
    "\n",
    "    def __init__(self, id, name):\n",
    "        self.id = id\n",
    "        self.name = name\n",
    "\n",
    "    def display(self):\n",
    "        print(f\"ID: {self.id} \\nName: {self.name}\")\n",
    "\n",
    "\n",
    "# Creating a emp instance of Employee class\n",
    "emp = Employee(1, \"coder\")\n",
    "\n",
    "emp.display()\n",
    "# Deleting the property of object\n",
    "del emp.id\n",
    "# Deleting the object itself\n",
    "try:\n",
    "    print(emp.id)\n",
    "except NameError:\n",
    "    print(\"emp.id is not defined\")\n",
    "\n",
    "del emp\n",
    "try:\n",
    "    emp.display()  # it will gives error after deleting emp\n",
    "except NameError:\n",
    "    print(\"emp is not defined\")"
   ]
  },
  {
   "cell_type": "code",
   "execution_count": null,
   "id": "a43fba0a",
   "metadata": {},
   "outputs": [],
   "source": [
    "class Vehicle:\n",
    "    def general_usage(self):\n",
    "        print(\"general use: transporation\")\n",
    "\n",
    "class Car(Vehicle):\n",
    "    def __init__(self):\n",
    "        print(\"I'm car\")\n",
    "        self.wheels = 4\n",
    "        self.has_roof = True\n",
    "\n",
    "    def specific_usage(self):\n",
    "        self.general_usage()\n",
    "        print(\"specific use: commute to work, vacation with family\")\n",
    "\n",
    "class MotorCycle(Vehicle):\n",
    "    def __init__(self):\n",
    "        print(\"I'm motor cycle\")\n",
    "        self.wheels = 2\n",
    "        self.has_roof = False\n",
    "\n",
    "    def specific_usage(self):\n",
    "        self.general_usage()\n",
    "        print(\"specific use: road trip, racing\")\n",
    "\n",
    "c = Car()\n",
    "m = MotorCycle()\n",
    "\n",
    "print(issubclass(Car,MotorCycle))\n",
    "print(issubclass(Car,Vehicle))# car is subclass of vehicle\n",
    "print(isinstance(c,Car))# c is object of car"
   ]
  },
  {
   "cell_type": "code",
   "execution_count": null,
   "id": "489b9426",
   "metadata": {},
   "outputs": [],
   "source": [
    "\n",
    "class Animal:\n",
    "    def __init__(self, habitat):\n",
    "        self.habitat = habitat\n",
    "\n",
    "    def print_habitat(self):\n",
    "        print(self.habitat)\n",
    "\n",
    "    def sound(self):\n",
    "        print(\"Some Animal Sound\")\n",
    "\n",
    "\n",
    "class Dog(Animal):\n",
    "    def __init__(self):\n",
    "        super().__init__(\"Kennel\")\n",
    "\n",
    "    def sound(self):\n",
    "        print(\"Woof woof!\")\n",
    "\n",
    "\n",
    "x = Dog()\n",
    "x.print_habitat()\n",
    "x.sound()\n",
    "\n"
   ]
  },
  {
   "cell_type": "code",
   "execution_count": null,
   "id": "3dca9eed",
   "metadata": {},
   "outputs": [],
   "source": [
    "class Father():\n",
    "   def skills(self):\n",
    "       print(\"gardening,programming\")\n",
    "\n",
    "class Mother():\n",
    "   def skills(self):\n",
    "       print(\"cooking,art\")\n",
    "\n",
    "class Child(Father,Mother):\n",
    "    def skills(self):\n",
    "        Father.skills(self)\n",
    "        Mother.skills(self)\n",
    "        print(\"sports\")\n",
    "\n",
    "c = Child()\n",
    "c.skills()"
   ]
  },
  {
   "cell_type": "code",
   "execution_count": null,
   "id": "9e9c525c",
   "metadata": {},
   "outputs": [],
   "source": [
    "class Father():\n",
    "   def gardening(self):\n",
    "       print(\"gardening,programming\")\n",
    "\n",
    "class Mother():\n",
    "   def cooking(self):\n",
    "       print(\"cooking,art\")\n",
    "\n",
    "class Child(Father,Mother):\n",
    "    def sports(self):\n",
    "        print(\"sports\")\n",
    "\n",
    "c = Child()\n",
    "c.gardening()\n",
    "c.cooking()\n",
    "c.sports()"
   ]
  },
  {
   "cell_type": "code",
   "execution_count": null,
   "id": "4cd995c8",
   "metadata": {},
   "outputs": [],
   "source": [
    "class Teacher:\n",
    "    def teachers_action(self):\n",
    "        print(\"I can teach\")\n",
    "\n",
    "\n",
    "class Engineer:\n",
    "    def Engineers_action(self):\n",
    "        print(\"I can code\")\n",
    "\n",
    "\n",
    "class Youtuber:\n",
    "    def youtubers_action(self):\n",
    "        print(\"I can code and teach\")\n",
    "\n",
    "\n",
    "class Person(Teacher, Engineer, Youtuber):\n",
    "    pass\n",
    "\n",
    "\n",
    "coder = Person()\n",
    "coder.teachers_action()\n",
    "coder.Engineers_action()\n",
    "coder.youtubers_action()"
   ]
  },
  {
   "cell_type": "code",
   "execution_count": null,
   "id": "04217410",
   "metadata": {},
   "outputs": [],
   "source": [
    "# for making exception just make subclass of Exception\n",
    "class AdultException(Exception):\n",
    "    pass\n",
    "\n",
    "\n",
    "class Person:\n",
    "    def __init__(self, name, age):\n",
    "        self.name = name\n",
    "        self.age = age\n",
    "\n",
    "    def get_minor_age(self):\n",
    "        if int(self.age) >= 18:\n",
    "            raise AdultException\n",
    "        else:\n",
    "            return self.age\n",
    "\n",
    "    def display(self):\n",
    "        try:\n",
    "            print(f\"age -> {self.get_minor_age()}\")\n",
    "        except AdultException:\n",
    "            print(\"Person is an adult\")\n",
    "        finally:\n",
    "            print(f\"name -> {self.name}\")\n",
    "\n",
    "\n",
    "# No exception\n",
    "Person(\"Bhavin\", 17).display()\n",
    "\n"
   ]
  },
  {
   "cell_type": "code",
   "execution_count": null,
   "id": "58923c7f",
   "metadata": {},
   "outputs": [],
   "source": [
    "# AdultException is raised\n",
    "Person(\"Dhaval\", 23).display()"
   ]
  },
  {
   "cell_type": "code",
   "execution_count": null,
   "id": "d67b3e55",
   "metadata": {},
   "outputs": [],
   "source": [
    "class RemoteControl():\n",
    "    def __init__(self):\n",
    "        self.channels = [\"HBO\",\"cnn\",\"abc\",\"espn\"]\n",
    "        self.index = -1\n",
    "\n",
    "    def __iter__(self):\n",
    "        return self\n",
    "\n",
    "    def __next__(self):\n",
    "        self.index += 1\n",
    "        if self.index == len(self.channels):\n",
    "            raise StopIteration\n",
    "\n",
    "        return self.channels[self.index]\n",
    "\n",
    "r = RemoteControl()\n",
    "itr=iter(r)\n",
    "print(next(itr))\n",
    "print(next(itr))\n",
    "print(next(itr))\n",
    "print(next(itr))\n",
    "print(next(itr))"
   ]
  },
  {
   "cell_type": "code",
   "execution_count": null,
   "id": "4f97fe45",
   "metadata": {},
   "outputs": [],
   "source": [
    "class Fibonacci:\n",
    "    def __init__(self, limit):\n",
    "        # default constructor\n",
    "        self.previous = 0\n",
    "        self.current = 1\n",
    "        self.n = 1\n",
    "        self.limit = limit\n",
    "\n",
    "    def __iter__(self):\n",
    "        return self\n",
    "\n",
    "    def __next__(self):\n",
    "        if self.n < self.limit:\n",
    "            result = self.previous + self.current\n",
    "            self.previous = self.current\n",
    "            self.current = result\n",
    "            self.n += 1\n",
    "            return result\n",
    "        else:\n",
    "            raise StopIteration\n",
    "\n",
    "\n",
    "# init the fib_iterator\n",
    "fib_iterator = iter(Fibonacci(5))\n",
    "while True:\n",
    "    # print the value of next fibonacci up to 5th fibonacci\n",
    "    try:\n",
    "        print(next(fib_iterator))\n",
    "    except StopIteration:\n",
    "        break"
   ]
  },
  {
   "cell_type": "code",
   "execution_count": null,
   "id": "fb5bb15f",
   "metadata": {},
   "outputs": [],
   "source": [
    "def next_square():\n",
    "    i = 1\n",
    "    while True:\n",
    "        yield i * i\n",
    "        i += 1\n",
    "\n",
    "\n",
    "for n in next_square():\n",
    "    if n > 25:\n",
    "        break\n",
    "    print(n)"
   ]
  },
  {
   "cell_type": "code",
   "execution_count": null,
   "id": "386f63f7",
   "metadata": {},
   "outputs": [],
   "source": [
    "def fib():\n",
    "    a,b = 0,1\n",
    "    while True:\n",
    "        yield a\n",
    "        print (a)\n",
    "        a,b = b,a+b\n",
    "        print(a,b)\n",
    "for f in fib():\n",
    "    if f>50:\n",
    "        break\n",
    "    print(f)\n",
    "    "
   ]
  },
  {
   "cell_type": "code",
   "execution_count": null,
   "id": "8b33f5dc",
   "metadata": {},
   "outputs": [],
   "source": [
    "set1 = {1, 2, 3, 4, 5}\n",
    "set2 = {4, 5, 6, 7, 8}\n",
    "print(\"Original sets:\")\n",
    "print(set1)\n",
    "print(set2)\n",
    "print(\"Difference of set1 and set2 using difference():\")\n",
    "print(set1.difference(set2))\n",
    "print(\"Difference of set2 and set1 using difference():\")\n",
    "print(set2.difference(set1))\n",
    "print(\"Difference of set1 and set2 using - operator:\")\n",
    "print(set1 - set2)\n",
    "print(\"Difference of set2 and set1 using - operator:\")\n",
    "print(set2 - set1)"
   ]
  },
  {
   "cell_type": "code",
   "execution_count": null,
   "id": "3f1c67eb",
   "metadata": {},
   "outputs": [],
   "source": [
    "# Dictionary\n",
    "integer = [0, 1, 2, 3, 4]\n",
    "binary = [\"0\", \"1\", \"10\", \"11\", \"100\"]\n",
    "\n",
    "z = zip(integer, binary)\n",
    "binary_dict = {integer: binary for integer, binary in z}\n",
    "\n",
    "print(binary_dict)"
   ]
  },
  {
   "cell_type": "code",
   "execution_count": null,
   "id": "c209bed7",
   "metadata": {},
   "outputs": [],
   "source": [
    "# List\n",
    "integer = [1, -1, 2, 3, 5, 0, -7]\n",
    "additive_inverse = [-1*i for i in integer]\n",
    "print(additive_inverse)"
   ]
  },
  {
   "cell_type": "code",
   "execution_count": null,
   "id": "258669c1",
   "metadata": {},
   "outputs": [],
   "source": [
    "# Set\n",
    "integer = [1, -1, 2, -2, 3, -3]\n",
    "sq_set = {i*i for i in integer}\n",
    "print(sq_set)"
   ]
  },
  {
   "cell_type": "markdown",
   "id": "37b85f3c",
   "metadata": {},
   "source": [
    "# Argparse to run the args in command prompt"
   ]
  },
  {
   "cell_type": "code",
   "execution_count": null,
   "id": "3a89c276",
   "metadata": {},
   "outputs": [],
   "source": [
    "import argparse\n",
    "\n",
    "if __name__ == \"__main__\":\n",
    "    parser = argparse.ArgumentParser()\n",
    "    parser.add_argument(\"--number1\", help=\"first number\")\n",
    "    parser.add_argument(\"--number2\", help=\"second number\")\n",
    "    parser.add_argument(\"--operation\", help=\"operation\", \\\n",
    "                        choices=[\"add\",\"subtract\",\"multiply\"])\n",
    "\n",
    "    args = parser.parse_args()\n",
    "\n",
    "    print(args.number1)\n",
    "    print(args.number2)\n",
    "    print(args.operation)\n",
    "\n",
    "    n1=int(args.number1)\n",
    "    n2=int(args.number2)\n",
    "    result = None\n",
    "    if args.operation == \"add\":\n",
    "        result=n1+n2\n",
    "    elif args.operation == \"subtract\":\n",
    "        result=n1-n2\n",
    "    elif args.operation == \"multiply\":\n",
    "        result=n1*n2\n",
    "\n",
    "\n",
    "    print(\"Result:\",result)"
   ]
  },
  {
   "cell_type": "code",
   "execution_count": null,
   "id": "4b7653eb",
   "metadata": {},
   "outputs": [],
   "source": [
    "import argparse\n",
    "\n",
    "if __name__ == \"__main__\":\n",
    "    parser = argparse.ArgumentParser()\n",
    "    parser.add_argument(\"--number1\", help=\"first number\")\n",
    "    parser.add_argument(\"--number2\", help=\"second number\")\n",
    "    parser.add_argument(\"--operation\", help=\"operation\", \\\n",
    "                        choices=[\"add\",\"subtract\",\"multiply\"])\n",
    "\n",
    "    args = parser.parse_args()\n",
    "\n",
    "    print(args.number1)\n",
    "    print(args.number2)\n",
    "    print(args.operation)\n",
    "\n",
    "    n1=int(args.number1)\n",
    "    n2=int(args.number2)\n",
    "    result = None\n",
    "    if args.operation == \"add\":\n",
    "        result=n1+n2\n",
    "    elif args.operation == \"subtract\":\n",
    "        result=n1-n2\n",
    "    elif args.operation == \"multiply\":\n",
    "        result=n1*n2\n",
    "\n",
    "\n",
    "    print(\"Result:\",result)"
   ]
  },
  {
   "cell_type": "code",
   "execution_count": null,
   "id": "e4ca58ca",
   "metadata": {},
   "outputs": [],
   "source": [
    "import argparse\n",
    "\n",
    "if __name__ == \"__main__\":\n",
    "    parser = argparse.ArgumentParser()\n",
    "    parser.add_argument(\"--physics\", help=\"physics marks\")\n",
    "    parser.add_argument(\"--chemistry\", help=\"chemistry marks\")\n",
    "    parser.add_argument(\"--maths\", help=\"maths marks\")\n",
    "\n",
    "    args = parser.parse_args()\n",
    "\n",
    "    print(args.physics)\n",
    "    print(args.chemistry)\n",
    "    print(args.maths)\n",
    "\n",
    "    print(\"Result:\", (\n",
    "        int(args.physics) + int(args.chemistry) + int(args.maths)\n",
    "    ) / 3)\n",
    "\n",
    "    # python3 cmd.py --physics 60 --chemistry 70 --maths 90"
   ]
  },
  {
   "cell_type": "code",
   "execution_count": null,
   "id": "dc8d3f0c",
   "metadata": {},
   "outputs": [],
   "source": [
    "import time\n",
    "def time_it(func):\n",
    "    def wrapper(*args, **kwargs):\n",
    "        start = time.time()\n",
    "        result = func(*args,**kwargs)\n",
    "        end = time.time()\n",
    "        print(func.__name__ +\" took \" + str((end-start)*1000) + \"mil sec\")\n",
    "        return result\n",
    "    return wrapper\n",
    "\n",
    "@time_it\n",
    "def calc_square(numbers):\n",
    "    result = []\n",
    "    for number in numbers:\n",
    "        result.append(number*number)\n",
    "    return result\n",
    "\n",
    "@time_it\n",
    "def calc_cube(numbers):\n",
    "    result = []\n",
    "    for number in numbers:\n",
    "        result.append(number*number*number)\n",
    "    return result\n",
    "\n",
    "array = range(1,100000)\n",
    "out_square = calc_square(array)\n",
    "out_cube = calc_cube(array)"
   ]
  },
  {
   "cell_type": "code",
   "execution_count": null,
   "id": "5fe6a597",
   "metadata": {},
   "outputs": [],
   "source": [
    "out_square = calc_square(array)\n",
    "out_cube = calc_cube(array)"
   ]
  },
  {
   "cell_type": "code",
   "execution_count": null,
   "id": "7d18201e",
   "metadata": {},
   "outputs": [],
   "source": [
    "def check(f):\n",
    "    def helper(x):\n",
    "        if type(x) == int and x > 0:\n",
    "            return f(x)\n",
    "        else:\n",
    "            raise Exception(\"Argument is not a non-negative integer\")\n",
    "\n",
    "    return helper\n",
    "\n",
    "\n",
    "@check\n",
    "def factorial(n):\n",
    "    if n == 1:\n",
    "        return 1\n",
    "    else:\n",
    "        return n * factorial(n - 1)\n",
    "\n",
    "\n",
    "for i in range(1, 10):\n",
    "    print(i, factorial(i))\n",
    "\n",
    "try:\n",
    "    print(factorial(-1))\n",
    "except Exception as e:\n",
    "    e.print_exception()\n",
    "\n",
    "try:\n",
    "    print(factorial(1.354))\n",
    "except Exception as e:\n",
    "    e.print_exception()"
   ]
  },
  {
   "cell_type": "code",
   "execution_count": null,
   "id": "1098f309",
   "metadata": {},
   "outputs": [],
   "source": [
    "import time\n",
    "import threading\n",
    "\n",
    "def calc_square(numbers):\n",
    "    print(\"calculate square numbers\")\n",
    "    for n in numbers:\n",
    "        time.sleep(1)\n",
    "        print('square:',n*n)\n",
    "\n",
    "def calc_cube(numbers):\n",
    "    print(\"calculate cube of numbers\")\n",
    "    for n in numbers:\n",
    "        time.sleep(1)\n",
    "        print('cube:',n*n*n)\n",
    "\n",
    "arr = [2,3,8,9]\n",
    "\n",
    "t = time.time()\n",
    "\n",
    "t1= threading.Thread(target=calc_square, args=(arr,))\n",
    "t2= threading.Thread(target=calc_cube, args=(arr,))\n",
    "\n",
    "t1.start()\n",
    "t2.start()\n",
    "\n",
    "t1.join()\n",
    "t2.join()\n",
    "\n",
    "print(\"done in : \",time.time()-t)\n",
    "print(\"Hah... I am done with all my work now!\")"
   ]
  },
  {
   "cell_type": "code",
   "execution_count": null,
   "id": "6924ef91",
   "metadata": {},
   "outputs": [],
   "source": [
    "import time\n",
    "import threading\n",
    "from threading import Thread\n",
    "\n",
    "def sleepMe(i):\n",
    "    print(\"Thread %i will sleep.\" % i)\n",
    "    time.sleep(5)\n",
    "    print(\"Thread %i is awake\" % i)\n",
    "\n",
    "for i in range(10):\n",
    "    th = Thread(target=sleepMe, args=(i, ))\n",
    "    th.start()\n",
    "    print(\"Current Threads: %i.\" % threading.active_count())"
   ]
  },
  {
   "cell_type": "code",
   "execution_count": null,
   "id": "72703bd5",
   "metadata": {},
   "outputs": [],
   "source": [
    "import multiprocessing\n",
    "\n",
    "def calc_square(numbers, result, v):\n",
    "    v.value = 5.67\n",
    "    for idx, n in enumerate(numbers):\n",
    "        result[idx] = n*n\n",
    "\n",
    "if __name__ == \"__main__\":\n",
    "    numbers = [2,3,5]\n",
    "    result = multiprocessing.Array('i',3)\n",
    "    v = multiprocessing.Value('d', 0.0)\n",
    "    p = multiprocessing.Process(target=calc_square, args=(numbers, result, v))\n",
    "\n",
    "    p.start()\n",
    "    p.join()\n",
    "\n",
    "    print(v.value)"
   ]
  },
  {
   "cell_type": "code",
   "execution_count": null,
   "id": "bc507019",
   "metadata": {},
   "outputs": [],
   "source": [
    "import multiprocessing\n",
    "\n",
    "def calc_square(numbers, result, v):\n",
    "    v.value = 5.67\n",
    "    for idx, n in enumerate(numbers):\n",
    "        result[idx] = n*n\n",
    "\n",
    "if __name__ == \"__main__\":\n",
    "    numbers = [2,3,5]\n",
    "    result = multiprocessing.Array('i',3)\n",
    "    v = multiprocessing.Value('d', 0.0)\n",
    "    p = multiprocessing.Process(target=calc_square, args=(numbers, result, v))\n",
    "\n",
    "    p.start()\n",
    "    p.join()\n",
    "\n",
    "    print(v.value)"
   ]
  },
  {
   "cell_type": "code",
   "execution_count": null,
   "id": "62141e71",
   "metadata": {},
   "outputs": [],
   "source": [
    "import multiprocessing\n",
    "\n",
    "def calc_square(numbers, q):\n",
    "    for n in numbers:\n",
    "        q.put(n*n)\n",
    "\n",
    "if __name__ == \"__main__\":\n",
    "    numbers = [2,3,5]\n",
    "    q = multiprocessing.Queue()\n",
    "    p = multiprocessing.Process(target=calc_square, args=(numbers,q))\n",
    "\n",
    "    p.start()\n",
    "    p.join()\n",
    "\n",
    "    while q.empty() is False:\n",
    "        print(q.get())"
   ]
  },
  {
   "cell_type": "code",
   "execution_count": null,
   "id": "0944abba",
   "metadata": {},
   "outputs": [],
   "source": [
    "import time\n",
    "import multiprocessing\n",
    "\n",
    "def deposit(balance, lock):\n",
    "    for i in range(100):\n",
    "        time.sleep(0.01)\n",
    "        lock.acquire()\n",
    "        balance.value = balance.value + 1\n",
    "        lock.release()\n",
    "\n",
    "def withdraw(balance, lock):\n",
    "    for i in range(100):\n",
    "        time.sleep(0.01)\n",
    "        lock.acquire()\n",
    "        balance.value = balance.value - 1\n",
    "        lock.release()\n",
    "\n",
    "if __name__ == '__main__':\n",
    "    balance = multiprocessing.Value('i', 200)\n",
    "    lock = multiprocessing.Lock()\n",
    "    d = multiprocessing.Process(target=deposit, args=(balance,lock))\n",
    "    w = multiprocessing.Process(target=withdraw, args=(balance,lock))\n",
    "    d.start()\n",
    "    w.start()\n",
    "    d.join()\n",
    "    w.join()\n",
    "    print(balance.value)"
   ]
  },
  {
   "cell_type": "code",
   "execution_count": null,
   "id": "04a90f31",
   "metadata": {},
   "outputs": [],
   "source": [
    "# parallel computations\n",
    "\n",
    "from multiprocessing import Pool\n",
    "\n",
    "\n",
    "def f(n):\n",
    "    return n*n\n",
    "\n",
    "if __name__ == \"__main__\":\n",
    "    p = Pool(processes=3)\n",
    "    result = p.map(f,[1,2,3,4,5])\n",
    "    for n in result:\n",
    "        print(n)"
   ]
  },
  {
   "cell_type": "code",
   "execution_count": 1,
   "id": "11f36910",
   "metadata": {},
   "outputs": [
    {
     "data": {
      "text/plain": [
       "'C:\\\\Users\\\\chait'"
      ]
     },
     "execution_count": 1,
     "metadata": {},
     "output_type": "execute_result"
    }
   ],
   "source": [
    "pwd"
   ]
  },
  {
   "cell_type": "code",
   "execution_count": null,
   "id": "3f51877e",
   "metadata": {},
   "outputs": [],
   "source": []
  }
 ],
 "metadata": {
  "kernelspec": {
   "display_name": "Python 3 (ipykernel)",
   "language": "python",
   "name": "python3"
  },
  "language_info": {
   "codemirror_mode": {
    "name": "ipython",
    "version": 3
   },
   "file_extension": ".py",
   "mimetype": "text/x-python",
   "name": "python",
   "nbconvert_exporter": "python",
   "pygments_lexer": "ipython3",
   "version": "3.9.7"
  }
 },
 "nbformat": 4,
 "nbformat_minor": 5
}
